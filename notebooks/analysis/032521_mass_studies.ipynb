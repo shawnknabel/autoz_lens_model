{
 "cells": [
  {
   "cell_type": "markdown",
   "id": "conscious-formula",
   "metadata": {},
   "source": [
    "# 3/25/21 - This notebook extracts information about total mass, stellar mass, and dark mass within the Einstein radius of completed models."
   ]
  },
  {
   "cell_type": "code",
   "execution_count": 6,
   "id": "manufactured-keeping",
   "metadata": {},
   "outputs": [
    {
     "name": "stderr",
     "output_type": "stream",
     "text": [
      "In /soft/anaconda3/lib/python3.7/site-packages/matplotlib/mpl-data/stylelib/_classic_test.mplstyle: \n",
      "The text.latex.preview rcparam was deprecated in Matplotlib 3.3 and will be removed two minor releases later.\n",
      "In /soft/anaconda3/lib/python3.7/site-packages/matplotlib/mpl-data/stylelib/_classic_test.mplstyle: \n",
      "The mathtext.fallback_to_cm rcparam was deprecated in Matplotlib 3.3 and will be removed two minor releases later.\n",
      "In /soft/anaconda3/lib/python3.7/site-packages/matplotlib/mpl-data/stylelib/_classic_test.mplstyle: Support for setting the 'mathtext.fallback_to_cm' rcParam is deprecated since 3.3 and will be removed two minor releases later; use 'mathtext.fallback : 'cm' instead.\n",
      "In /soft/anaconda3/lib/python3.7/site-packages/matplotlib/mpl-data/stylelib/_classic_test.mplstyle: \n",
      "The validate_bool_maybe_none function was deprecated in Matplotlib 3.3 and will be removed two minor releases later.\n",
      "In /soft/anaconda3/lib/python3.7/site-packages/matplotlib/mpl-data/stylelib/_classic_test.mplstyle: \n",
      "The savefig.jpeg_quality rcparam was deprecated in Matplotlib 3.3 and will be removed two minor releases later.\n",
      "In /soft/anaconda3/lib/python3.7/site-packages/matplotlib/mpl-data/stylelib/_classic_test.mplstyle: \n",
      "The keymap.all_axes rcparam was deprecated in Matplotlib 3.3 and will be removed two minor releases later.\n",
      "In /soft/anaconda3/lib/python3.7/site-packages/matplotlib/mpl-data/stylelib/_classic_test.mplstyle: \n",
      "The animation.avconv_path rcparam was deprecated in Matplotlib 3.3 and will be removed two minor releases later.\n",
      "In /soft/anaconda3/lib/python3.7/site-packages/matplotlib/mpl-data/stylelib/_classic_test.mplstyle: \n",
      "The animation.avconv_args rcparam was deprecated in Matplotlib 3.3 and will be removed two minor releases later.\n"
     ]
    },
    {
     "name": "stdout",
     "output_type": "stream",
     "text": [
      "You are here: /data/sknabel/autoz_lens_model\n"
     ]
    }
   ],
   "source": [
    "# libraries\n",
    "\n",
    "from pyprojroot import here\n",
    "print(f'You are here: {here()}')\n",
    "\n",
    "import matplotlib.pyplot as plt\n",
    "from autoconf import conf\n",
    "import autolens as al\n",
    "import autolens.plot as aplt\n",
    "import autofit as af\n",
    "import pandas as pd\n",
    "pd.set_option('display.max_rows', None)\n",
    "pd.set_option('display.max_columns', None)\n",
    "import numpy as np\n",
    "from astropy.io import fits\n",
    "from astropy.visualization import astropy_mpl_style\n",
    "plt.style.use(astropy_mpl_style)\n",
    "import scipy.stats as stats\n",
    "from astropy.stats import sigma_clip as clip\n",
    "\n",
    "from pyprojroot import here\n",
    "\n",
    "%matplotlib inline\n",
    "\n",
    "from astropy import constants as const\n",
    "from astropy.io import fits\n",
    "import astropy.units as u\n",
    "from astropy.cosmology import FlatLambdaCDM, z_at_value\n",
    "\n",
    "c = const.c.to('km/s').value #c in km/s\n",
    "h0 = 73.8 #h0 in km/(Mpc*s) Riess2011\n",
    "cosmo = FlatLambdaCDM(h0, Om0=0.262)\n",
    "\n",
    "# paths\n",
    "autoz_path = f'{here()}/'\n",
    "config_path = f'{here()}/config'\n",
    "conf.instance.push(new_path=config_path)\n",
    "file_path = f'{autoz_path}files/'\n",
    "csv_path = f'{file_path}csv/'\n",
    "fits_path = f'{file_path}fits/'\n",
    "latest_path = f'{csv_path}latest/'\n",
    "visual_path = f'{autoz_path}visuals/'\n",
    "png_path = f'{visual_path}png/'\n",
    "pdf_path = f'{visual_path}pdf/'\n",
    "knabel2020_file_path = '/data/sknabel/lens_methods/files/'\n",
    "output_path = f'{autoz_path}output/'"
   ]
  },
  {
   "cell_type": "code",
   "execution_count": 2,
   "id": "configured-grant",
   "metadata": {},
   "outputs": [],
   "source": [
    "# define function\n",
    "\n",
    "def extract_mass (instance):\n",
    "\n",
    "    # lens and source galaxies\n",
    "    lens_galaxy = instance.galaxies.lens\n",
    "    source_galaxy = instance.galaxies.source\n",
    "    # einstein radius and masses in angular units\n",
    "    einstein_radius = lens_galaxy.einstein_radius_from_grid(grid=grid)\n",
    "    einstein_mass_ang = lens_galaxy.einstein_mass_angular_from_grid(grid=grid)\n",
    "    stellar_mass_ang = lens_galaxy.stellar_mass_angular_within_circle(radius=einstein_radius)\n",
    "    dark_mass_ang = lens_galaxy.dark_mass_angular_within_circle(radius=einstein_radius)\n",
    "    # critical surface density to convert masses to solar masses\n",
    "    critical_surface_density = al.util.cosmology.critical_surface_density_between_redshifts_from(\n",
    "        redshift_0=lens_galaxy.redshift,\n",
    "        redshift_1=source_galaxy.redshift,\n",
    "        cosmology=cosmo,\n",
    "    )\n",
    "    # masses in solar masses\n",
    "    einstein_mass = einstein_mass_ang * critical_surface_density\n",
    "    stellar_mass = stellar_mass_ang * critical_surface_density\n",
    "    dark_mass = dark_mass_ang * critical_surface_density\n",
    "    stellar_plus_dark_mass = stellar_mass + dark_mass # just to see if they're the same!\n",
    "    # masses fractions\n",
    "    stellar_fraction = stellar_mass / (stellar_plus_dark_mass)\n",
    "    dark_fraction = dark_mass / (stellar_plus_dark_mass)\n",
    "    \n",
    "    # print results\n",
    "    print(f'Einstein radius: {einstein_radius}')\n",
    "    print(f'Einstein mass: {einstein_mass}')\n",
    "    print(f'Stellar mass: {stellar_mass}')\n",
    "    print(f'Dark mass: {dark_mass}')\n",
    "    print(f'Stellar + Dark mass: {stellar_plus_dark_mass}')\n",
    "    print(f'Stellar fraction: {stellar_fraction}')\n",
    "    print(f'Dark fraction: {dark_fraction}')\n",
    "    \n",
    "    print()\n",
    "    print(\"Can't build there!\")\n",
    "\n",
    "    return(einstein_radius.tolist(), \n",
    "           einstein_mass[0], \n",
    "           stellar_mass[0], \n",
    "           dark_mass[0], \n",
    "           stellar_plus_dark_mass[0], \n",
    "           stellar_fraction[0], \n",
    "           dark_fraction[0])"
   ]
  },
  {
   "cell_type": "code",
   "execution_count": 3,
   "id": "precious-threat",
   "metadata": {},
   "outputs": [
    {
     "name": "stdout",
     "output_type": "stream",
     "text": [
      "Empty DataFrame\n",
      "Columns: [GAMA_ID, ID, einstein_radius, einstein_mass, stellar_mass, dark_mass, stellar_plus_dark_mass, stellar_fraction, dark_fraction]\n",
      "Index: []\n"
     ]
    }
   ],
   "source": [
    "# set up empty dataframe\n",
    "masses = pd.DataFrame(np.zeros(shape=(0,9)), columns = ['GAMA_ID', \n",
    "                                              'ID', \n",
    "                                              'einstein_radius',\n",
    "                                             'einstein_mass',\n",
    "                                             'stellar_mass',\n",
    "                                             'dark_mass',\n",
    "                                             'stellar_plus_dark_mass',\n",
    "                                             'stellar_fraction',\n",
    "                                             'dark_fraction'])\n",
    "\n",
    "#masses.loc[-1] = [1, 2, 3, 4, 5, 6, 7, 8, 9]  # adding a row\n",
    "#masses.index = masses.index + 1  # shifting index\n",
    "#masses = masses.sort_index()  # sorting by index\n",
    "print(masses)"
   ]
  },
  {
   "cell_type": "code",
   "execution_count": 47,
   "id": "mighty-injection",
   "metadata": {},
   "outputs": [
    {
     "name": "stdout",
     "output_type": "stream",
     "text": [
      "Ah! Ya scared me!\n",
      "GAMA ID?\n"
     ]
    },
    {
     "name": "stdin",
     "output_type": "stream",
     "text": [
      " 3891172\n"
     ]
    },
    {
     "name": "stdout",
     "output_type": "stream",
     "text": [
      "LinKS ID?\n"
     ]
    },
    {
     "name": "stdin",
     "output_type": "stream",
     "text": [
      " 3056\n"
     ]
    },
    {
     "name": "stdout",
     "output_type": "stream",
     "text": [
      "You got it!\n",
      "Aggregator loading phases... could take some time.\n",
      "\n",
      " A total of 3 phases and results were found.\n",
      "Filter found a total of 1 results\n",
      "<autofit.mapper.model.ModelInstance object at 0x7f16697e3438>\n",
      "Einstein radius: 1.161351220000206\n",
      "Einstein mass: [3.9105827e+11]\n",
      "Stellar mass: [2.17422971e+11]\n",
      "Dark mass: [1.89408701e+11]\n",
      "Stellar + Dark mass: [4.06831672e+11]\n",
      "Stellar fraction: [0.53442981]\n",
      "Dark fraction: [0.46557019]\n",
      "\n",
      "Can't build there!\n",
      "9\n",
      "     GAMA_ID      ID  einstein_radius  einstein_mass  stellar_mass  \\\n",
      "0  3891172.0  3056.0         1.161351   3.910583e+11  2.174230e+11   \n",
      "1   250289.0  2730.0         1.540347   7.228025e+11  4.365238e+11   \n",
      "2   250289.0  2730.0         1.203267   7.211000e+11  4.134884e+11   \n",
      "3   250289.0  2730.0         0.698010   1.253757e+11  6.523529e+10   \n",
      "4   250289.0  2730.0         1.161351   3.910583e+11  2.174230e+11   \n",
      "5   250289.0  2730.0         0.964081   1.332862e+11  6.384931e+10   \n",
      "6   250289.0  2730.0         1.522282   7.627499e+11  5.048455e+11   \n",
      "\n",
      "      dark_mass  stellar_plus_dark_mass  stellar_fraction  dark_fraction  \n",
      "0  1.894087e+11            4.068317e+11          0.534430       0.465570  \n",
      "1  2.917644e+11            7.282881e+11          0.599383       0.400617  \n",
      "2  3.184552e+11            7.319437e+11          0.564918       0.435082  \n",
      "3  6.206128e+10            1.272966e+11          0.512467       0.487533  \n",
      "4  1.894087e+11            4.068317e+11          0.534430       0.465570  \n",
      "5  6.964866e+10            1.334980e+11          0.478279       0.521721  \n",
      "6  2.587025e+11            7.635480e+11          0.661184       0.338816  \n"
     ]
    }
   ],
   "source": [
    "# extract from one output folder\n",
    "# identify gama id and links id\n",
    "\n",
    "print('Ah! Ya scared me!')\n",
    "print('GAMA ID?')\n",
    "gama_id = int(input())\n",
    "print('LinKS ID?')\n",
    "links_id = int(input())\n",
    "#print('Phase folder identifier? (for agg filter)')\n",
    "#filter_words = input()\n",
    "print('You got it!')\n",
    "\n",
    "model_path = f'{output_path}G{gama_id}_{links_id}/'\n",
    "\n",
    "# specify grid\n",
    "grid = al.Grid2D.uniform(shape_native=(101, 101), pixel_scales=0.2)\n",
    "\n",
    "# load samples with aggregator\n",
    "agg = af.Aggregator(directory=model_path)\n",
    "agg_filter = agg.filter(agg.directory.contains('black_spot'))\n",
    "\n",
    "# take median pdf instance\n",
    "mpdf_instances = [samps.median_pdf_instance for samps in agg_filter.values(\"samples\")]\n",
    "\n",
    "for instance in mpdf_instances:\n",
    "    print(instance)\n",
    "    mass_output = list(extract_mass(instance))\n",
    "    # insert gama and links ids at front\n",
    "    mass_output.insert(0, links_id)\n",
    "    mass_output.insert(0, gama_id)\n",
    "    print(len(mass_output))\n",
    "    # append masses dataframe\n",
    "    masses.loc[-1] = mass_output  # adding a row\n",
    "    masses.index = masses.index + 1  # shifting index\n",
    "    masses = masses.sort_index()  # sorting by index\n",
    "    print(masses)\n",
    "    \n",
    "    "
   ]
  },
  {
   "cell_type": "code",
   "execution_count": 119,
   "id": "double-thumbnail",
   "metadata": {},
   "outputs": [
    {
     "name": "stdout",
     "output_type": "stream",
     "text": [
      "     GAMA_ID      ID  einstein_radius  einstein_mass  stellar_mass  \\\n",
      "1  3891172.0  3056.0         1.161351   3.910583e+11  2.174230e+11   \n",
      "2   262874.0    26.0         0.698010   1.253757e+11  6.523529e+10   \n",
      "3   138582.0  2828.0         1.203267   7.211000e+11  4.134884e+11   \n",
      "\n",
      "      dark_mass  stellar_plus_dark_mass  stellar_fraction  dark_fraction  \n",
      "1  1.894087e+11            4.068317e+11          0.534430       0.465570  \n",
      "2  6.206128e+10            1.272966e+11          0.512467       0.487533  \n",
      "3  3.184552e+11            7.319437e+11          0.564918       0.435082  \n"
     ]
    }
   ],
   "source": [
    "print(masses)"
   ]
  },
  {
   "cell_type": "code",
   "execution_count": 6,
   "id": "communist-stretch",
   "metadata": {},
   "outputs": [
    {
     "data": {
      "text/plain": [
       "Index(['Unnamed: 0', 'Unnamed: 0.1', 'Unnamed: 0_x', 'GAMA_ID', 'ID', 'RA_x',\n",
       "       'DEC_x', 'score', 'Unnamed: 0_y', 'z1', 'sigma1', 'template1', 'z2',\n",
       "       'sigma2', 'template2', 'sigma3', 'sigma4', 'R', 'prob', 'error', 'type',\n",
       "       'type_number', 'lambdar_log_mstar', 'lambdar_mstar',\n",
       "       'lambdar_log_mstar_error', 'z', 'zlens', 'zsource', 'sigma_lens',\n",
       "       'sigma_source', 'dlens', 'dsource', 'corrected_stellar_mass', 'P1',\n",
       "       'P3', 'normalized_score', 'cnn_probability', 'm_half_re', 'sigma_star',\n",
       "       'theta_e_pm', 'theta_e_sis', 'KIDS_ID', 'mag', 'mag_err', 'name',\n",
       "       'num_0', 'probability', 'rms', 's*p/10', 'z_max', 'z_min', 'zphot',\n",
       "       'RA_y', 'DEC_y', 'Z', 'Rpetro', 'DM_100_25_75', 'SURVEY_CODE', 'SigErr',\n",
       "       'GroupID', 'RankIterCen', 'SepIterCen', 'CoSepIterCen', 'AngSepIterCen',\n",
       "       'RankBCG', 'SepBCG', 'CoSepBCG', 'AngSepBCG', 'RankCen', 'SepCen',\n",
       "       'CoSepCen', 'AngSepCen'],\n",
       "      dtype='object')"
      ]
     },
     "execution_count": 6,
     "metadata": {},
     "output_type": "execute_result"
    }
   ],
   "source": [
    "# load group catalog\n",
    "groups = pd.read_csv(f'{csv_path}candidates_groups.csv')\n",
    "groups.columns"
   ]
  },
  {
   "cell_type": "code",
   "execution_count": 121,
   "id": "legitimate-remark",
   "metadata": {},
   "outputs": [
    {
     "name": "stdout",
     "output_type": "stream",
     "text": [
      "     GAMA_ID    ID_x  einstein_radius  einstein_mass  stellar_mass  \\\n",
      "0  3891172.0  3056.0         1.161351   3.910583e+11  2.174230e+11   \n",
      "1   262874.0    26.0         0.698010   1.253757e+11  6.523529e+10   \n",
      "2   138582.0  2828.0         1.203267   7.211000e+11  4.134884e+11   \n",
      "\n",
      "      dark_mass  stellar_plus_dark_mass  stellar_fraction  dark_fraction  \\\n",
      "0  1.894087e+11            4.068317e+11          0.534430       0.465570   \n",
      "1  6.206128e+10            1.272966e+11          0.512467       0.487533   \n",
      "2  3.184552e+11            7.319437e+11          0.564918       0.435082   \n",
      "\n",
      "   Unnamed: 0  Unnamed: 0.1  Unnamed: 0_x    ID_y       RA_x    DEC_x  score  \\\n",
      "0          32            32            15  3056.0  139.22725 -1.54519   16.0   \n",
      "1          34            34           329    26.0  221.61067  2.22389   12.0   \n",
      "2          27            27           171  2828.0  183.14009 -1.82700   14.0   \n",
      "\n",
      "   Unnamed: 0_y        z1    sigma1  template1        z2    sigma2  template2  \\\n",
      "0       60082.0  0.339517  8.936283       40.0  0.609052  4.309550       40.0   \n",
      "1      139125.0  0.385581  6.221604       40.0  0.858924  3.421708       41.0   \n",
      "2       74160.0  0.325175  9.727863       44.0  0.432648  4.904557       47.0   \n",
      "\n",
      "     sigma3    sigma4         R      prob      error       type  type_number  \\\n",
      "0  2.948903  2.948903  1.461408  0.999991  50.430428    PG + PG            4   \n",
      "1  2.811662  2.811662  1.216970  0.999163  65.073204    PG + PG            4   \n",
      "2  3.701862  3.701862  1.324889  0.999947  35.335026  ELG + ELG            3   \n",
      "\n",
      "   lambdar_log_mstar  lambdar_mstar  lambdar_log_mstar_error        z  \\\n",
      "0          11.422040   2.642652e+11                 0.119275  0.33952   \n",
      "1          11.252039   1.786648e+11                 0.128782  0.38552   \n",
      "2          11.563930   3.663782e+11                 0.120264  0.32537   \n",
      "\n",
      "      zlens   zsource  sigma_lens  sigma_source        dlens      dsource  \\\n",
      "0  0.339517  0.609052    8.936283      4.309550   956.385867  1338.188778   \n",
      "1  0.385581  0.858924    6.221604      3.421708  1038.698801  1535.048768   \n",
      "2  0.325175  0.432648    9.727863      4.904557   929.006684  1114.609177   \n",
      "\n",
      "   corrected_stellar_mass     P1     P3  normalized_score  cnn_probability  \\\n",
      "0            2.642652e+11  0.906  0.807          0.228571            0.906   \n",
      "1            1.786648e+11    NaN  0.986          0.171429            0.986   \n",
      "2            3.663782e+11  0.975  0.986          0.200000            0.986   \n",
      "\n",
      "      m_half_re  sigma_star  theta_e_pm  theta_e_sis KIDS_ID  mag  mag_err  \\\n",
      "0  2.084216e+11  249.765952    0.710912     0.514473     NaN  NaN      NaN   \n",
      "1  1.277737e+11  223.749950    0.568603     0.467914     NaN  NaN      NaN   \n",
      "2  3.135484e+11  273.781570    0.675886     0.360781     NaN  NaN      NaN   \n",
      "\n",
      "  name  num_0  probability  rms  s*p/10  z_max  z_min  zphot        RA_y  \\\n",
      "0  NaN    NaN          NaN  NaN     NaN    NaN    NaN    NaN  139.227171   \n",
      "1  NaN    NaN          NaN  NaN     NaN    NaN    NaN    NaN  221.610700   \n",
      "2  NaN    NaN          NaN  NaN     NaN    NaN    NaN    NaN  183.139927   \n",
      "\n",
      "      DEC_y         Z     Rpetro  DM_100_25_75  SURVEY_CODE     SigErr  \\\n",
      "0 -1.545249  0.340959  18.953240     40.530354          5.0  50.430428   \n",
      "1  2.223897  0.386515  19.191020     40.852740          5.0  45.550365   \n",
      "2 -1.826983  0.326938  18.391932     40.423200          1.0  12.750370   \n",
      "\n",
      "   GroupID  RankIterCen  SepIterCen  CoSepIterCen  AngSepIterCen  RankBCG  \\\n",
      "0      0.0       -999.0      -999.0        -999.0         -999.0   -999.0   \n",
      "1      0.0       -999.0      -999.0        -999.0         -999.0   -999.0   \n",
      "2      0.0       -999.0      -999.0        -999.0         -999.0   -999.0   \n",
      "\n",
      "   SepBCG  CoSepBCG  AngSepBCG  RankCen  SepCen  CoSepCen  AngSepCen  \n",
      "0  -999.0    -999.0     -999.0   -999.0  -999.0    -999.0     -999.0  \n",
      "1  -999.0    -999.0     -999.0   -999.0  -999.0    -999.0     -999.0  \n",
      "2  -999.0    -999.0     -999.0   -999.0  -999.0    -999.0     -999.0  \n"
     ]
    }
   ],
   "source": [
    "# merge masses and groups\n",
    "fdm_groups = pd.merge(masses, groups, how='left', on='GAMA_ID')\n",
    "print(fdm_groups)"
   ]
  },
  {
   "cell_type": "code",
   "execution_count": 136,
   "id": "improved-negotiation",
   "metadata": {},
   "outputs": [
    {
     "data": {
      "text/plain": [
       "<matplotlib.collections.PathCollection at 0x7f5a33abd7f0>"
      ]
     },
     "execution_count": 136,
     "metadata": {},
     "output_type": "execute_result"
    },
    {
     "data": {
      "image/png": "[encoded data removed]",
      "text/plain": [
       "<Figure size 432x288 with 4 Axes>"
      ]
     },
     "metadata": {
      "needs_background": "light"
     },
     "output_type": "display_data"
    }
   ],
   "source": [
    "fig, axs = plt.subplots(2, 2)\n",
    "axs[0,0].scatter(np.log10(fdm_groups.stellar_mass), fdm_groups.dark_fraction, color='blue')\n",
    "axs[0,0].scatter(fdm_groups.lambdar_log_mstar, fdm_groups.dark_fraction)\n",
    "axs[0,1].scatter(fdm_groups.zlens, fdm_groups.dark_fraction)\n"
   ]
  },
  {
   "cell_type": "code",
   "execution_count": 201,
   "id": "blank-child",
   "metadata": {},
   "outputs": [
    {
     "data": {
      "text/plain": [
       "array([0. , 0.1, 0.2, 0.3, 0.4, 0.5, 0.6, 0.7, 0.8, 0.9, 1. ])"
      ]
     },
     "execution_count": 201,
     "metadata": {},
     "output_type": "execute_result"
    }
   ],
   "source": [
    "np.linspace(0,1,11)"
   ]
  },
  {
   "cell_type": "code",
   "execution_count": 220,
   "id": "emerging-demonstration",
   "metadata": {},
   "outputs": [
    {
     "data": {
      "text/plain": [
       "<matplotlib.legend.Legend at 0x7f59fc592208>"
      ]
     },
     "execution_count": 220,
     "metadata": {},
     "output_type": "execute_result"
    },
    {
     "data": {
      "image/png": "[encoded data removed]",
      "text/plain": [
       "<Figure size 576x432 with 2 Axes>"
      ]
     },
     "metadata": {
      "needs_background": "light"
     },
     "output_type": "display_data"
    }
   ],
   "source": [
    "c = fdm_groups.dark_fraction\n",
    "mass_err = fdm_groups.lambdar_log_mstar - np.log10(fdm_groups.stellar_mass)\n",
    "\n",
    "\n",
    "figure, axs = plt.subplots(figsize=(8, 6))\n",
    "axs.errorbar(np.log10(fdm_groups.stellar_mass), fdm_groups.zlens, \n",
    "                       xerr=mass_err,\n",
    "                       marker='.', \n",
    "                         color='k',\n",
    "                       linestyle='None',\n",
    "                         ecolor='k',\n",
    "                      xlolims = True,\n",
    "                      label = None,\n",
    "                      alpha = 0.5,\n",
    "                        zorder=-1)\n",
    "scatter = axs.scatter(np.log10(fdm_groups.stellar_mass), fdm_groups.zlens, \n",
    "                     marker='o',\n",
    "                     edgecolor='black',\n",
    "                     s=250,\n",
    "                      c=c,\n",
    "                     cmap='plasma',)\n",
    "                     #label='Model stellar mass')\n",
    "axs.scatter(fdm_groups.lambdar_log_mstar, fdm_groups.zlens, \n",
    "                     marker='s',\n",
    "                     edgecolor='black',\n",
    "                     s=200,\n",
    "                      c=c,\n",
    "                     cmap='plasma',)\n",
    "                     #label='GAMA observed stellar mass')\n",
    "axs.scatter(0, 0, \n",
    "                     marker='o',\n",
    "                     edgecolor='black',\n",
    "                     s=250,\n",
    "                      c='None',\n",
    "                     label='Model stellar mass w/in Einstein Radius')\n",
    "axs.scatter(0, 0, \n",
    "                     marker='s',\n",
    "                     edgecolor='black',\n",
    "                     s=200,\n",
    "                      c='None',\n",
    "                     label='GAMA observed total stellar mass')\n",
    "plt.colorbar(scatter, label='Fraction of Dark Matter',)\n",
    "axs.set_title('Fraction of Dark Matter at Lens Redshift and Stellar Mass', fontsize=16)\n",
    "axs.set_xlabel(r'Stellar Mass $log(M_*/M_\\odot)$', fontsize=16)\n",
    "axs.set_ylabel(r'Lens Redshift $z$', fontsize=16)\n",
    "axs.set_xlim(10.75, 11.75)\n",
    "axs.set_ylim(0.2, 0.6)\n",
    "axs.legend(fontsize=12,\n",
    "           labelspacing = 1.0)\n",
    "\n",
    "#plt.savefig(f'{png_path}group_mass_to_stellar_mass.png')"
   ]
  },
  {
   "cell_type": "code",
   "execution_count": 221,
   "id": "twenty-folder",
   "metadata": {},
   "outputs": [
    {
     "data": {
      "text/plain": [
       "<matplotlib.legend.Legend at 0x7f5a14650c88>"
      ]
     },
     "execution_count": 221,
     "metadata": {},
     "output_type": "execute_result"
    },
    {
     "data": {
      "image/png": "[encoded data removed]",
      "text/plain": [
       "<Figure size 576x432 with 1 Axes>"
      ]
     },
     "metadata": {
      "needs_background": "light"
     },
     "output_type": "display_data"
    }
   ],
   "source": [
    "mass_err = fdm_groups.lambdar_log_mstar - np.log10(fdm_groups.stellar_mass)\n",
    "\n",
    "\n",
    "figure, axs = plt.subplots(figsize=(8, 6))\n",
    "axs.errorbar(np.log10(fdm_groups.stellar_mass), fdm_groups.dark_fraction, \n",
    "                       xerr=mass_err,\n",
    "                       marker='.', \n",
    "                         color='k',\n",
    "                       linestyle='None',\n",
    "                         ecolor='k',\n",
    "                      xlolims = True,\n",
    "                      label = None,\n",
    "                      alpha = 0.5,\n",
    "                        zorder=-1)\n",
    "scatter = axs.scatter(np.log10(fdm_groups.stellar_mass), fdm_groups.dark_fraction, \n",
    "                     marker='o',\n",
    "                     edgecolor='black',\n",
    "                     s=250,\n",
    "                      #c=c,\n",
    "                     #cmap='plasma',)\n",
    "                     label='Model stellar mass w/in Einstein Radius')\n",
    "axs.scatter(fdm_groups.lambdar_log_mstar, fdm_groups.dark_fraction, \n",
    "                     marker='s',\n",
    "                     edgecolor='black',\n",
    "                     s=200,\n",
    "                      #c=c,\n",
    "                     #cmap='plasma',)\n",
    "                     label='GAMA observed total stellar mass')\n",
    "#plt.colorbar(scatter, label='Fraction of Dark Matter',)\n",
    "axs.set_title('Fraction of Dark Matter vs. Stellar Mass', fontsize=16)\n",
    "axs.set_xlabel(r'Stellar Mass $log(M_*/M_\\odot)$', fontsize=16)\n",
    "axs.set_ylabel(r'Fraction Dark Matter', fontsize=16)\n",
    "axs.set_xlim(10.75, 11.75)\n",
    "axs.set_ylim(0.0, 1.0)\n",
    "axs.legend(fontsize=12,\n",
    "           labelspacing = 1.0)"
   ]
  },
  {
   "cell_type": "markdown",
   "id": "collected-fossil",
   "metadata": {},
   "source": [
    "# Iterate through all output folders marked with the black spot! (Billlly Bones, I know it's you!)"
   ]
  },
  {
   "cell_type": "code",
   "execution_count": 40,
   "id": "selective-spanking",
   "metadata": {},
   "outputs": [
    {
     "name": "stdout",
     "output_type": "stream",
     "text": [
      "544226 3212\n",
      "3891172 3056\n",
      "262874 26\n",
      "138582 2828\n",
      "3629152 1933\n",
      "600305 245\n",
      "585328 3234\n",
      "250289 2730\n"
     ]
    }
   ],
   "source": [
    "for i in range(len(agg_filter.phases)):\n",
    "    gama_id, links_id = agg_filter.phases[i].file_path.split('/')[5][1:].split('_')\n",
    "    print(gama_id, links_id)"
   ]
  },
  {
   "cell_type": "code",
   "execution_count": 5,
   "id": "european-charles",
   "metadata": {},
   "outputs": [
    {
     "name": "stdout",
     "output_type": "stream",
     "text": [
      "Ah! Ya scared me!\n",
      "Phase folder identifier? (for agg filter)\n"
     ]
    },
    {
     "name": "stdin",
     "output_type": "stream",
     "text": [
      " black_spot\n"
     ]
    },
    {
     "name": "stdout",
     "output_type": "stream",
     "text": [
      "You got it!\n",
      "Empty DataFrame\n",
      "Columns: [GAMA_ID, ID, einstein_radius, einstein_mass, stellar_mass, dark_mass, stellar_plus_dark_mass, stellar_fraction, dark_fraction]\n",
      "Index: []\n",
      "Aggregator loading phases... could take some time.\n",
      "\n",
      " A total of 188 phases and results were found.\n",
      "Filter found a total of 7 results\n",
      "Order's received.\n",
      "GAMA ID: 544226, LinKS ID: 3212\n"
     ]
    },
    {
     "name": "stderr",
     "output_type": "stream",
     "text": [
      "INFO:numexpr.utils:Note: NumExpr detected 40 cores but \"NUMEXPR_MAX_THREADS\" not set, so enforcing safe limit of 8.\n",
      "INFO:numexpr.utils:NumExpr defaulting to 8 threads.\n"
     ]
    },
    {
     "name": "stdout",
     "output_type": "stream",
     "text": [
      "Einstein radius: 0.9640808224533204\n",
      "Einstein mass: [1.33286159e+11]\n",
      "Stellar mass: [6.3849313e+10]\n",
      "Dark mass: [6.96486635e+10]\n",
      "Stellar + Dark mass: [1.33497977e+11]\n",
      "Stellar fraction: [0.47827926]\n",
      "Dark fraction: [0.52172074]\n",
      "\n",
      "Can't build there!\n",
      "Job's finished!\n",
      "Order's received.\n",
      "GAMA ID: 3891172, LinKS ID: 3056\n",
      "Einstein radius: 1.161351220000206\n",
      "Einstein mass: [3.9105827e+11]\n",
      "Stellar mass: [2.17422971e+11]\n",
      "Dark mass: [1.89408701e+11]\n",
      "Stellar + Dark mass: [4.06831672e+11]\n",
      "Stellar fraction: [0.53442981]\n",
      "Dark fraction: [0.46557019]\n",
      "\n",
      "Can't build there!\n",
      "Job's finished!\n",
      "Order's received.\n",
      "GAMA ID: 262874, LinKS ID: 26\n",
      "Einstein radius: 0.6980096554149677\n",
      "Einstein mass: [1.25375672e+11]\n",
      "Stellar mass: [6.5235287e+10]\n",
      "Dark mass: [6.20612796e+10]\n",
      "Stellar + Dark mass: [1.27296567e+11]\n",
      "Stellar fraction: [0.51246698]\n",
      "Dark fraction: [0.48753302]\n",
      "\n",
      "Can't build there!\n",
      "Job's finished!\n",
      "Order's received.\n",
      "GAMA ID: 138582, LinKS ID: 2828\n",
      "Einstein radius: 1.203266891163765\n",
      "Einstein mass: [7.21100023e+11]\n",
      "Stellar mass: [4.13488439e+11]\n",
      "Dark mass: [3.18455244e+11]\n",
      "Stellar + Dark mass: [7.31943683e+11]\n",
      "Stellar fraction: [0.56491838]\n",
      "Dark fraction: [0.43508162]\n",
      "\n",
      "Can't build there!\n",
      "Job's finished!\n",
      "Order's received.\n",
      "GAMA ID: 3629152, LinKS ID: 1933\n",
      "Einstein radius: 1.5403471781135185\n",
      "Einstein mass: [7.22802453e+11]\n",
      "Stellar mass: [4.36523785e+11]\n",
      "Dark mass: [2.91764364e+11]\n",
      "Stellar + Dark mass: [7.28288149e+11]\n",
      "Stellar fraction: [0.59938334]\n",
      "Dark fraction: [0.40061666]\n",
      "\n",
      "Can't build there!\n",
      "Job's finished!\n",
      "Order's received.\n",
      "GAMA ID: 585328, LinKS ID: 3234\n",
      "Einstein radius: 0.9779604041685723\n",
      "Einstein mass: [1.1070037e+11]\n",
      "Stellar mass: [17824290.76302147]\n",
      "Dark mass: [1.10679466e+11]\n",
      "Stellar + Dark mass: [1.1069729e+11]\n",
      "Stellar fraction: [0.00016102]\n",
      "Dark fraction: [0.99983898]\n",
      "\n",
      "Can't build there!\n",
      "Job's finished!\n",
      "Order's received.\n",
      "GAMA ID: 250289, LinKS ID: 2730\n",
      "Einstein radius: 1.5222815451731422\n",
      "Einstein mass: [7.62749867e+11]\n",
      "Stellar mass: [5.0484549e+11]\n",
      "Dark mass: [2.58702492e+11]\n",
      "Stellar + Dark mass: [7.63547982e+11]\n",
      "Stellar fraction: [0.66118371]\n",
      "Dark fraction: [0.33881629]\n",
      "\n",
      "Can't build there!\n",
      "Job's finished!\n",
      "   GAMA_ID    ID  einstein_radius  einstein_mass  stellar_mass     dark_mass  \\\n",
      "0   250289  2730         1.522282   7.627499e+11  5.048455e+11  2.587025e+11   \n",
      "1   585328  3234         0.977960   1.107004e+11  1.782429e+07  1.106795e+11   \n",
      "2  3629152  1933         1.540347   7.228025e+11  4.365238e+11  2.917644e+11   \n",
      "3   138582  2828         1.203267   7.211000e+11  4.134884e+11  3.184552e+11   \n",
      "4   262874    26         0.698010   1.253757e+11  6.523529e+10  6.206128e+10   \n",
      "5  3891172  3056         1.161351   3.910583e+11  2.174230e+11  1.894087e+11   \n",
      "6   544226  3212         0.964081   1.332862e+11  6.384931e+10  6.964866e+10   \n",
      "\n",
      "   stellar_plus_dark_mass  stellar_fraction  dark_fraction  \n",
      "0            7.635480e+11          0.661184       0.338816  \n",
      "1            1.106973e+11          0.000161       0.999839  \n",
      "2            7.282881e+11          0.599383       0.400617  \n",
      "3            7.319437e+11          0.564918       0.435082  \n",
      "4            1.272966e+11          0.512467       0.487533  \n",
      "5            4.068317e+11          0.534430       0.465570  \n",
      "6            1.334980e+11          0.478279       0.521721  \n",
      "Job's finished!\n"
     ]
    }
   ],
   "source": [
    "# extract from all outputs marked with the black spot\n",
    "\n",
    "print('Ah! Ya scared me!')\n",
    "print('Phase folder identifier? (for agg filter)')\n",
    "filter_words = input()\n",
    "print('You got it!')\n",
    "\n",
    "# set up empty dataframe\n",
    "masses = pd.DataFrame(np.zeros(shape=(0,9)), columns = ['GAMA_ID', \n",
    "                                              'ID', \n",
    "                                              'einstein_radius',\n",
    "                                             'einstein_mass',\n",
    "                                             'stellar_mass',\n",
    "                                             'dark_mass',\n",
    "                                             'stellar_plus_dark_mass',\n",
    "                                             'stellar_fraction',\n",
    "                                             'dark_fraction'])\n",
    "\n",
    "#masses.loc[-1] = [1, 2, 3, 4, 5, 6, 7, 8, 9]  # adding a row\n",
    "#masses.index = masses.index + 1  # shifting index\n",
    "#masses = masses.sort_index()  # sorting by index\n",
    "print(masses)\n",
    "\n",
    "# specify grid\n",
    "grid = al.Grid2D.uniform(shape_native=(101, 101), pixel_scales=0.2)\n",
    "\n",
    "# load samples with aggregator\n",
    "agg = af.Aggregator(directory=output_path)\n",
    "agg_filter = agg.filter(agg.directory.contains(filter_words))\n",
    "\n",
    "# take median pdf instance\n",
    "mpdf_instances = [samps.median_pdf_instance for samps in agg_filter.values(\"samples\")]\n",
    "\n",
    "for i in range(len(mpdf_instances)):\n",
    "    print(\"Order's received.\")\n",
    "    gama_id, links_id = agg_filter.phases[i].file_path.split('/')[5][1:].split('_')\n",
    "    print(f'GAMA ID: {gama_id}, LinKS ID: {links_id}')\n",
    "    instance = mpdf_instances[i]\n",
    "    mass_output = list(extract_mass(instance))\n",
    "    # insert gama and links ids at front\n",
    "    mass_output.insert(0, links_id)\n",
    "    mass_output.insert(0, gama_id)\n",
    "    #print(len(mass_output))\n",
    "    # append masses dataframe\n",
    "    masses.loc[-1] = mass_output  # adding a row\n",
    "    masses.index = masses.index + 1  # shifting index\n",
    "    masses = masses.sort_index()  # sorting by index\n",
    "    print(\"Job's finished!\")\n",
    "\n",
    "print(masses)\n",
    "\n",
    "print(\"Job's finished!\")\n",
    "\n"
   ]
  },
  {
   "cell_type": "code",
   "execution_count": 7,
   "id": "descending-induction",
   "metadata": {},
   "outputs": [
    {
     "data": {
      "text/plain": [
       "Index(['Unnamed: 0', 'Unnamed: 0.1', 'Unnamed: 0_x', 'GAMA_ID', 'ID', 'RA_x',\n",
       "       'DEC_x', 'score', 'Unnamed: 0_y', 'z1', 'sigma1', 'template1', 'z2',\n",
       "       'sigma2', 'template2', 'sigma3', 'sigma4', 'R', 'prob', 'error', 'type',\n",
       "       'type_number', 'lambdar_log_mstar', 'lambdar_mstar',\n",
       "       'lambdar_log_mstar_error', 'z', 'zlens', 'zsource', 'sigma_lens',\n",
       "       'sigma_source', 'dlens', 'dsource', 'corrected_stellar_mass', 'P1',\n",
       "       'P3', 'normalized_score', 'cnn_probability', 'm_half_re', 'sigma_star',\n",
       "       'theta_e_pm', 'theta_e_sis', 'KIDS_ID', 'mag', 'mag_err', 'name',\n",
       "       'num_0', 'probability', 'rms', 's*p/10', 'z_max', 'z_min', 'zphot',\n",
       "       'RA_y', 'DEC_y', 'Z', 'Rpetro', 'DM_100_25_75', 'SURVEY_CODE', 'SigErr',\n",
       "       'GroupID', 'RankIterCen', 'SepIterCen', 'CoSepIterCen', 'AngSepIterCen',\n",
       "       'RankBCG', 'SepBCG', 'CoSepBCG', 'AngSepBCG', 'RankCen', 'SepCen',\n",
       "       'CoSepCen', 'AngSepCen'],\n",
       "      dtype='object')"
      ]
     },
     "execution_count": 7,
     "metadata": {},
     "output_type": "execute_result"
    }
   ],
   "source": [
    "# load group catalog\n",
    "groups = pd.read_csv(f'{csv_path}candidates_groups.csv')\n",
    "groups.columns"
   ]
  },
  {
   "cell_type": "code",
   "execution_count": 25,
   "id": "broke-collaboration",
   "metadata": {},
   "outputs": [
    {
     "name": "stdout",
     "output_type": "stream",
     "text": [
      "   GAMA_ID  ID_x  dark_fraction   GroupID  RankIterCen\n",
      "0   250289  2730       0.338816  304825.0          1.0\n",
      "1  3629152  1933       0.400617  106991.0          1.0\n",
      "2   138582  2828       0.435082       0.0       -999.0\n",
      "3   262874    26       0.487533       0.0       -999.0\n",
      "4  3891172  3056       0.465570       0.0       -999.0\n",
      "5   544226  3212       0.521721       0.0       -999.0\n"
     ]
    }
   ],
   "source": [
    "# merge masses and groups\n",
    "masses.GAMA_ID = masses.GAMA_ID.astype(int)\n",
    "masses.ID = masses.ID.astype(int)\n",
    "\n",
    "masses.drop(1, inplace=True) # drop 3234, it's being redone anyway.\n",
    "\n",
    "fdm_groups = pd.merge(masses, groups, how='left', on='GAMA_ID')\n",
    "print(fdm_groups[ ['GAMA_ID', 'ID_x', 'dark_fraction', 'GroupID', 'RankIterCen'] ])\n"
   ]
  },
  {
   "cell_type": "code",
   "execution_count": 32,
   "id": "defined-worker",
   "metadata": {},
   "outputs": [],
   "source": [
    "fdm_groups.to_csv(f'{csv_path}fdm_groups.csv')"
   ]
  },
  {
   "cell_type": "code",
   "execution_count": 27,
   "id": "dental-portal",
   "metadata": {},
   "outputs": [
    {
     "name": "stdout",
     "output_type": "stream",
     "text": [
      "2 4\n"
     ]
    }
   ],
   "source": [
    "grupos = fdm_groups[fdm_groups.GroupID != 0.0]\n",
    "isos = fdm_groups[fdm_groups.GroupID == 0.0]\n",
    "\n",
    "print(len(grupos), len(isos))"
   ]
  },
  {
   "cell_type": "code",
   "execution_count": 136,
   "id": "buried-cameroon",
   "metadata": {},
   "outputs": [
    {
     "data": {
      "text/plain": [
       "<matplotlib.collections.PathCollection at 0x7f5a33abd7f0>"
      ]
     },
     "execution_count": 136,
     "metadata": {},
     "output_type": "execute_result"
    },
    {
     "data": {
      "image/png": "[encoded data removed]",
      "text/plain": [
       "<Figure size 432x288 with 4 Axes>"
      ]
     },
     "metadata": {
      "needs_background": "light"
     },
     "output_type": "display_data"
    }
   ],
   "source": [
    "fig, axs = plt.subplots(2, 2)\n",
    "axs[0,0].scatter(np.log10(grupos.stellar_mass), grupos.dark_fraction, color='k')\n",
    "#axs[0,0].scatter(fdm_groups.lambdar_log_mstar, fdm_groups.dark_fraction)\n",
    "axs[0,1].scatter(fdm_groups.zlens, fdm_groups.dark_fraction)\n"
   ]
  },
  {
   "cell_type": "code",
   "execution_count": 201,
   "id": "stretch-routine",
   "metadata": {},
   "outputs": [
    {
     "data": {
      "text/plain": [
       "array([0. , 0.1, 0.2, 0.3, 0.4, 0.5, 0.6, 0.7, 0.8, 0.9, 1. ])"
      ]
     },
     "execution_count": 201,
     "metadata": {},
     "output_type": "execute_result"
    }
   ],
   "source": [
    "np.linspace(0,1,11)"
   ]
  },
  {
   "cell_type": "code",
   "execution_count": 22,
   "id": "faced-permit",
   "metadata": {},
   "outputs": [
    {
     "name": "stderr",
     "output_type": "stream",
     "text": [
      "WARNING:matplotlib.legend:No handles with labels found to put in legend.\n"
     ]
    },
    {
     "data": {
      "text/plain": [
       "<matplotlib.legend.Legend at 0x7f0fa45ef128>"
      ]
     },
     "execution_count": 22,
     "metadata": {},
     "output_type": "execute_result"
    },
    {
     "data": {
      "image/png": "[encoded data removed]",
      "text/plain": [
       "<Figure size 576x432 with 2 Axes>"
      ]
     },
     "metadata": {
      "needs_background": "light"
     },
     "output_type": "display_data"
    }
   ],
   "source": [
    "c = fdm_groups.dark_fraction\n",
    "grupos_c = grupos.dark_fraction\n",
    "grupos_mass_err = grupos.lambdar_log_mstar - np.log10(grupos.stellar_mass)\n",
    "isos_c = isos.dark_fraction\n",
    "isos_mass_err = isos.lambdar_log_mstar - np.log10(isos.stellar_mass)\n",
    "\n",
    "figure, axs = plt.subplots(figsize=(8, 6))\n",
    "#axs.errorbar(np.log10(grupos.stellar_mass), grupos.zlens, \n",
    "#                       xerr=grupos_mass_err,\n",
    "#                       marker='.', \n",
    "#                         color='k',\n",
    "#                       linestyle='None',\n",
    "#                         ecolor='k',\n",
    "#                      xlolims = True,\n",
    "#                      label = None,\n",
    "#                      alpha = 0.5,\n",
    "#                        zorder=-1)\n",
    "#axs.errorbar(np.log10(isos.stellar_mass), isos.zlens, \n",
    "#                       xerr=isos_mass_err,\n",
    "#                       marker='.', \n",
    "#                         color='k',\n",
    "#                       linestyle='None',\n",
    "#                         ecolor='k',\n",
    "#                      xlolims = True,\n",
    "#                      label = None,\n",
    "#                      alpha = 0.5,\n",
    "#                        zorder=-1)\n",
    "scatter_grupos = axs.scatter(np.log10(grupos.stellar_mass), grupos.zlens, \n",
    "                     marker='o',\n",
    "                     edgecolor='black',\n",
    "                     s=250,\n",
    "                      c=grupos_c,\n",
    "                     cmap='plasma',)\n",
    "                     #label='Model stellar mass')\n",
    "scatter_grupos = axs.scatter(np.log10(isos.stellar_mass), isos.zlens, \n",
    "                     marker='s',\n",
    "                     edgecolor='black',\n",
    "                     s=250,\n",
    "                      c=isos_c,\n",
    "                     cmap='plasma',)\n",
    "                     #label='Model stellar mass')\n",
    "#axs.scatter(fdm_groups.lambdar_log_mstar, fdm_groups.zlens, \n",
    "#                     marker='s',\n",
    "#                     edgecolor='black',\n",
    "#                     s=200,\n",
    "#                      c=c,\n",
    "#                     cmap='plasma',)\n",
    "                     #label='GAMA observed stellar mass')\n",
    "#axs.scatter(grupos.lambdar_log_mstar, grupos.zlens, \n",
    " #                    marker='o',\n",
    " #                    edgecolor='black',\n",
    " #                    s=250,\n",
    " #                     c='None',\n",
    " #                    label='Model stellar mass w/in Einstein Radius')\n",
    "#axs.scatter(isos.lambdar_log_mstar, isos.zlens, \n",
    "#                     marker='s',\n",
    "#                     edgecolor='black',\n",
    "#                     s=200,\n",
    "#                      c='None',\n",
    "#                     label='GAMA observed total stellar mass')\n",
    "plt.colorbar(scatter_grupos, label='Fraction of Dark Matter',)\n",
    "axs.set_title('Fraction of Dark Matter at Lens Redshift and Stellar Mass', fontsize=16)\n",
    "axs.set_xlabel(r'Stellar Mass $log(M_*/M_\\odot)$', fontsize=16)\n",
    "axs.set_ylabel(r'Lens Redshift $z$', fontsize=16)\n",
    "axs.set_xlim(10.75, 11.75)\n",
    "axs.set_ylim(0.2, 0.6)\n",
    "axs.legend(fontsize=12,\n",
    "           labelspacing = 1.0)\n",
    "\n",
    "#plt.savefig(f'{png_path}group_mass_to_stellar_mass.png')"
   ]
  },
  {
   "cell_type": "code",
   "execution_count": 33,
   "id": "unauthorized-basketball",
   "metadata": {},
   "outputs": [
    {
     "data": {
      "image/png": "[encoded data removed]",
      "text/plain": [
       "<Figure size 576x432 with 1 Axes>"
      ]
     },
     "metadata": {
      "needs_background": "light"
     },
     "output_type": "display_data"
    }
   ],
   "source": [
    "mass_err = fdm_groups.lambdar_log_mstar - np.log10(fdm_groups.stellar_mass)\n",
    "\n",
    "\n",
    "figure, axs = plt.subplots(figsize=(8, 6))\n",
    "axs.errorbar(np.log10(fdm_groups.stellar_mass), fdm_groups.dark_fraction, \n",
    "                       xerr=mass_err,\n",
    "                       marker='.', \n",
    "                         color='k',\n",
    "                       linestyle='None',\n",
    "                         ecolor='k',\n",
    "                      xlolims = True,\n",
    "                      label = None,\n",
    "                      alpha = 0.5,\n",
    "                        zorder=-1)\n",
    "scatter = axs.scatter(np.log10(grupos.stellar_mass), grupos.dark_fraction, \n",
    "                     marker='o',\n",
    "                     edgecolor='black',\n",
    "                     s=200,\n",
    "                      c='black',\n",
    "                     #cmap='plasma',)\n",
    "                     label='Group Galaxy - model stellar mass w/in Einstein Radius')\n",
    "axs.scatter(grupos.lambdar_log_mstar, grupos.dark_fraction, \n",
    "                     marker='s',\n",
    "                     edgecolor='black',\n",
    "                     s=150,\n",
    "                      c='black',\n",
    "                     #cmap='plasma',)\n",
    "                     label='Group Galaxy - GAMA observed total stellar mass')\n",
    "scatter = axs.scatter(np.log10(isos.stellar_mass), isos.dark_fraction, \n",
    "                     marker='o',\n",
    "                     edgecolor='black',\n",
    "                     s=200,\n",
    "                      c='purple',\n",
    "                     #cmap='plasma',)\n",
    "                     label='Isolated Galaxy - model stellar mass w/in Einstein Radius')\n",
    "axs.scatter(isos.lambdar_log_mstar, isos.dark_fraction, \n",
    "                     marker='s',\n",
    "                     edgecolor='black',\n",
    "                     s=150,\n",
    "                      c='purple',\n",
    "                     #cmap='plasma',)\n",
    "                     label='Isolated Galaxy - GAMA observed total stellar mass')\n",
    "#plt.colorbar(scatter, label='Fraction of Dark Matter',)\n",
    "axs.set_title('Fraction of Dark Matter vs. Stellar Mass', fontsize=16)\n",
    "axs.set_xlabel(r'Stellar Mass $log(M_*/M_\\odot)$', fontsize=16)\n",
    "axs.set_ylabel(r'Fraction Dark Matter', fontsize=16)\n",
    "#axs.set_xlim(10.75, 11.75)\n",
    "#axs.set_ylim(0.0, 1.0)\n",
    "axs.legend(fontsize=12,\n",
    "           labelspacing = 1.0)\n",
    "#plt.savefig(f'{png_path}fdm_vs_stellar_mass_032621.png')"
   ]
  },
  {
   "cell_type": "markdown",
   "id": "stainless-democracy",
   "metadata": {},
   "source": [
    "# Let's try to get error bars in here."
   ]
  },
  {
   "cell_type": "code",
   "execution_count": 110,
   "id": "iraqi-princess",
   "metadata": {},
   "outputs": [
    {
     "name": "stdout",
     "output_type": "stream",
     "text": [
      "Ah! Ya scared me!\n",
      "Phase folder identifier? (for agg filter)\n"
     ]
    },
    {
     "name": "stdin",
     "output_type": "stream",
     "text": [
      " black_spot\n"
     ]
    },
    {
     "name": "stdout",
     "output_type": "stream",
     "text": [
      "You got it!\n",
      "Empty DataFrame\n",
      "Columns: [GAMA_ID, ID, einstein_radius, einstein_mass, stellar_mass, dark_mass, stellar_plus_dark_mass, stellar_fraction, dark_fraction, einstein_radius_ue3, einstein_mass_ue3, stellar_mass_ue3, dark_mass_ue3, stellar_plus_dark_mass_ue3, stellar_fraction_ue3, dark_fraction_ue3, einstein_radius_le3, einstein_mass_le3, stellar_mass_le3, dark_mass_le3, stellar_plus_dark_mass_le3, stellar_fraction_le3, dark_fraction_le3]\n",
      "Index: []\n",
      "Aggregator loading phases... could take some time.\n",
      "\n",
      " A total of 188 phases and results were found.\n",
      "Filter found a total of 7 results\n",
      "Order's received.\n",
      "GAMA ID: 544226, LinKS ID: 3212\n",
      "Median pdf instance\n",
      "Einstein radius: 0.9640808224533204\n",
      "Einstein mass: [1.33286159e+11]\n",
      "Stellar mass: [6.3849313e+10]\n",
      "Dark mass: [6.96486635e+10]\n",
      "Stellar + Dark mass: [1.33497977e+11]\n",
      "Stellar fraction: [0.47827926]\n",
      "Dark fraction: [0.52172074]\n",
      "\n",
      "Can't build there!\n",
      "Upper 3-sigma instance\n",
      "Einstein radius: 1.7758005064965685\n",
      "Einstein mass: [4.52216617e+11]\n",
      "Stellar mass: [2.00121761e+11]\n",
      "Dark mass: [2.52773604e+11]\n",
      "Stellar + Dark mass: [4.52895365e+11]\n",
      "Stellar fraction: [0.44187196]\n",
      "Dark fraction: [0.55812804]\n",
      "\n",
      "Can't build there!\n",
      "Lower 3-sigma instance\n",
      "Einstein radius: 0.3785401292824263\n",
      "Einstein mass: [2.05485896e+10]\n",
      "Stellar mass: [1.18724841e+10]\n",
      "Dark mass: [8.72900868e+09]\n",
      "Stellar + Dark mass: [2.06014928e+10]\n",
      "Stellar fraction: [0.57629242]\n",
      "Dark fraction: [0.42370758]\n",
      "\n",
      "Can't build there!\n",
      "23\n",
      "Job's finished!\n",
      "Order's received.\n",
      "GAMA ID: 3891172, LinKS ID: 3056\n",
      "Median pdf instance\n",
      "Einstein radius: 1.161351220000206\n",
      "Einstein mass: [3.9105827e+11]\n",
      "Stellar mass: [2.17422971e+11]\n",
      "Dark mass: [1.89408701e+11]\n",
      "Stellar + Dark mass: [4.06831672e+11]\n",
      "Stellar fraction: [0.53442981]\n",
      "Dark fraction: [0.46557019]\n",
      "\n",
      "Can't build there!\n",
      "Upper 3-sigma instance\n",
      "Einstein radius: 1.7285347823774402\n",
      "Einstein mass: [8.66304479e+11]\n",
      "Stellar mass: [4.49579968e+11]\n",
      "Dark mass: [4.52204592e+11]\n",
      "Stellar + Dark mass: [9.0178456e+11]\n",
      "Stellar fraction: [0.49854476]\n",
      "Dark fraction: [0.50145524]\n",
      "\n",
      "Can't build there!\n",
      "Lower 3-sigma instance\n",
      "Einstein radius: 0.7635618664613824\n",
      "Einstein mass: [1.69045173e+11]\n",
      "Stellar mass: [1.01565605e+11]\n",
      "Dark mass: [7.42633237e+10]\n",
      "Stellar + Dark mass: [1.75828928e+11]\n",
      "Stellar fraction: [0.57763876]\n",
      "Dark fraction: [0.42236124]\n",
      "\n",
      "Can't build there!\n",
      "23\n",
      "Job's finished!\n",
      "Order's received.\n",
      "GAMA ID: 262874, LinKS ID: 26\n",
      "Median pdf instance\n",
      "Einstein radius: 0.6980096554149677\n",
      "Einstein mass: [1.25375672e+11]\n",
      "Stellar mass: [6.5235287e+10]\n",
      "Dark mass: [6.20612796e+10]\n",
      "Stellar + Dark mass: [1.27296567e+11]\n",
      "Stellar fraction: [0.51246698]\n",
      "Dark fraction: [0.48753302]\n",
      "\n",
      "Can't build there!\n",
      "Upper 3-sigma instance\n",
      "Einstein radius: 1.038065167369346\n",
      "Einstein mass: [2.77293475e+11]\n",
      "Stellar mass: [1.4450653e+11]\n",
      "Dark mass: [1.36353454e+11]\n",
      "Stellar + Dark mass: [2.80859984e+11]\n",
      "Stellar fraction: [0.51451449]\n",
      "Dark fraction: [0.48548551]\n",
      "\n",
      "Can't build there!\n",
      "Lower 3-sigma instance\n",
      "Einstein radius: 0.3756491893560289\n",
      "Einstein mass: [3.63124311e+10]\n",
      "Stellar mass: [1.72796586e+10]\n",
      "Dark mass: [1.97229639e+10]\n",
      "Stellar + Dark mass: [3.70026225e+10]\n",
      "Stellar fraction: [0.4669847]\n",
      "Dark fraction: [0.5330153]\n",
      "\n",
      "Can't build there!\n",
      "23\n",
      "Job's finished!\n",
      "Order's received.\n",
      "GAMA ID: 138582, LinKS ID: 2828\n",
      "Median pdf instance\n",
      "Einstein radius: 1.203266891163765\n",
      "Einstein mass: [7.21100023e+11]\n",
      "Stellar mass: [4.13488439e+11]\n",
      "Dark mass: [3.18455244e+11]\n",
      "Stellar + Dark mass: [7.31943683e+11]\n",
      "Stellar fraction: [0.56491838]\n",
      "Dark fraction: [0.43508162]\n",
      "\n",
      "Can't build there!\n",
      "Upper 3-sigma instance\n",
      "Einstein radius: 2.6731636323210584\n",
      "Einstein mass: [3.55895637e+12]\n",
      "Stellar mass: [1.92950691e+12]\n",
      "Dark mass: [1.68853062e+12]\n",
      "Stellar + Dark mass: [3.61803753e+12]\n",
      "Stellar fraction: [0.53330207]\n",
      "Dark fraction: [0.46669793]\n",
      "\n",
      "Can't build there!\n",
      "Lower 3-sigma instance\n",
      "Einstein radius: 0.42568823686395135\n",
      "Einstein mass: [9.02515926e+10]\n",
      "Stellar mass: [5.39602744e+10]\n",
      "Dark mass: [3.70634282e+10]\n",
      "Stellar + Dark mass: [9.10237026e+10]\n",
      "Stellar fraction: [0.59281564]\n",
      "Dark fraction: [0.40718436]\n",
      "\n",
      "Can't build there!\n",
      "23\n",
      "Job's finished!\n",
      "Order's received.\n",
      "GAMA ID: 3629152, LinKS ID: 1933\n",
      "Median pdf instance\n",
      "Einstein radius: 1.5403471781135185\n",
      "Einstein mass: [7.22802453e+11]\n",
      "Stellar mass: [4.36523785e+11]\n",
      "Dark mass: [2.91764364e+11]\n",
      "Stellar + Dark mass: [7.28288149e+11]\n",
      "Stellar fraction: [0.59938334]\n",
      "Dark fraction: [0.40061666]\n",
      "\n",
      "Can't build there!\n",
      "Upper 3-sigma instance\n",
      "Einstein radius: 3.8679153965340305\n",
      "Einstein mass: [4.55760114e+12]\n",
      "Stellar mass: [2.35747745e+12]\n",
      "Dark mass: [2.23475964e+12]\n",
      "Stellar + Dark mass: [4.5922371e+12]\n",
      "Stellar fraction: [0.51336144]\n",
      "Dark fraction: [0.48663856]\n",
      "\n",
      "Can't build there!\n",
      "Lower 3-sigma instance\n",
      "Einstein radius: 0.3156242802752975\n",
      "Einstein mass: [3.03475191e+10]\n",
      "Stellar mass: [2.34085366e+10]\n",
      "Dark mass: [6.97066806e+09]\n",
      "Stellar + Dark mass: [3.03792047e+10]\n",
      "Stellar fraction: [0.77054475]\n",
      "Dark fraction: [0.22945525]\n",
      "\n",
      "Can't build there!\n",
      "23\n",
      "Job's finished!\n",
      "Order's received.\n",
      "GAMA ID: 585328, LinKS ID: 3234\n",
      "Median pdf instance\n",
      "Einstein radius: 0.9779604041685723\n",
      "Einstein mass: [1.1070037e+11]\n",
      "Stellar mass: [17824290.76302147]\n",
      "Dark mass: [1.10679466e+11]\n",
      "Stellar + Dark mass: [1.1069729e+11]\n",
      "Stellar fraction: [0.00016102]\n",
      "Dark fraction: [0.99983898]\n",
      "\n",
      "Can't build there!\n",
      "Upper 3-sigma instance\n",
      "Einstein radius: 1.1517240772721944\n",
      "Einstein mass: [1.53533596e+11]\n",
      "Stellar mass: [3.27602384e+09]\n",
      "Dark mass: [1.5034692e+11]\n",
      "Stellar + Dark mass: [1.53622944e+11]\n",
      "Stellar fraction: [0.02132509]\n",
      "Dark fraction: [0.97867491]\n",
      "\n",
      "Can't build there!\n",
      "Lower 3-sigma instance\n",
      "Einstein radius: 0.9573544156106106\n",
      "Einstein mass: [1.06084521e+11]\n",
      "Stellar mass: [92175.80369679]\n",
      "Dark mass: [1.06087357e+11]\n",
      "Stellar + Dark mass: [1.06087449e+11]\n",
      "Stellar fraction: [8.68866246e-07]\n",
      "Dark fraction: [0.99999913]\n",
      "\n",
      "Can't build there!\n",
      "23\n",
      "Job's finished!\n",
      "Order's received.\n",
      "GAMA ID: 250289, LinKS ID: 2730\n",
      "Median pdf instance\n",
      "Einstein radius: 1.5222815451731422\n",
      "Einstein mass: [7.62749867e+11]\n",
      "Stellar mass: [5.0484549e+11]\n",
      "Dark mass: [2.58702492e+11]\n",
      "Stellar + Dark mass: [7.63547982e+11]\n",
      "Stellar fraction: [0.66118371]\n",
      "Dark fraction: [0.33881629]\n",
      "\n",
      "Can't build there!\n",
      "Upper 3-sigma instance\n",
      "Einstein radius: 1.9478813863018827\n",
      "Einstein mass: [1.24886988e+12]\n",
      "Stellar mass: [7.47940829e+11]\n",
      "Dark mass: [5.01790918e+11]\n",
      "Stellar + Dark mass: [1.24973175e+12]\n",
      "Stellar fraction: [0.5984811]\n",
      "Dark fraction: [0.4015189]\n",
      "\n",
      "Can't build there!\n",
      "Lower 3-sigma instance\n",
      "Einstein radius: 1.147505454620342\n",
      "Einstein mass: [4.3341276e+11]\n",
      "Stellar mass: [3.1398313e+11]\n",
      "Dark mass: [1.20135201e+11]\n",
      "Stellar + Dark mass: [4.34118331e+11]\n",
      "Stellar fraction: [0.72326623]\n",
      "Dark fraction: [0.27673377]\n",
      "\n",
      "Can't build there!\n",
      "23\n",
      "Job's finished!\n",
      "   GAMA_ID    ID  einstein_radius  einstein_mass  stellar_mass     dark_mass  \\\n",
      "0   250289  2730         1.522282   7.627499e+11  5.048455e+11  2.587025e+11   \n",
      "1   585328  3234         0.977960   1.107004e+11  1.782429e+07  1.106795e+11   \n",
      "2  3629152  1933         1.540347   7.228025e+11  4.365238e+11  2.917644e+11   \n",
      "3   138582  2828         1.203267   7.211000e+11  4.134884e+11  3.184552e+11   \n",
      "4   262874    26         0.698010   1.253757e+11  6.523529e+10  6.206128e+10   \n",
      "5  3891172  3056         1.161351   3.910583e+11  2.174230e+11  1.894087e+11   \n",
      "6   544226  3212         0.964081   1.332862e+11  6.384931e+10  6.964866e+10   \n",
      "\n",
      "   stellar_plus_dark_mass  stellar_fraction  dark_fraction  \\\n",
      "0            7.635480e+11          0.661184       0.338816   \n",
      "1            1.106973e+11          0.000161       0.999839   \n",
      "2            7.282881e+11          0.599383       0.400617   \n",
      "3            7.319437e+11          0.564918       0.435082   \n",
      "4            1.272966e+11          0.512467       0.487533   \n",
      "5            4.068317e+11          0.534430       0.465570   \n",
      "6            1.334980e+11          0.478279       0.521721   \n",
      "\n",
      "   einstein_radius_ue3  einstein_mass_ue3  stellar_mass_ue3  dark_mass_ue3  \\\n",
      "0             1.947881       1.248870e+12      7.479408e+11   5.017909e+11   \n",
      "1             1.151724       1.535336e+11      3.276024e+09   1.503469e+11   \n",
      "2             3.867915       4.557601e+12      2.357477e+12   2.234760e+12   \n",
      "3             2.673164       3.558956e+12      1.929507e+12   1.688531e+12   \n",
      "4             1.038065       2.772935e+11      1.445065e+11   1.363535e+11   \n",
      "5             1.728535       8.663045e+11      4.495800e+11   4.522046e+11   \n",
      "6             1.775801       4.522166e+11      2.001218e+11   2.527736e+11   \n",
      "\n",
      "   stellar_plus_dark_mass_ue3  stellar_fraction_ue3  dark_fraction_ue3  \\\n",
      "0                1.249732e+12              0.598481           0.401519   \n",
      "1                1.536229e+11              0.021325           0.978675   \n",
      "2                4.592237e+12              0.513361           0.486639   \n",
      "3                3.618038e+12              0.533302           0.466698   \n",
      "4                2.808600e+11              0.514514           0.485486   \n",
      "5                9.017846e+11              0.498545           0.501455   \n",
      "6                4.528954e+11              0.441872           0.558128   \n",
      "\n",
      "   einstein_radius_le3  einstein_mass_le3  stellar_mass_le3  dark_mass_le3  \\\n",
      "0             1.147505       4.334128e+11      3.139831e+11   1.201352e+11   \n",
      "1             0.957354       1.060845e+11      9.217580e+04   1.060874e+11   \n",
      "2             0.315624       3.034752e+10      2.340854e+10   6.970668e+09   \n",
      "3             0.425688       9.025159e+10      5.396027e+10   3.706343e+10   \n",
      "4             0.375649       3.631243e+10      1.727966e+10   1.972296e+10   \n",
      "5             0.763562       1.690452e+11      1.015656e+11   7.426332e+10   \n",
      "6             0.378540       2.054859e+10      1.187248e+10   8.729009e+09   \n",
      "\n",
      "   stellar_plus_dark_mass_le3  stellar_fraction_le3  dark_fraction_le3  \n",
      "0                4.341183e+11          7.232662e-01           0.276734  \n",
      "1                1.060874e+11          8.688662e-07           0.999999  \n",
      "2                3.037920e+10          7.705447e-01           0.229455  \n",
      "3                9.102370e+10          5.928156e-01           0.407184  \n",
      "4                3.700262e+10          4.669847e-01           0.533015  \n",
      "5                1.758289e+11          5.776388e-01           0.422361  \n",
      "6                2.060149e+10          5.762924e-01           0.423708  \n",
      "Job's finished!\n"
     ]
    }
   ],
   "source": [
    "# extract from all outputs marked with the black spot\n",
    "\n",
    "print('Ah! Ya scared me!')\n",
    "print('Phase folder identifier? (for agg filter)')\n",
    "filter_words = input()\n",
    "print('You got it!')\n",
    "\n",
    "# set up empty dataframe\n",
    "masses = pd.DataFrame(np.zeros(shape=(0,23)), columns = ['GAMA_ID', \n",
    "                                                          'ID', \n",
    "                                                          'einstein_radius',\n",
    "                                                         'einstein_mass',\n",
    "                                                         'stellar_mass',\n",
    "                                                         'dark_mass',\n",
    "                                                         'stellar_plus_dark_mass',\n",
    "                                                         'stellar_fraction',\n",
    "                                                         'dark_fraction',\n",
    "                                                         'einstein_radius_ue3',\n",
    "                                                         'einstein_mass_ue3',\n",
    "                                                         'stellar_mass_ue3',\n",
    "                                                         'dark_mass_ue3',\n",
    "                                                         'stellar_plus_dark_mass_ue3',\n",
    "                                                         'stellar_fraction_ue3',\n",
    "                                                         'dark_fraction_ue3',\n",
    "                                                        'einstein_radius_le3',\n",
    "                                                         'einstein_mass_le3',\n",
    "                                                         'stellar_mass_le3',\n",
    "                                                         'dark_mass_le3',\n",
    "                                                         'stellar_plus_dark_mass_le3',\n",
    "                                                         'stellar_fraction_le3',\n",
    "                                                         'dark_fraction_le3'\n",
    "                                                        ])\n",
    "\n",
    "#masses.loc[-1] = [1, 2, 3, 4, 5, 6, 7, 8, 9]  # adding a row\n",
    "#masses.index = masses.index + 1  # shifting index\n",
    "#masses = masses.sort_index()  # sorting by index\n",
    "print(masses)\n",
    "\n",
    "# specify grid\n",
    "grid = al.Grid2D.uniform(shape_native=(101, 101), pixel_scales=0.2)\n",
    "\n",
    "# load samples with aggregator\n",
    "agg = af.Aggregator(directory=output_path)\n",
    "agg_filter = agg.filter(agg.directory.contains(filter_words))\n",
    "\n",
    "# take median pdf instance\n",
    "mpdf_instances = [samps.median_pdf_instance for samps in agg_filter.values(\"samples\")]\n",
    "ue3_instances = [samps.instance_at_upper_sigma(sigma=3.0)for samps in agg_filter.values(\"samples\")]\n",
    "le3_instances = [samps.instance_at_lower_sigma(sigma=3.0)for samps in agg_filter.values(\"samples\")]\n",
    "\n",
    "for i in range(len(mpdf_instances)):\n",
    "    print(\"Order's received.\")\n",
    "    gama_id, links_id = agg_filter.phases[i].file_path.split('/')[5][1:].split('_')\n",
    "    print(f'GAMA ID: {gama_id}, LinKS ID: {links_id}')\n",
    "    # median pdf instance\n",
    "    print('Median pdf instance')\n",
    "    mpdf_instance = mpdf_instances[i]\n",
    "    mpdf_mass_output = list(extract_mass(mpdf_instance))\n",
    "    # upper 3-sigma instance\n",
    "    print('Upper 3-sigma instance')\n",
    "    ue3_instance = ue3_instances[i]\n",
    "    ue3_mass_output = list(extract_mass(ue3_instance))\n",
    "    # lower 3-sigma instance\n",
    "    print('Lower 3-sigma instance')\n",
    "    le3_instance = le3_instances[i]\n",
    "    le3_mass_output = list(extract_mass(le3_instance))\n",
    "    # insert gama and links ids at front\n",
    "    mass_output = [gama_id, links_id] + mpdf_mass_output + ue3_mass_output + le3_mass_output\n",
    "    print(len(mass_output))\n",
    "    # append masses dataframe\n",
    "    masses.loc[-1] = mass_output  # adding a row\n",
    "    masses.index = masses.index + 1  # shifting index\n",
    "    masses = masses.sort_index()  # sorting by index\n",
    "    print(\"Job's finished!\")\n",
    "\n",
    "print(masses)\n",
    "\n",
    "print(\"Job's finished!\")\n"
   ]
  },
  {
   "cell_type": "code",
   "execution_count": 111,
   "id": "macro-medicaid",
   "metadata": {},
   "outputs": [
    {
     "data": {
      "text/plain": [
       "Index(['Unnamed: 0', 'Unnamed: 0.1', 'Unnamed: 0_x', 'GAMA_ID', 'ID', 'RA_x',\n",
       "       'DEC_x', 'score', 'Unnamed: 0_y', 'z1', 'sigma1', 'template1', 'z2',\n",
       "       'sigma2', 'template2', 'sigma3', 'sigma4', 'R', 'prob', 'error', 'type',\n",
       "       'type_number', 'lambdar_log_mstar', 'lambdar_mstar',\n",
       "       'lambdar_log_mstar_error', 'z', 'zlens', 'zsource', 'sigma_lens',\n",
       "       'sigma_source', 'dlens', 'dsource', 'corrected_stellar_mass', 'P1',\n",
       "       'P3', 'normalized_score', 'cnn_probability', 'm_half_re', 'sigma_star',\n",
       "       'theta_e_pm', 'theta_e_sis', 'KIDS_ID', 'mag', 'mag_err', 'name',\n",
       "       'num_0', 'probability', 'rms', 's*p/10', 'z_max', 'z_min', 'zphot',\n",
       "       'RA_y', 'DEC_y', 'Z', 'Rpetro', 'DM_100_25_75', 'SURVEY_CODE', 'SigErr',\n",
       "       'GroupID', 'RankIterCen', 'SepIterCen', 'CoSepIterCen', 'AngSepIterCen',\n",
       "       'RankBCG', 'SepBCG', 'CoSepBCG', 'AngSepBCG', 'RankCen', 'SepCen',\n",
       "       'CoSepCen', 'AngSepCen'],\n",
       "      dtype='object')"
      ]
     },
     "execution_count": 111,
     "metadata": {},
     "output_type": "execute_result"
    }
   ],
   "source": [
    "# load group catalog\n",
    "groups = pd.read_csv(f'{csv_path}candidates_groups.csv')\n",
    "groups.columns"
   ]
  },
  {
   "cell_type": "code",
   "execution_count": 113,
   "id": "greenhouse-steering",
   "metadata": {},
   "outputs": [
    {
     "name": "stdout",
     "output_type": "stream",
     "text": [
      "   GAMA_ID  ID_x  stellar_mass  stellar_mass_ue3  stellar_mass_le3  \\\n",
      "0   250289  2730  5.048455e+11      7.479408e+11      3.139831e+11   \n",
      "1  3629152  1933  4.365238e+11      2.357477e+12      2.340854e+10   \n",
      "2   138582  2828  4.134884e+11      1.929507e+12      5.396027e+10   \n",
      "3   262874    26  6.523529e+10      1.445065e+11      1.727966e+10   \n",
      "4  3891172  3056  2.174230e+11      4.495800e+11      1.015656e+11   \n",
      "5   544226  3212  6.384931e+10      2.001218e+11      1.187248e+10   \n",
      "\n",
      "   dark_fraction  dark_fraction_ue3  dark_fraction_le3   GroupID  \n",
      "0       0.338816           0.401519           0.276734  304825.0  \n",
      "1       0.400617           0.486639           0.229455  106991.0  \n",
      "2       0.435082           0.466698           0.407184       0.0  \n",
      "3       0.487533           0.485486           0.533015       0.0  \n",
      "4       0.465570           0.501455           0.422361       0.0  \n",
      "5       0.521721           0.558128           0.423708       0.0  \n"
     ]
    }
   ],
   "source": [
    "# merge masses and groups\n",
    "masses.GAMA_ID = masses.GAMA_ID.astype(int)\n",
    "masses.ID = masses.ID.astype(int)\n",
    "\n",
    "masses.drop(1, inplace=True) # drop 3234, it's being redone anyway.\n",
    "\n",
    "fdm_groups = pd.merge(masses, groups, how='left', on='GAMA_ID')\n",
    "print(fdm_groups[ ['GAMA_ID', 'ID_x', 'stellar_mass', 'stellar_mass_ue3', 'stellar_mass_le3', 'dark_fraction', 'dark_fraction_ue3', 'dark_fraction_le3', 'GroupID',] ])\n"
   ]
  },
  {
   "cell_type": "code",
   "execution_count": 114,
   "id": "polished-manner",
   "metadata": {},
   "outputs": [
    {
     "name": "stdout",
     "output_type": "stream",
     "text": [
      "2 4\n"
     ]
    }
   ],
   "source": [
    "grupos = fdm_groups[fdm_groups.GroupID != 0.0]\n",
    "isos = fdm_groups[fdm_groups.GroupID == 0.0]\n",
    "\n",
    "print(len(grupos), len(isos))"
   ]
  },
  {
   "cell_type": "code",
   "execution_count": 115,
   "id": "female-insulin",
   "metadata": {},
   "outputs": [
    {
     "data": {
      "text/plain": [
       "Index(['GAMA_ID', 'ID_x', 'einstein_radius', 'einstein_mass', 'stellar_mass',\n",
       "       'dark_mass', 'stellar_plus_dark_mass', 'stellar_fraction',\n",
       "       'dark_fraction', 'einstein_radius_ue3', 'einstein_mass_ue3',\n",
       "       'stellar_mass_ue3', 'dark_mass_ue3', 'stellar_plus_dark_mass_ue3',\n",
       "       'stellar_fraction_ue3', 'dark_fraction_ue3', 'einstein_radius_le3',\n",
       "       'einstein_mass_le3', 'stellar_mass_le3', 'dark_mass_le3',\n",
       "       'stellar_plus_dark_mass_le3', 'stellar_fraction_le3',\n",
       "       'dark_fraction_le3', 'Unnamed: 0', 'Unnamed: 0.1', 'Unnamed: 0_x',\n",
       "       'ID_y', 'RA_x', 'DEC_x', 'score', 'Unnamed: 0_y', 'z1', 'sigma1',\n",
       "       'template1', 'z2', 'sigma2', 'template2', 'sigma3', 'sigma4', 'R',\n",
       "       'prob', 'error', 'type', 'type_number', 'lambdar_log_mstar',\n",
       "       'lambdar_mstar', 'lambdar_log_mstar_error', 'z', 'zlens', 'zsource',\n",
       "       'sigma_lens', 'sigma_source', 'dlens', 'dsource',\n",
       "       'corrected_stellar_mass', 'P1', 'P3', 'normalized_score',\n",
       "       'cnn_probability', 'm_half_re', 'sigma_star', 'theta_e_pm',\n",
       "       'theta_e_sis', 'KIDS_ID', 'mag', 'mag_err', 'name', 'num_0',\n",
       "       'probability', 'rms', 's*p/10', 'z_max', 'z_min', 'zphot', 'RA_y',\n",
       "       'DEC_y', 'Z', 'Rpetro', 'DM_100_25_75', 'SURVEY_CODE', 'SigErr',\n",
       "       'GroupID', 'RankIterCen', 'SepIterCen', 'CoSepIterCen', 'AngSepIterCen',\n",
       "       'RankBCG', 'SepBCG', 'CoSepBCG', 'AngSepBCG', 'RankCen', 'SepCen',\n",
       "       'CoSepCen', 'AngSepCen'],\n",
       "      dtype='object')"
      ]
     },
     "execution_count": 115,
     "metadata": {},
     "output_type": "execute_result"
    }
   ],
   "source": [
    "fdm_groups.columns"
   ]
  },
  {
   "cell_type": "code",
   "execution_count": 25,
   "id": "traditional-remove",
   "metadata": {},
   "outputs": [
    {
     "name": "stdout",
     "output_type": "stream",
     "text": [
      "250289\n",
      "3629152\n"
     ]
    }
   ],
   "source": [
    "for i in range(len(grupos)):\n",
    "    print(grupos.iloc[i].GAMA_ID)"
   ]
  },
  {
   "cell_type": "code",
   "execution_count": 102,
   "id": "diagnostic-burton",
   "metadata": {},
   "outputs": [
    {
     "name": "stdout",
     "output_type": "stream",
     "text": [
      "0    0.401519\n",
      "1    0.486639\n",
      "2    0.466698\n",
      "3    0.485486\n",
      "4    0.501455\n",
      "5    0.558128\n",
      "Name: dark_fraction_ue3, dtype: float64\n",
      "0    0.338816\n",
      "1    0.400617\n",
      "2    0.435082\n",
      "3    0.487533\n",
      "4    0.465570\n",
      "5    0.521721\n",
      "Name: dark_fraction, dtype: float64\n"
     ]
    }
   ],
   "source": [
    "print(fdm_groups.dark_fraction_ue3)\n",
    "print(fdm_groups.dark_fraction)"
   ]
  },
  {
   "cell_type": "code",
   "execution_count": 116,
   "id": "secure-blank",
   "metadata": {},
   "outputs": [
    {
     "name": "stdout",
     "output_type": "stream",
     "text": [
      "[0.20625217 1.27063365 0.88438922 0.57694742 0.33055877 0.73061463] [0.10072876 0.11205658 0.12026352 0.12878208 0.11927549 0.11088524] [ 0.06270261  0.0860219   0.03161631 -0.00204751  0.03588504  0.0364073 ] [-0.06270261 -0.0860219  -0.03161631  0.00204751 -0.03588504 -0.0364073 ]\n"
     ]
    }
   ],
   "source": [
    "# link the different stellar mass measurements\n",
    "mass_diff = fdm_groups.lambdar_log_mstar - np.log10(fdm_groups.stellar_mass)\n",
    "\n",
    "# set up upper and lower errors\n",
    "model_mass_uerr = np.array(np.log10(fdm_groups.stellar_mass_ue3) - np.log10(fdm_groups.stellar_mass))\n",
    "model_mass_lerr = np.array(np.log10(fdm_groups.stellar_mass) - np.log10(fdm_groups.stellar_mass_le3))\n",
    "gama_mass_err = np.array(fdm_groups.lambdar_log_mstar_error)\n",
    "fdm_uerr = np.array(fdm_groups.dark_fraction_ue3 - fdm_groups.dark_fraction)\n",
    "fdm_lerr = np.array(fdm_groups.dark_fraction - fdm_groups.dark_fraction_ue3)\n",
    "\n",
    "print(model_mass_lerr, gama_mass_err, fdm_uerr, fdm_lerr)"
   ]
  },
  {
   "cell_type": "code",
   "execution_count": 5,
   "id": "superb-pillow",
   "metadata": {},
   "outputs": [
    {
     "ename": "NameError",
     "evalue": "name 'plt' is not defined",
     "output_type": "error",
     "traceback": [
      "\u001b[0;31m---------------------------------------------------------------------------\u001b[0m",
      "\u001b[0;31mNameError\u001b[0m                                 Traceback (most recent call last)",
      "\u001b[0;32m<ipython-input-5-2a7e6ac69f57>\u001b[0m in \u001b[0;36m<module>\u001b[0;34m\u001b[0m\n\u001b[1;32m      3\u001b[0m \u001b[0;31m#####\u001b[0m\u001b[0;34m\u001b[0m\u001b[0;34m\u001b[0m\u001b[0;34m\u001b[0m\u001b[0m\n\u001b[1;32m      4\u001b[0m \u001b[0;31m# start figure\u001b[0m\u001b[0;34m\u001b[0m\u001b[0;34m\u001b[0m\u001b[0;34m\u001b[0m\u001b[0m\n\u001b[0;32m----> 5\u001b[0;31m \u001b[0mfig\u001b[0m\u001b[0;34m,\u001b[0m \u001b[0maxs\u001b[0m \u001b[0;34m=\u001b[0m \u001b[0mplt\u001b[0m\u001b[0;34m.\u001b[0m\u001b[0msubplots\u001b[0m\u001b[0;34m(\u001b[0m\u001b[0mfigsize\u001b[0m\u001b[0;34m=\u001b[0m\u001b[0;34m(\u001b[0m\u001b[0;36m8\u001b[0m\u001b[0;34m,\u001b[0m \u001b[0;36m6\u001b[0m\u001b[0;34m)\u001b[0m\u001b[0;34m)\u001b[0m\u001b[0;34m\u001b[0m\u001b[0;34m\u001b[0m\u001b[0m\n\u001b[0m\u001b[1;32m      6\u001b[0m \u001b[0;34m\u001b[0m\u001b[0m\n\u001b[1;32m      7\u001b[0m \u001b[0;31m# mass diff line\u001b[0m\u001b[0;34m\u001b[0m\u001b[0;34m\u001b[0m\u001b[0;34m\u001b[0m\u001b[0m\n",
      "\u001b[0;31mNameError\u001b[0m: name 'plt' is not defined"
     ]
    }
   ],
   "source": [
    "# plot\n",
    "\n",
    "#####\n",
    "# start figure\n",
    "fig, axs = plt.subplots(figsize=(8, 6))\n",
    "\n",
    "# mass diff line\n",
    "#axs.errorbar(np.log10(fdm_groups.stellar_mass), fdm_groups.dark_fraction, \n",
    "#                       xerr=mass_diff,\n",
    "#                       marker='.', \n",
    "#                         color='k',\n",
    "#                       linestyle='None',\n",
    "#                         ecolor='k',\n",
    "#                         elinewidth=1,\n",
    "#                      xlolims = True,\n",
    "#                      label = None,\n",
    "#                      alpha = 0.5,\n",
    "#                        zorder=-1)\n",
    "\n",
    "# plot errors\n",
    "axs.errorbar(np.log10(fdm_groups.stellar_mass), fdm_groups.dark_fraction, \n",
    "             marker='.',\n",
    "             #markeredgecolor='black',\n",
    "             #markersize=200,\n",
    "              #mfc='black',\n",
    "             #ecolor='k',\n",
    "             linestyle='None',\n",
    "             #yerr=(fdm_lerr, fdm_uerr),\n",
    "             xerr=(model_mass_lerr, model_mass_uerr),\n",
    "             #cmap='plasma',)\n",
    "             label='Model Stellar Mass Error',\n",
    "             elinewidth=2.0,\n",
    "             zorder=-1,\n",
    "             capsize=4.0\n",
    "                )\n",
    "#axs.errorbar(fdm_groups.lambdar_log_mstar, fdm_groups.dark_fraction, \n",
    "#             marker='.',\n",
    "             #markeredgecolor='black',\n",
    "             #markersize=150,\n",
    "             # mfc='black',\n",
    "             #ecolor='b',\n",
    "#             linestyle='None',\n",
    "#             xerr=gama_mass_err,\n",
    "             #yerr=(fdm_lerr, fdm_uerr),\n",
    "             #cmap='plasma',)\n",
    "#             label='LAMBDAR Stellar Mass Error',\n",
    "#             zorder=-1,\n",
    "#             capsize=4.0\n",
    "#                )\n",
    "\n",
    "axs.scatter(np.log10(grupos.stellar_mass), grupos.dark_fraction, \n",
    "                     marker='o',\n",
    "                     edgecolor='black',\n",
    "                     s=200,\n",
    "                      c='black',\n",
    "                     #cmap='plasma',)\n",
    "                     label='Group Galaxy - model stellar mass w/in Einstein Radius')\n",
    "#axs.scatter(grupos.lambdar_log_mstar, grupos.dark_fraction, \n",
    "#                     marker='s',\n",
    "#                     edgecolor='black',\n",
    "#                     s=150,\n",
    "#                      c='black',\n",
    "                     #cmap='plasma',)\n",
    "#                     label='Group Galaxy - GAMA observed total stellar mass')\n",
    "axs.scatter(np.log10(isos.stellar_mass), isos.dark_fraction, \n",
    "                     marker='o',\n",
    "                     edgecolor='black',\n",
    "                     s=200,\n",
    "                      c='purple',\n",
    "                     #cmap='plasma',)\n",
    "                     label='Isolated Galaxy - model stellar mass w/in Einstein Radius')\n",
    "axs.scatter(isos.lambdar_log_mstar, isos.dark_fraction, \n",
    "                     marker='s',\n",
    "                     edgecolor='black',\n",
    "                     s=150,\n",
    "                      c='purple',\n",
    "                     #cmap='plasma',)\n",
    "                     label='Isolated Galaxy - GAMA observed total stellar mass')\n",
    "\n",
    "#plt.colorbar(scatter, label='Fraction of Dark Matter',)\n",
    "axs.set_title('Fraction of Dark Matter vs. Stellar Mass', fontsize=16)\n",
    "axs.set_xlabel(r'Stellar Mass $log(M_*/M_\\odot)$', fontsize=16)\n",
    "axs.set_ylabel(r'Fraction Dark Matter', fontsize=16)\n",
    "#axs.set_xlim(10.75, 11.75)\n",
    "#axs.set_ylim(0.0, 1.0)\n",
    "#axs.legend(fontsize=12,\n",
    "#           labelspacing = 1.0)\n",
    "#plt.savefig(f'{png_path}fdm_vs_stellar_mass_032621.png')"
   ]
  },
  {
   "cell_type": "code",
   "execution_count": 124,
   "id": "missing-barbados",
   "metadata": {},
   "outputs": [
    {
     "ename": "TypeError",
     "evalue": "cannot unpack non-iterable AxesSubplot object",
     "output_type": "error",
     "traceback": [
      "\u001b[0;31m---------------------------------------------------------------------------\u001b[0m",
      "\u001b[0;31mTypeError\u001b[0m                                 Traceback (most recent call last)",
      "\u001b[0;32m<ipython-input-124-5ae1405881ba>\u001b[0m in \u001b[0;36m<module>\u001b[0;34m\u001b[0m\n\u001b[1;32m      6\u001b[0m \u001b[0merror\u001b[0m \u001b[0;34m=\u001b[0m \u001b[0;36m0.1\u001b[0m \u001b[0;34m+\u001b[0m \u001b[0;36m0.2\u001b[0m \u001b[0;34m*\u001b[0m \u001b[0mx\u001b[0m\u001b[0;34m\u001b[0m\u001b[0;34m\u001b[0m\u001b[0m\n\u001b[1;32m      7\u001b[0m \u001b[0;34m\u001b[0m\u001b[0m\n\u001b[0;32m----> 8\u001b[0;31m \u001b[0mfig\u001b[0m\u001b[0;34m,\u001b[0m \u001b[0;34m(\u001b[0m\u001b[0max0\u001b[0m\u001b[0;34m,\u001b[0m \u001b[0max1\u001b[0m\u001b[0;34m)\u001b[0m \u001b[0;34m=\u001b[0m \u001b[0mplt\u001b[0m\u001b[0;34m.\u001b[0m\u001b[0msubplots\u001b[0m\u001b[0;34m(\u001b[0m\u001b[0mnrows\u001b[0m\u001b[0;34m=\u001b[0m\u001b[0;36m2\u001b[0m\u001b[0;34m,\u001b[0m \u001b[0msharex\u001b[0m\u001b[0;34m=\u001b[0m\u001b[0;32mTrue\u001b[0m\u001b[0;34m)\u001b[0m\u001b[0;34m\u001b[0m\u001b[0;34m\u001b[0m\u001b[0m\n\u001b[0m\u001b[1;32m      9\u001b[0m \u001b[0max0\u001b[0m\u001b[0;34m.\u001b[0m\u001b[0merrorbar\u001b[0m\u001b[0;34m(\u001b[0m\u001b[0mx\u001b[0m\u001b[0;34m,\u001b[0m \u001b[0my\u001b[0m\u001b[0;34m,\u001b[0m \u001b[0myerr\u001b[0m\u001b[0;34m=\u001b[0m\u001b[0merror\u001b[0m\u001b[0;34m,\u001b[0m \u001b[0mfmt\u001b[0m\u001b[0;34m=\u001b[0m\u001b[0;34m'-o'\u001b[0m\u001b[0;34m)\u001b[0m\u001b[0;34m\u001b[0m\u001b[0;34m\u001b[0m\u001b[0m\n\u001b[1;32m     10\u001b[0m \u001b[0max0\u001b[0m\u001b[0;34m.\u001b[0m\u001b[0mset_title\u001b[0m\u001b[0;34m(\u001b[0m\u001b[0;34m'variable, symmetric error'\u001b[0m\u001b[0;34m)\u001b[0m\u001b[0;34m\u001b[0m\u001b[0;34m\u001b[0m\u001b[0m\n",
      "\u001b[0;31mTypeError\u001b[0m: cannot unpack non-iterable AxesSubplot object"
     ]
    }
   ],
   "source": [
    "# example data\n",
    "x = np.array([1,2])#np.arange(0.1, 4, 0.5)\n",
    "y = np.array([1,2])#np.exp(-x)\n",
    "\n",
    "# example error bar values that vary with x-position\n",
    "error = 0.1 + 0.2 * x\n",
    "\n",
    "fig, (ax0, ax1) = plt.subplots(nrows=2, sharex=True)\n",
    "ax0.errorbar(x, y, yerr=error, fmt='-o')\n",
    "ax0.set_title('variable, symmetric error')\n",
    "\n",
    "# error bar values w/ different -/+ errors that\n",
    "# also vary with the x-position\n",
    "lower_error = 0.4 * error\n",
    "upper_error = error\n",
    "print(upper_error)\n",
    "\n",
    "asymmetric_error = [lower_error, upper_error]\n",
    "\n",
    "ax1.errorbar(x, y, xerr=asymmetric_error, yerr=asymmetric_error, fmt='o')\n",
    "ax1.set_title('variable, asymmetric error')\n",
    "ax1.set_yscale('log')\n",
    "plt.show()"
   ]
  },
  {
   "cell_type": "code",
   "execution_count": 100,
   "id": "centered-newark",
   "metadata": {},
   "outputs": [
    {
     "data": {
      "text/plain": [
       "<ErrorbarContainer object of 3 artists>"
      ]
     },
     "execution_count": 100,
     "metadata": {},
     "output_type": "execute_result"
    },
    {
     "data": {
      "image/png": "[encoded data removed]",
      "text/plain": [
       "<Figure size 576x432 with 1 Axes>"
      ]
     },
     "metadata": {
      "needs_background": "light"
     },
     "output_type": "display_data"
    }
   ],
   "source": [
    "\n",
    "# plot errors\n",
    "plt, axs = plt.subplots(figsize=(8,6))\n",
    "axs.errorbar(np.log10(fdm_groups.stellar_mass), fdm_groups.dark_fraction, \n",
    "             marker='.',\n",
    "             #markeredgecolor='black',\n",
    "             #markersize=200,\n",
    "              #mfc='black',\n",
    "             #ecolor='k',\n",
    "             linestyle='None',\n",
    "             yerr=(fdm_lerr, fdm_uerr),\n",
    "             xerr=(model_mass_lerr, model_mass_uerr),\n",
    "             #cmap='plasma',)\n",
    "             label='Model Stellar Mass Error',\n",
    "             elinewidth=2.0,\n",
    "             zorder=-1,\n",
    "             capsize=4.0\n",
    "                )"
   ]
  },
  {
   "cell_type": "code",
   "execution_count": null,
   "id": "humanitarian-sheet",
   "metadata": {},
   "outputs": [],
   "source": [
    "data = fits.open(f'{fits_path}LambdarInputCatUVOptNIR.fits')[1].data\n",
    "print(data.columns.names)\n",
    "data_byte_swap=data.byteswap().newbyteorder()\n",
    "\n",
    "apertures = pd.DataFrame(data_byte_swap[:], columns = data.columns.names)\n",
    "apertures.rename(columns={'CATAID':'GAMA_ID'}, inplace=True)\n",
    "print(apertures.columns)\n",
    "\n",
    "candidates = pd.read_csv(f'{latest_path}all_samples_latest.csv')\n",
    "\n",
    "candidates_apertures = pd.merge(candidates, apertures, how='left', on='GAMA_ID')\n",
    "print(candidates_apertures[['GAMA_ID','ID','RADMAJ','RADMIN']])"
   ]
  },
  {
   "cell_type": "code",
   "execution_count": 146,
   "id": "suited-greenhouse",
   "metadata": {},
   "outputs": [
    {
     "name": "stdout",
     "output_type": "stream",
     "text": [
      "Index(['Unnamed: 0', 'DEC_x', 'GAMA_ID', 'ID', 'KIDS_ID', 'P1', 'P3', 'R',\n",
      "       'RA_x', 'Unnamed: 0_x', 'Unnamed: 0_y', 'cnn_probability',\n",
      "       'corrected_stellar_mass', 'dlens', 'dsource', 'error',\n",
      "       'lambdar_log_mstar', 'lambdar_log_mstar_error', 'lambdar_mstar', 'mag',\n",
      "       'mag_err', 'name', 'normalized_score', 'num_0', 'prob', 'probability',\n",
      "       'rms', 's*p/10', 'score', 'sigma1', 'sigma2', 'sigma3', 'sigma4',\n",
      "       'sigma_lens', 'sigma_source', 'template1', 'template2', 'type',\n",
      "       'type_number', 'z', 'z1', 'z2', 'z_max', 'z_min', 'zlens', 'zphot',\n",
      "       'zsource', 'LAMID', 'RA_y', 'DEC_y', 'ROTN2E', 'RADMAJ', 'RADMIN',\n",
      "       'AP_ORIGIN', 'CONTAM'],\n",
      "      dtype='object')\n",
      "      GAMA_ID      ID     RADMAJ     RADMIN\n",
      "0    600305.0   245.0  10.626929  10.433950\n",
      "1    419067.0  1179.0   8.078142   7.588664\n",
      "2    387244.0  1819.0   6.045559   5.775358\n",
      "3   3611088.0  1743.0   6.914312   6.888985\n",
      "4    373093.0  2897.0   7.088555   5.671521\n",
      "5    585328.0  3234.0   9.605834   7.504665\n",
      "6    561058.0  3349.0   6.873229   5.433260\n",
      "7     84425.0  2562.0   8.362465   7.294784\n",
      "8    165293.0  2144.0   6.898384   5.976422\n",
      "9    559216.0  2507.0   7.344277   6.184321\n",
      "10   272448.0  2541.0   6.428762   4.803287\n",
      "11   544226.0  3212.0   6.728340   5.210052\n",
      "12    62734.0   539.0   6.599447   5.836612\n",
      "13   513159.0  2123.0   6.627718   5.708988\n",
      "14   593219.0   457.0   7.039458   5.404028\n",
      "15   617569.0  1418.0   6.405385   5.729200\n",
      "16   342310.0  2163.0   6.036124   4.795951\n",
      "17   250289.0  2730.0   6.407471   4.526707\n",
      "18   323152.0  2967.0   5.719263   5.067353\n",
      "19  3575500.0  1906.0   7.602118   7.441216\n",
      "20   345595.0  3294.0   6.657519   5.885718\n",
      "21   145203.0  1939.0   5.708171   5.126251\n",
      "22   611334.0  1517.0   7.632389   5.894860\n",
      "23   184530.0  2250.0   9.382838   5.964602\n",
      "24   262836.0  1953.0   5.592741   5.188228\n",
      "25   318892.0   985.0   5.688925   4.550445\n",
      "26  3886216.0  1340.0   6.490726   5.713236\n",
      "27   138582.0  2828.0   8.149135   6.166515\n",
      "28   238892.0  1924.0   5.901993   5.322539\n",
      "29   251874.0  2253.0   6.737221   5.946291\n",
      "30   592910.0  1852.0   6.026480   5.733453\n",
      "31  3629152.0  1933.0   7.093588   6.112286\n",
      "32  3891172.0  3056.0   5.508443   4.821062\n",
      "33  3896212.0  1483.0   6.051239   5.846549\n",
      "34   262874.0    26.0   6.532125   4.744936\n",
      "35   296451.0  2635.0   8.868051   6.702485\n",
      "36    77312.0  2749.0   6.001153   5.295135\n",
      "37    78854.0  1377.0   4.650543   4.094231\n",
      "38   508050.0  1905.0   5.571522   5.061141\n",
      "39    16104.0     NaN   4.504937   4.067242\n",
      "40    39881.0     NaN   5.977614   4.832023\n",
      "41   569641.0     NaN   6.663614   6.358063\n"
     ]
    }
   ],
   "source": [
    "print(candidates_apertures.columns)\n",
    "print(candidates_apertures[['GAMA_ID','ID','RADMAJ','RADMIN']])"
   ]
  },
  {
   "cell_type": "code",
   "execution_count": null,
   "id": "intensive-insert",
   "metadata": {},
   "outputs": [],
   "source": []
  }
 ],
 "metadata": {
  "kernelspec": {
   "display_name": "Python 3",
   "language": "python",
   "name": "python3"
  },
  "language_info": {
   "codemirror_mode": {
    "name": "ipython",
    "version": 3
   },
   "file_extension": ".py",
   "mimetype": "text/x-python",
   "name": "python",
   "nbconvert_exporter": "python",
   "pygments_lexer": "ipython3",
   "version": "3.7.3"
  }
 },
 "nbformat": 4,
 "nbformat_minor": 5
}
