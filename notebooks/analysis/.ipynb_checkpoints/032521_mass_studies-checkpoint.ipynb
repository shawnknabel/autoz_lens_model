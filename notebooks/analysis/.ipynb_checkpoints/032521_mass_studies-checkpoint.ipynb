{
 "cells": [
  {
   "cell_type": "markdown",
   "id": "integrated-aquatic",
   "metadata": {},
   "source": [
    "# 3/25/21 - This notebook extracts information about total mass, stellar mass, and dark mass within the Einstein radius of completed models."
   ]
  },
  {
   "cell_type": "code",
   "execution_count": 7,
   "id": "romantic-cursor",
   "metadata": {},
   "outputs": [
    {
     "name": "stdout",
     "output_type": "stream",
     "text": [
      "You are here: /data/sknabel/autoz_lens_model\n"
     ]
    }
   ],
   "source": [
    "# libraries\n",
    "\n",
    "from pyprojroot import here\n",
    "print(f'You are here: {here()}')\n",
    "\n",
    "import matplotlib.pyplot as plt\n",
    "from autoconf import conf\n",
    "import autolens as al\n",
    "import autolens.plot as aplt\n",
    "import autofit as af\n",
    "import pandas as pd\n",
    "pd.set_option('display.max_rows', None)\n",
    "pd.set_option('display.max_columns', None)\n",
    "import numpy as np\n",
    "from astropy.io import fits\n",
    "from astropy.visualization import astropy_mpl_style\n",
    "plt.style.use(astropy_mpl_style)\n",
    "import scipy.stats as stats\n",
    "from astropy.stats import sigma_clip as clip\n",
    "\n",
    "from pyprojroot import here\n",
    "\n",
    "%matplotlib inline\n",
    "\n",
    "from astropy import constants as const\n",
    "from astropy.io import fits\n",
    "import astropy.units as u\n",
    "from astropy.cosmology import FlatLambdaCDM, z_at_value\n",
    "\n",
    "c = const.c.to('km/s').value #c in km/s\n",
    "h0 = 73.8 #h0 in km/(Mpc*s) Riess2011\n",
    "cosmo = FlatLambdaCDM(h0, Om0=0.262)\n",
    "\n",
    "# paths\n",
    "autoz_path = f'{here()}/'\n",
    "file_path = f'{autoz_path}files/'\n",
    "csv_path = f'{file_path}csv/'\n",
    "fits_path = f'{file_path}fits/'\n",
    "latest_path = f'{csv_path}latest/'\n",
    "visual_path = f'{autoz_path}visuals/'\n",
    "png_path = f'{visual_path}png/'\n",
    "pdf_path = f'{visual_path}pdf/'\n",
    "knabel2020_file_path = '/data/sknabel/lens_methods/files/'\n",
    "output_path = f'{autoz_path}output/'"
   ]
  },
  {
   "cell_type": "code",
   "execution_count": 82,
   "id": "interim-lithuania",
   "metadata": {},
   "outputs": [],
   "source": [
    "# define function\n",
    "\n",
    "def extract_mass (instance):\n",
    "\n",
    "    # lens and source galaxies\n",
    "    lens_galaxy = instance.galaxies.lens\n",
    "    source_galaxy = instance.galaxies.source\n",
    "    # einstein radius and masses in angular units\n",
    "    einstein_radius = lens_galaxy.einstein_radius_from_grid(grid=grid)\n",
    "    einstein_mass_ang = lens_galaxy.einstein_mass_angular_from_grid(grid=grid)\n",
    "    stellar_mass_ang = lens_galaxy.stellar_mass_angular_within_circle(radius=einstein_radius)\n",
    "    dark_mass_ang = lens_galaxy.dark_mass_angular_within_circle(radius=einstein_radius)\n",
    "    # critical surface density to convert masses to solar masses\n",
    "    critical_surface_density = al.util.cosmology.critical_surface_density_between_redshifts_from(\n",
    "        redshift_0=lens_galaxy.redshift,\n",
    "        redshift_1=source_galaxy.redshift,\n",
    "        cosmology=cosmo,\n",
    "    )\n",
    "    # masses in solar masses\n",
    "    einstein_mass = einstein_mass_ang * critical_surface_density\n",
    "    stellar_mass = stellar_mass_ang * critical_surface_density\n",
    "    dark_mass = dark_mass_ang * critical_surface_density\n",
    "    stellar_plus_dark_mass = stellar_mass + dark_mass # just to see if they're the same!\n",
    "    # masses fractions\n",
    "    stellar_fraction = stellar_mass / (stellar_plus_dark_mass)\n",
    "    dark_fraction = dark_mass / (stellar_plus_dark_mass)\n",
    "    \n",
    "    # print results\n",
    "    print(f'Einstein radius: {einstein_radius}')\n",
    "    print(f'Einstein mass: {einstein_mass}')\n",
    "    print(f'Stellar mass: {stellar_mass}')\n",
    "    print(f'Dark mass: {dark_mass}')\n",
    "    print(f'Stellar + Dark mass: {stellar_plus_dark_mass}')\n",
    "    print(f'Stellar fraction: {stellar_fraction}')\n",
    "    print(f'Dark fraction: {dark_fraction}')\n",
    "    \n",
    "    print()\n",
    "    print(\"Can't build there!\")\n",
    "\n",
    "    return(einstein_radius.tolist(), \n",
    "           einstein_mass[0], \n",
    "           stellar_mass[0], \n",
    "           dark_mass[0], \n",
    "           stellar_plus_dark_mass[0], \n",
    "           stellar_fraction[0], \n",
    "           dark_fraction[0])"
   ]
  },
  {
   "cell_type": "code",
   "execution_count": 100,
   "id": "oriented-klein",
   "metadata": {},
   "outputs": [
    {
     "name": "stdout",
     "output_type": "stream",
     "text": [
      "Empty DataFrame\n",
      "Columns: [GAMA_ID, ID, einstein_radius, einstein_mass, stellar_mass, dark_mass, stellar_plus_dark_mass, stellar_fraction, dark_fraction]\n",
      "Index: []\n"
     ]
    }
   ],
   "source": [
    "# set up empty dataframe\n",
    "masses = pd.DataFrame(np.zeros(shape=(0,9)), columns = ['GAMA_ID', \n",
    "                                              'ID', \n",
    "                                              'einstein_radius',\n",
    "                                             'einstein_mass',\n",
    "                                             'stellar_mass',\n",
    "                                             'dark_mass',\n",
    "                                             'stellar_plus_dark_mass',\n",
    "                                             'stellar_fraction',\n",
    "                                             'dark_fraction'])\n",
    "\n",
    "#masses.loc[-1] = [1, 2, 3, 4, 5, 6, 7, 8, 9]  # adding a row\n",
    "#masses.index = masses.index + 1  # shifting index\n",
    "#masses = masses.sort_index()  # sorting by index\n",
    "print(masses)"
   ]
  },
  {
   "cell_type": "code",
   "execution_count": 159,
   "id": "improved-discrimination",
   "metadata": {},
   "outputs": [
    {
     "name": "stdout",
     "output_type": "stream",
     "text": [
      "Ah! Ya scared me!\n",
      "GAMA ID?\n"
     ]
    },
    {
     "name": "stdin",
     "output_type": "stream",
     "text": [
      " 250289\n"
     ]
    },
    {
     "name": "stdout",
     "output_type": "stream",
     "text": [
      "LinKS ID?\n"
     ]
    },
    {
     "name": "stdin",
     "output_type": "stream",
     "text": [
      " 2730\n"
     ]
    },
    {
     "name": "stdout",
     "output_type": "stream",
     "text": [
      "You got it!\n",
      "Aggregator loading phases... could take some time.\n",
      "\n",
      " A total of 58 phases and results were found.\n",
      "Filter found a total of 1 results\n"
     ]
    },
    {
     "ename": "PriorLimitException",
     "evalue": "The physical value 1.7661688782556337 for a prior was not within its limits 0.0, 1.4581067562103271",
     "output_type": "error",
     "traceback": [
      "\u001b[0;31m---------------------------------------------------------------------------\u001b[0m",
      "\u001b[0;31mPriorLimitException\u001b[0m                       Traceback (most recent call last)",
      "\u001b[0;32m<ipython-input-159-ccb4361006fc>\u001b[0m in \u001b[0;36m<module>\u001b[0;34m\u001b[0m\n\u001b[1;32m     21\u001b[0m \u001b[0;34m\u001b[0m\u001b[0m\n\u001b[1;32m     22\u001b[0m \u001b[0;31m# take median pdf instance\u001b[0m\u001b[0;34m\u001b[0m\u001b[0;34m\u001b[0m\u001b[0;34m\u001b[0m\u001b[0m\n\u001b[0;32m---> 23\u001b[0;31m \u001b[0mmpdf_instances\u001b[0m \u001b[0;34m=\u001b[0m \u001b[0;34m[\u001b[0m\u001b[0msamps\u001b[0m\u001b[0;34m.\u001b[0m\u001b[0mmedian_pdf_instance\u001b[0m \u001b[0;32mfor\u001b[0m \u001b[0msamps\u001b[0m \u001b[0;32min\u001b[0m \u001b[0magg_filter\u001b[0m\u001b[0;34m.\u001b[0m\u001b[0mvalues\u001b[0m\u001b[0;34m(\u001b[0m\u001b[0;34m\"samples\"\u001b[0m\u001b[0;34m)\u001b[0m\u001b[0;34m]\u001b[0m\u001b[0;34m\u001b[0m\u001b[0;34m\u001b[0m\u001b[0m\n\u001b[0m\u001b[1;32m     24\u001b[0m \u001b[0;34m\u001b[0m\u001b[0m\n\u001b[1;32m     25\u001b[0m \u001b[0;32mfor\u001b[0m \u001b[0minstance\u001b[0m \u001b[0;32min\u001b[0m \u001b[0mmpdf_instances\u001b[0m\u001b[0;34m:\u001b[0m\u001b[0;34m\u001b[0m\u001b[0;34m\u001b[0m\u001b[0m\n",
      "\u001b[0;32m<ipython-input-159-ccb4361006fc>\u001b[0m in \u001b[0;36m<listcomp>\u001b[0;34m(.0)\u001b[0m\n\u001b[1;32m     21\u001b[0m \u001b[0;34m\u001b[0m\u001b[0m\n\u001b[1;32m     22\u001b[0m \u001b[0;31m# take median pdf instance\u001b[0m\u001b[0;34m\u001b[0m\u001b[0;34m\u001b[0m\u001b[0;34m\u001b[0m\u001b[0m\n\u001b[0;32m---> 23\u001b[0;31m \u001b[0mmpdf_instances\u001b[0m \u001b[0;34m=\u001b[0m \u001b[0;34m[\u001b[0m\u001b[0msamps\u001b[0m\u001b[0;34m.\u001b[0m\u001b[0mmedian_pdf_instance\u001b[0m \u001b[0;32mfor\u001b[0m \u001b[0msamps\u001b[0m \u001b[0;32min\u001b[0m \u001b[0magg_filter\u001b[0m\u001b[0;34m.\u001b[0m\u001b[0mvalues\u001b[0m\u001b[0;34m(\u001b[0m\u001b[0;34m\"samples\"\u001b[0m\u001b[0;34m)\u001b[0m\u001b[0;34m]\u001b[0m\u001b[0;34m\u001b[0m\u001b[0;34m\u001b[0m\u001b[0m\n\u001b[0m\u001b[1;32m     24\u001b[0m \u001b[0;34m\u001b[0m\u001b[0m\n\u001b[1;32m     25\u001b[0m \u001b[0;32mfor\u001b[0m \u001b[0minstance\u001b[0m \u001b[0;32min\u001b[0m \u001b[0mmpdf_instances\u001b[0m\u001b[0;34m:\u001b[0m\u001b[0;34m\u001b[0m\u001b[0;34m\u001b[0m\u001b[0m\n",
      "\u001b[0;32m/soft/anaconda3/lib/python3.7/site-packages/autofit/non_linear/samples.py\u001b[0m in \u001b[0;36mmedian_pdf_instance\u001b[0;34m(self)\u001b[0m\n\u001b[1;32m    503\u001b[0m         \"\"\" The median of the probability density function (PDF) of every parameter marginalized in 1D, returned\n\u001b[1;32m    504\u001b[0m         as a model instance.\"\"\"\n\u001b[0;32m--> 505\u001b[0;31m         \u001b[0;32mreturn\u001b[0m \u001b[0mself\u001b[0m\u001b[0;34m.\u001b[0m\u001b[0mmodel\u001b[0m\u001b[0;34m.\u001b[0m\u001b[0minstance_from_vector\u001b[0m\u001b[0;34m(\u001b[0m\u001b[0mvector\u001b[0m\u001b[0;34m=\u001b[0m\u001b[0mself\u001b[0m\u001b[0;34m.\u001b[0m\u001b[0mmedian_pdf_vector\u001b[0m\u001b[0;34m)\u001b[0m\u001b[0;34m\u001b[0m\u001b[0;34m\u001b[0m\u001b[0m\n\u001b[0m\u001b[1;32m    506\u001b[0m \u001b[0;34m\u001b[0m\u001b[0m\n\u001b[1;32m    507\u001b[0m     \u001b[0;32mdef\u001b[0m \u001b[0mvector_at_sigma\u001b[0m\u001b[0;34m(\u001b[0m\u001b[0mself\u001b[0m\u001b[0;34m,\u001b[0m \u001b[0msigma\u001b[0m\u001b[0;34m)\u001b[0m \u001b[0;34m->\u001b[0m \u001b[0;34m[\u001b[0m\u001b[0;34m(\u001b[0m\u001b[0mfloat\u001b[0m\u001b[0;34m,\u001b[0m \u001b[0mfloat\u001b[0m\u001b[0;34m)\u001b[0m\u001b[0;34m]\u001b[0m\u001b[0;34m:\u001b[0m\u001b[0;34m\u001b[0m\u001b[0;34m\u001b[0m\u001b[0m\n",
      "\u001b[0;32m/soft/anaconda3/lib/python3.7/site-packages/autofit/mapper/prior_model/abstract.py\u001b[0m in \u001b[0;36minstance_from_vector\u001b[0;34m(self, vector, assert_priors_in_limits)\u001b[0m\n\u001b[1;32m    336\u001b[0m         return self.instance_for_arguments(\n\u001b[1;32m    337\u001b[0m             \u001b[0marguments\u001b[0m\u001b[0;34m,\u001b[0m\u001b[0;34m\u001b[0m\u001b[0;34m\u001b[0m\u001b[0m\n\u001b[0;32m--> 338\u001b[0;31m             \u001b[0massert_priors_in_limits\u001b[0m\u001b[0;34m=\u001b[0m\u001b[0massert_priors_in_limits\u001b[0m\u001b[0;34m\u001b[0m\u001b[0;34m\u001b[0m\u001b[0m\n\u001b[0m\u001b[1;32m    339\u001b[0m         )\n\u001b[1;32m    340\u001b[0m \u001b[0;34m\u001b[0m\u001b[0m\n",
      "\u001b[0;32m/soft/anaconda3/lib/python3.7/site-packages/autofit/mapper/prior_model/abstract.py\u001b[0m in \u001b[0;36minstance_for_arguments\u001b[0;34m(self, arguments, assert_priors_in_limits)\u001b[0m\n\u001b[1;32m    702\u001b[0m             \u001b[0;32mfor\u001b[0m \u001b[0mprior\u001b[0m\u001b[0;34m,\u001b[0m \u001b[0mvalue\u001b[0m \u001b[0;32min\u001b[0m \u001b[0marguments\u001b[0m\u001b[0;34m.\u001b[0m\u001b[0mitems\u001b[0m\u001b[0;34m(\u001b[0m\u001b[0;34m)\u001b[0m\u001b[0;34m:\u001b[0m\u001b[0;34m\u001b[0m\u001b[0;34m\u001b[0m\u001b[0m\n\u001b[1;32m    703\u001b[0m                 \u001b[0;32mif\u001b[0m \u001b[0misinstance\u001b[0m\u001b[0;34m(\u001b[0m\u001b[0mvalue\u001b[0m\u001b[0;34m,\u001b[0m \u001b[0mNumber\u001b[0m\u001b[0;34m)\u001b[0m\u001b[0;34m:\u001b[0m\u001b[0;34m\u001b[0m\u001b[0;34m\u001b[0m\u001b[0m\n\u001b[0;32m--> 704\u001b[0;31m                     \u001b[0mprior\u001b[0m\u001b[0;34m.\u001b[0m\u001b[0massert_within_limits\u001b[0m\u001b[0;34m(\u001b[0m\u001b[0mvalue\u001b[0m\u001b[0;34m)\u001b[0m\u001b[0;34m\u001b[0m\u001b[0;34m\u001b[0m\u001b[0m\n\u001b[0m\u001b[1;32m    705\u001b[0m         return self._instance_for_arguments(\n\u001b[1;32m    706\u001b[0m             \u001b[0marguments\u001b[0m\u001b[0;34m\u001b[0m\u001b[0;34m\u001b[0m\u001b[0m\n",
      "\u001b[0;32m/soft/anaconda3/lib/python3.7/site-packages/autofit/mapper/prior/prior.py\u001b[0m in \u001b[0;36massert_within_limits\u001b[0;34m(self, value)\u001b[0m\n\u001b[1;32m    182\u001b[0m                 \u001b[0;34m\"The physical value {} for a prior \"\u001b[0m\u001b[0;34m\u001b[0m\u001b[0;34m\u001b[0m\u001b[0m\n\u001b[1;32m    183\u001b[0m                 \"was not within its limits {}, {}\".format(\n\u001b[0;32m--> 184\u001b[0;31m                     \u001b[0mvalue\u001b[0m\u001b[0;34m,\u001b[0m \u001b[0mself\u001b[0m\u001b[0;34m.\u001b[0m\u001b[0mlower_limit\u001b[0m\u001b[0;34m,\u001b[0m \u001b[0mself\u001b[0m\u001b[0;34m.\u001b[0m\u001b[0mupper_limit\u001b[0m\u001b[0;34m\u001b[0m\u001b[0;34m\u001b[0m\u001b[0m\n\u001b[0m\u001b[1;32m    185\u001b[0m                 )\n\u001b[1;32m    186\u001b[0m             )\n",
      "\u001b[0;31mPriorLimitException\u001b[0m: The physical value 1.7661688782556337 for a prior was not within its limits 0.0, 1.4581067562103271"
     ]
    }
   ],
   "source": [
    "# extract from one output folder\n",
    "# identify gama id and links id\n",
    "\n",
    "print('Ah! Ya scared me!')\n",
    "print('GAMA ID?')\n",
    "gama_id = int(input())\n",
    "print('LinKS ID?')\n",
    "links_id = int(input())\n",
    "#print('Phase folder identifier? (for agg filter)')\n",
    "#filter_words = input()\n",
    "print('You got it!')\n",
    "\n",
    "model_path = f'{output_path}G{gama_id}_{links_id}/'\n",
    "\n",
    "# specify grid\n",
    "grid = al.Grid2D.uniform(shape_native=(101, 101), pixel_scales=0.2)\n",
    "\n",
    "# load samples with aggregator\n",
    "agg = af.Aggregator(directory=model_path)\n",
    "agg_filter = agg.filter(agg.directory.contains('black_spot'))\n",
    "\n",
    "# take median pdf instance\n",
    "mpdf_instances = [samps.median_pdf_instance for samps in agg_filter.values(\"samples\")]\n",
    "\n",
    "for instance in mpdf_instances:\n",
    "    print(instance)\n",
    "    mass_output = list(extract_mass(instance))\n",
    "    # insert gama and links ids at front\n",
    "    mass_output.insert(0, links_id)\n",
    "    mass_output.insert(0, gama_id)\n",
    "    print(len(mass_output))\n",
    "    # append masses dataframe\n",
    "    masses.loc[-1] = mass_output  # adding a row\n",
    "    masses.index = masses.index + 1  # shifting index\n",
    "    masses = masses.sort_index()  # sorting by index\n",
    "    print(masses)\n",
    "    \n",
    "    "
   ]
  },
  {
   "cell_type": "code",
   "execution_count": 119,
   "id": "suburban-force",
   "metadata": {},
   "outputs": [
    {
     "name": "stdout",
     "output_type": "stream",
     "text": [
      "     GAMA_ID      ID  einstein_radius  einstein_mass  stellar_mass  \\\n",
      "1  3891172.0  3056.0         1.161351   3.910583e+11  2.174230e+11   \n",
      "2   262874.0    26.0         0.698010   1.253757e+11  6.523529e+10   \n",
      "3   138582.0  2828.0         1.203267   7.211000e+11  4.134884e+11   \n",
      "\n",
      "      dark_mass  stellar_plus_dark_mass  stellar_fraction  dark_fraction  \n",
      "1  1.894087e+11            4.068317e+11          0.534430       0.465570  \n",
      "2  6.206128e+10            1.272966e+11          0.512467       0.487533  \n",
      "3  3.184552e+11            7.319437e+11          0.564918       0.435082  \n"
     ]
    }
   ],
   "source": [
    "print(masses)"
   ]
  },
  {
   "cell_type": "code",
   "execution_count": 111,
   "id": "proper-terrorism",
   "metadata": {},
   "outputs": [
    {
     "data": {
      "text/plain": [
       "Index(['Unnamed: 0', 'Unnamed: 0.1', 'Unnamed: 0_x', 'GAMA_ID', 'ID', 'RA_x',\n",
       "       'DEC_x', 'score', 'Unnamed: 0_y', 'z1', 'sigma1', 'template1', 'z2',\n",
       "       'sigma2', 'template2', 'sigma3', 'sigma4', 'R', 'prob', 'error', 'type',\n",
       "       'type_number', 'lambdar_log_mstar', 'lambdar_mstar',\n",
       "       'lambdar_log_mstar_error', 'z', 'zlens', 'zsource', 'sigma_lens',\n",
       "       'sigma_source', 'dlens', 'dsource', 'corrected_stellar_mass', 'P1',\n",
       "       'P3', 'normalized_score', 'cnn_probability', 'm_half_re', 'sigma_star',\n",
       "       'theta_e_pm', 'theta_e_sis', 'KIDS_ID', 'mag', 'mag_err', 'name',\n",
       "       'num_0', 'probability', 'rms', 's*p/10', 'z_max', 'z_min', 'zphot',\n",
       "       'RA_y', 'DEC_y', 'Z', 'Rpetro', 'DM_100_25_75', 'SURVEY_CODE', 'SigErr',\n",
       "       'GroupID', 'RankIterCen', 'SepIterCen', 'CoSepIterCen', 'AngSepIterCen',\n",
       "       'RankBCG', 'SepBCG', 'CoSepBCG', 'AngSepBCG', 'RankCen', 'SepCen',\n",
       "       'CoSepCen', 'AngSepCen'],\n",
       "      dtype='object')"
      ]
     },
     "execution_count": 111,
     "metadata": {},
     "output_type": "execute_result"
    }
   ],
   "source": [
    "# load group catalog\n",
    "groups = pd.read_csv(f'{csv_path}candidates_groups.csv')\n",
    "groups.columns"
   ]
  },
  {
   "cell_type": "code",
   "execution_count": 121,
   "id": "amended-variable",
   "metadata": {},
   "outputs": [
    {
     "name": "stdout",
     "output_type": "stream",
     "text": [
      "     GAMA_ID    ID_x  einstein_radius  einstein_mass  stellar_mass  \\\n",
      "0  3891172.0  3056.0         1.161351   3.910583e+11  2.174230e+11   \n",
      "1   262874.0    26.0         0.698010   1.253757e+11  6.523529e+10   \n",
      "2   138582.0  2828.0         1.203267   7.211000e+11  4.134884e+11   \n",
      "\n",
      "      dark_mass  stellar_plus_dark_mass  stellar_fraction  dark_fraction  \\\n",
      "0  1.894087e+11            4.068317e+11          0.534430       0.465570   \n",
      "1  6.206128e+10            1.272966e+11          0.512467       0.487533   \n",
      "2  3.184552e+11            7.319437e+11          0.564918       0.435082   \n",
      "\n",
      "   Unnamed: 0  Unnamed: 0.1  Unnamed: 0_x    ID_y       RA_x    DEC_x  score  \\\n",
      "0          32            32            15  3056.0  139.22725 -1.54519   16.0   \n",
      "1          34            34           329    26.0  221.61067  2.22389   12.0   \n",
      "2          27            27           171  2828.0  183.14009 -1.82700   14.0   \n",
      "\n",
      "   Unnamed: 0_y        z1    sigma1  template1        z2    sigma2  template2  \\\n",
      "0       60082.0  0.339517  8.936283       40.0  0.609052  4.309550       40.0   \n",
      "1      139125.0  0.385581  6.221604       40.0  0.858924  3.421708       41.0   \n",
      "2       74160.0  0.325175  9.727863       44.0  0.432648  4.904557       47.0   \n",
      "\n",
      "     sigma3    sigma4         R      prob      error       type  type_number  \\\n",
      "0  2.948903  2.948903  1.461408  0.999991  50.430428    PG + PG            4   \n",
      "1  2.811662  2.811662  1.216970  0.999163  65.073204    PG + PG            4   \n",
      "2  3.701862  3.701862  1.324889  0.999947  35.335026  ELG + ELG            3   \n",
      "\n",
      "   lambdar_log_mstar  lambdar_mstar  lambdar_log_mstar_error        z  \\\n",
      "0          11.422040   2.642652e+11                 0.119275  0.33952   \n",
      "1          11.252039   1.786648e+11                 0.128782  0.38552   \n",
      "2          11.563930   3.663782e+11                 0.120264  0.32537   \n",
      "\n",
      "      zlens   zsource  sigma_lens  sigma_source        dlens      dsource  \\\n",
      "0  0.339517  0.609052    8.936283      4.309550   956.385867  1338.188778   \n",
      "1  0.385581  0.858924    6.221604      3.421708  1038.698801  1535.048768   \n",
      "2  0.325175  0.432648    9.727863      4.904557   929.006684  1114.609177   \n",
      "\n",
      "   corrected_stellar_mass     P1     P3  normalized_score  cnn_probability  \\\n",
      "0            2.642652e+11  0.906  0.807          0.228571            0.906   \n",
      "1            1.786648e+11    NaN  0.986          0.171429            0.986   \n",
      "2            3.663782e+11  0.975  0.986          0.200000            0.986   \n",
      "\n",
      "      m_half_re  sigma_star  theta_e_pm  theta_e_sis KIDS_ID  mag  mag_err  \\\n",
      "0  2.084216e+11  249.765952    0.710912     0.514473     NaN  NaN      NaN   \n",
      "1  1.277737e+11  223.749950    0.568603     0.467914     NaN  NaN      NaN   \n",
      "2  3.135484e+11  273.781570    0.675886     0.360781     NaN  NaN      NaN   \n",
      "\n",
      "  name  num_0  probability  rms  s*p/10  z_max  z_min  zphot        RA_y  \\\n",
      "0  NaN    NaN          NaN  NaN     NaN    NaN    NaN    NaN  139.227171   \n",
      "1  NaN    NaN          NaN  NaN     NaN    NaN    NaN    NaN  221.610700   \n",
      "2  NaN    NaN          NaN  NaN     NaN    NaN    NaN    NaN  183.139927   \n",
      "\n",
      "      DEC_y         Z     Rpetro  DM_100_25_75  SURVEY_CODE     SigErr  \\\n",
      "0 -1.545249  0.340959  18.953240     40.530354          5.0  50.430428   \n",
      "1  2.223897  0.386515  19.191020     40.852740          5.0  45.550365   \n",
      "2 -1.826983  0.326938  18.391932     40.423200          1.0  12.750370   \n",
      "\n",
      "   GroupID  RankIterCen  SepIterCen  CoSepIterCen  AngSepIterCen  RankBCG  \\\n",
      "0      0.0       -999.0      -999.0        -999.0         -999.0   -999.0   \n",
      "1      0.0       -999.0      -999.0        -999.0         -999.0   -999.0   \n",
      "2      0.0       -999.0      -999.0        -999.0         -999.0   -999.0   \n",
      "\n",
      "   SepBCG  CoSepBCG  AngSepBCG  RankCen  SepCen  CoSepCen  AngSepCen  \n",
      "0  -999.0    -999.0     -999.0   -999.0  -999.0    -999.0     -999.0  \n",
      "1  -999.0    -999.0     -999.0   -999.0  -999.0    -999.0     -999.0  \n",
      "2  -999.0    -999.0     -999.0   -999.0  -999.0    -999.0     -999.0  \n"
     ]
    }
   ],
   "source": [
    "# merge masses and groups\n",
    "fdm_groups = pd.merge(masses, groups, how='left', on='GAMA_ID')\n",
    "print(fdm_groups)"
   ]
  },
  {
   "cell_type": "code",
   "execution_count": 136,
   "id": "current-pittsburgh",
   "metadata": {},
   "outputs": [
    {
     "data": {
      "text/plain": [
       "<matplotlib.collections.PathCollection at 0x7f5a33abd7f0>"
      ]
     },
     "execution_count": 136,
     "metadata": {},
     "output_type": "execute_result"
    },
    {
     "data": {
      "image/png": "[encoded data removed]",
      "text/plain": [
       "<Figure size 432x288 with 4 Axes>"
      ]
     },
     "metadata": {
      "needs_background": "light"
     },
     "output_type": "display_data"
    }
   ],
   "source": [
    "fig, axs = plt.subplots(2, 2)\n",
    "axs[0,0].scatter(np.log10(fdm_groups.stellar_mass), fdm_groups.dark_fraction, color='blue')\n",
    "axs[0,0].scatter(fdm_groups.lambdar_log_mstar, fdm_groups.dark_fraction)\n",
    "axs[0,1].scatter(fdm_groups.zlens, fdm_groups.dark_fraction)\n"
   ]
  },
  {
   "cell_type": "code",
   "execution_count": 201,
   "id": "scheduled-exclusive",
   "metadata": {},
   "outputs": [
    {
     "data": {
      "text/plain": [
       "array([0. , 0.1, 0.2, 0.3, 0.4, 0.5, 0.6, 0.7, 0.8, 0.9, 1. ])"
      ]
     },
     "execution_count": 201,
     "metadata": {},
     "output_type": "execute_result"
    }
   ],
   "source": [
    "np.linspace(0,1,11)"
   ]
  },
  {
   "cell_type": "code",
   "execution_count": 220,
   "id": "incredible-saskatchewan",
   "metadata": {},
   "outputs": [
    {
     "data": {
      "text/plain": [
       "<matplotlib.legend.Legend at 0x7f59fc592208>"
      ]
     },
     "execution_count": 220,
     "metadata": {},
     "output_type": "execute_result"
    },
    {
     "data": {
      "image/png": "[encoded data removed]",
      "text/plain": [
       "<Figure size 576x432 with 2 Axes>"
      ]
     },
     "metadata": {
      "needs_background": "light"
     },
     "output_type": "display_data"
    }
   ],
   "source": [
    "c = fdm_groups.dark_fraction\n",
    "mass_err = fdm_groups.lambdar_log_mstar - np.log10(fdm_groups.stellar_mass)\n",
    "\n",
    "\n",
    "figure, axs = plt.subplots(figsize=(8, 6))\n",
    "axs.errorbar(np.log10(fdm_groups.stellar_mass), fdm_groups.zlens, \n",
    "                       xerr=mass_err,\n",
    "                       marker='.', \n",
    "                         color='k',\n",
    "                       linestyle='None',\n",
    "                         ecolor='k',\n",
    "                      xlolims = True,\n",
    "                      label = None,\n",
    "                      alpha = 0.5,\n",
    "                        zorder=-1)\n",
    "scatter = axs.scatter(np.log10(fdm_groups.stellar_mass), fdm_groups.zlens, \n",
    "                     marker='o',\n",
    "                     edgecolor='black',\n",
    "                     s=250,\n",
    "                      c=c,\n",
    "                     cmap='plasma',)\n",
    "                     #label='Model stellar mass')\n",
    "axs.scatter(fdm_groups.lambdar_log_mstar, fdm_groups.zlens, \n",
    "                     marker='s',\n",
    "                     edgecolor='black',\n",
    "                     s=200,\n",
    "                      c=c,\n",
    "                     cmap='plasma',)\n",
    "                     #label='GAMA observed stellar mass')\n",
    "axs.scatter(0, 0, \n",
    "                     marker='o',\n",
    "                     edgecolor='black',\n",
    "                     s=250,\n",
    "                      c='None',\n",
    "                     label='Model stellar mass w/in Einstein Radius')\n",
    "axs.scatter(0, 0, \n",
    "                     marker='s',\n",
    "                     edgecolor='black',\n",
    "                     s=200,\n",
    "                      c='None',\n",
    "                     label='GAMA observed total stellar mass')\n",
    "plt.colorbar(scatter, label='Fraction of Dark Matter',)\n",
    "axs.set_title('Fraction of Dark Matter at Lens Redshift and Stellar Mass', fontsize=16)\n",
    "axs.set_xlabel(r'Stellar Mass $log(M_*/M_\\odot)$', fontsize=16)\n",
    "axs.set_ylabel(r'Lens Redshift $z$', fontsize=16)\n",
    "axs.set_xlim(10.75, 11.75)\n",
    "axs.set_ylim(0.2, 0.6)\n",
    "axs.legend(fontsize=12,\n",
    "           labelspacing = 1.0)\n",
    "\n",
    "#plt.savefig(f'{png_path}group_mass_to_stellar_mass.png')"
   ]
  },
  {
   "cell_type": "code",
   "execution_count": 221,
   "id": "worthy-motorcycle",
   "metadata": {},
   "outputs": [
    {
     "data": {
      "text/plain": [
       "<matplotlib.legend.Legend at 0x7f5a14650c88>"
      ]
     },
     "execution_count": 221,
     "metadata": {},
     "output_type": "execute_result"
    },
    {
     "data": {
      "image/png": "[encoded data removed]",
      "text/plain": [
       "<Figure size 576x432 with 1 Axes>"
      ]
     },
     "metadata": {
      "needs_background": "light"
     },
     "output_type": "display_data"
    }
   ],
   "source": [
    "mass_err = fdm_groups.lambdar_log_mstar - np.log10(fdm_groups.stellar_mass)\n",
    "\n",
    "\n",
    "figure, axs = plt.subplots(figsize=(8, 6))\n",
    "axs.errorbar(np.log10(fdm_groups.stellar_mass), fdm_groups.dark_fraction, \n",
    "                       xerr=mass_err,\n",
    "                       marker='.', \n",
    "                         color='k',\n",
    "                       linestyle='None',\n",
    "                         ecolor='k',\n",
    "                      xlolims = True,\n",
    "                      label = None,\n",
    "                      alpha = 0.5,\n",
    "                        zorder=-1)\n",
    "scatter = axs.scatter(np.log10(fdm_groups.stellar_mass), fdm_groups.dark_fraction, \n",
    "                     marker='o',\n",
    "                     edgecolor='black',\n",
    "                     s=250,\n",
    "                      #c=c,\n",
    "                     #cmap='plasma',)\n",
    "                     label='Model stellar mass w/in Einstein Radius')\n",
    "axs.scatter(fdm_groups.lambdar_log_mstar, fdm_groups.dark_fraction, \n",
    "                     marker='s',\n",
    "                     edgecolor='black',\n",
    "                     s=200,\n",
    "                      #c=c,\n",
    "                     #cmap='plasma',)\n",
    "                     label='GAMA observed total stellar mass')\n",
    "#plt.colorbar(scatter, label='Fraction of Dark Matter',)\n",
    "axs.set_title('Fraction of Dark Matter vs. Stellar Mass', fontsize=16)\n",
    "axs.set_xlabel(r'Stellar Mass $log(M_*/M_\\odot)$', fontsize=16)\n",
    "axs.set_ylabel(r'Fraction Dark Matter', fontsize=16)\n",
    "axs.set_xlim(10.75, 11.75)\n",
    "axs.set_ylim(0.0, 1.0)\n",
    "axs.legend(fontsize=12,\n",
    "           labelspacing = 1.0)"
   ]
  },
  {
   "cell_type": "code",
   "execution_count": 34,
   "id": "naked-mailman",
   "metadata": {},
   "outputs": [
    {
     "name": "stdout",
     "output_type": "stream",
     "text": [
      "Ah! Ya scared me!\n",
      "Phase folder identifier? (for agg filter)\n"
     ]
    },
    {
     "name": "stdin",
     "output_type": "stream",
     "text": [
      " black_spot\n"
     ]
    },
    {
     "name": "stdout",
     "output_type": "stream",
     "text": [
      "You got it!\n",
      "Aggregator loading phases... could take some time.\n",
      "\n",
      " A total of 184 phases and results were found.\n",
      "Filter found a total of 7 results\n"
     ]
    },
    {
     "ename": "PriorLimitException",
     "evalue": "The physical value 1.7121746442743908 for a prior was not within its limits 0.0, 1.5518741607666016",
     "output_type": "error",
     "traceback": [
      "\u001b[0;31m---------------------------------------------------------------------------\u001b[0m",
      "\u001b[0;31mPriorLimitException\u001b[0m                       Traceback (most recent call last)",
      "\u001b[0;32m<ipython-input-34-123bea709fed>\u001b[0m in \u001b[0;36m<module>\u001b[0;34m\u001b[0m\n\u001b[1;32m     14\u001b[0m \u001b[0;34m\u001b[0m\u001b[0m\n\u001b[1;32m     15\u001b[0m \u001b[0;31m# take median pdf instance\u001b[0m\u001b[0;34m\u001b[0m\u001b[0;34m\u001b[0m\u001b[0;34m\u001b[0m\u001b[0m\n\u001b[0;32m---> 16\u001b[0;31m \u001b[0mmpdf_instances\u001b[0m \u001b[0;34m=\u001b[0m \u001b[0;34m[\u001b[0m\u001b[0msamps\u001b[0m\u001b[0;34m.\u001b[0m\u001b[0mmedian_pdf_instance\u001b[0m \u001b[0;32mfor\u001b[0m \u001b[0msamps\u001b[0m \u001b[0;32min\u001b[0m \u001b[0magg_filter\u001b[0m\u001b[0;34m.\u001b[0m\u001b[0mvalues\u001b[0m\u001b[0;34m(\u001b[0m\u001b[0;34m\"samples\"\u001b[0m\u001b[0;34m)\u001b[0m\u001b[0;34m]\u001b[0m\u001b[0;34m\u001b[0m\u001b[0;34m\u001b[0m\u001b[0m\n\u001b[0m\u001b[1;32m     17\u001b[0m \u001b[0;34m\u001b[0m\u001b[0m\n\u001b[1;32m     18\u001b[0m \u001b[0;32mfor\u001b[0m \u001b[0minstance\u001b[0m \u001b[0;32min\u001b[0m \u001b[0mmpdf_instances\u001b[0m\u001b[0;34m:\u001b[0m\u001b[0;34m\u001b[0m\u001b[0;34m\u001b[0m\u001b[0m\n",
      "\u001b[0;32m<ipython-input-34-123bea709fed>\u001b[0m in \u001b[0;36m<listcomp>\u001b[0;34m(.0)\u001b[0m\n\u001b[1;32m     14\u001b[0m \u001b[0;34m\u001b[0m\u001b[0m\n\u001b[1;32m     15\u001b[0m \u001b[0;31m# take median pdf instance\u001b[0m\u001b[0;34m\u001b[0m\u001b[0;34m\u001b[0m\u001b[0;34m\u001b[0m\u001b[0m\n\u001b[0;32m---> 16\u001b[0;31m \u001b[0mmpdf_instances\u001b[0m \u001b[0;34m=\u001b[0m \u001b[0;34m[\u001b[0m\u001b[0msamps\u001b[0m\u001b[0;34m.\u001b[0m\u001b[0mmedian_pdf_instance\u001b[0m \u001b[0;32mfor\u001b[0m \u001b[0msamps\u001b[0m \u001b[0;32min\u001b[0m \u001b[0magg_filter\u001b[0m\u001b[0;34m.\u001b[0m\u001b[0mvalues\u001b[0m\u001b[0;34m(\u001b[0m\u001b[0;34m\"samples\"\u001b[0m\u001b[0;34m)\u001b[0m\u001b[0;34m]\u001b[0m\u001b[0;34m\u001b[0m\u001b[0;34m\u001b[0m\u001b[0m\n\u001b[0m\u001b[1;32m     17\u001b[0m \u001b[0;34m\u001b[0m\u001b[0m\n\u001b[1;32m     18\u001b[0m \u001b[0;32mfor\u001b[0m \u001b[0minstance\u001b[0m \u001b[0;32min\u001b[0m \u001b[0mmpdf_instances\u001b[0m\u001b[0;34m:\u001b[0m\u001b[0;34m\u001b[0m\u001b[0;34m\u001b[0m\u001b[0m\n",
      "\u001b[0;32m/soft/anaconda3/lib/python3.7/site-packages/autofit/non_linear/samples.py\u001b[0m in \u001b[0;36mmedian_pdf_instance\u001b[0;34m(self)\u001b[0m\n\u001b[1;32m    503\u001b[0m         \"\"\" The median of the probability density function (PDF) of every parameter marginalized in 1D, returned\n\u001b[1;32m    504\u001b[0m         as a model instance.\"\"\"\n\u001b[0;32m--> 505\u001b[0;31m         \u001b[0;32mreturn\u001b[0m \u001b[0mself\u001b[0m\u001b[0;34m.\u001b[0m\u001b[0mmodel\u001b[0m\u001b[0;34m.\u001b[0m\u001b[0minstance_from_vector\u001b[0m\u001b[0;34m(\u001b[0m\u001b[0mvector\u001b[0m\u001b[0;34m=\u001b[0m\u001b[0mself\u001b[0m\u001b[0;34m.\u001b[0m\u001b[0mmedian_pdf_vector\u001b[0m\u001b[0;34m)\u001b[0m\u001b[0;34m\u001b[0m\u001b[0;34m\u001b[0m\u001b[0m\n\u001b[0m\u001b[1;32m    506\u001b[0m \u001b[0;34m\u001b[0m\u001b[0m\n\u001b[1;32m    507\u001b[0m     \u001b[0;32mdef\u001b[0m \u001b[0mvector_at_sigma\u001b[0m\u001b[0;34m(\u001b[0m\u001b[0mself\u001b[0m\u001b[0;34m,\u001b[0m \u001b[0msigma\u001b[0m\u001b[0;34m)\u001b[0m \u001b[0;34m->\u001b[0m \u001b[0;34m[\u001b[0m\u001b[0;34m(\u001b[0m\u001b[0mfloat\u001b[0m\u001b[0;34m,\u001b[0m \u001b[0mfloat\u001b[0m\u001b[0;34m)\u001b[0m\u001b[0;34m]\u001b[0m\u001b[0;34m:\u001b[0m\u001b[0;34m\u001b[0m\u001b[0;34m\u001b[0m\u001b[0m\n",
      "\u001b[0;32m/soft/anaconda3/lib/python3.7/site-packages/autofit/mapper/prior_model/abstract.py\u001b[0m in \u001b[0;36minstance_from_vector\u001b[0;34m(self, vector, assert_priors_in_limits)\u001b[0m\n\u001b[1;32m    336\u001b[0m         return self.instance_for_arguments(\n\u001b[1;32m    337\u001b[0m             \u001b[0marguments\u001b[0m\u001b[0;34m,\u001b[0m\u001b[0;34m\u001b[0m\u001b[0;34m\u001b[0m\u001b[0m\n\u001b[0;32m--> 338\u001b[0;31m             \u001b[0massert_priors_in_limits\u001b[0m\u001b[0;34m=\u001b[0m\u001b[0massert_priors_in_limits\u001b[0m\u001b[0;34m\u001b[0m\u001b[0;34m\u001b[0m\u001b[0m\n\u001b[0m\u001b[1;32m    339\u001b[0m         )\n\u001b[1;32m    340\u001b[0m \u001b[0;34m\u001b[0m\u001b[0m\n",
      "\u001b[0;32m/soft/anaconda3/lib/python3.7/site-packages/autofit/mapper/prior_model/abstract.py\u001b[0m in \u001b[0;36minstance_for_arguments\u001b[0;34m(self, arguments, assert_priors_in_limits)\u001b[0m\n\u001b[1;32m    702\u001b[0m             \u001b[0;32mfor\u001b[0m \u001b[0mprior\u001b[0m\u001b[0;34m,\u001b[0m \u001b[0mvalue\u001b[0m \u001b[0;32min\u001b[0m \u001b[0marguments\u001b[0m\u001b[0;34m.\u001b[0m\u001b[0mitems\u001b[0m\u001b[0;34m(\u001b[0m\u001b[0;34m)\u001b[0m\u001b[0;34m:\u001b[0m\u001b[0;34m\u001b[0m\u001b[0;34m\u001b[0m\u001b[0m\n\u001b[1;32m    703\u001b[0m                 \u001b[0;32mif\u001b[0m \u001b[0misinstance\u001b[0m\u001b[0;34m(\u001b[0m\u001b[0mvalue\u001b[0m\u001b[0;34m,\u001b[0m \u001b[0mNumber\u001b[0m\u001b[0;34m)\u001b[0m\u001b[0;34m:\u001b[0m\u001b[0;34m\u001b[0m\u001b[0;34m\u001b[0m\u001b[0m\n\u001b[0;32m--> 704\u001b[0;31m                     \u001b[0mprior\u001b[0m\u001b[0;34m.\u001b[0m\u001b[0massert_within_limits\u001b[0m\u001b[0;34m(\u001b[0m\u001b[0mvalue\u001b[0m\u001b[0;34m)\u001b[0m\u001b[0;34m\u001b[0m\u001b[0;34m\u001b[0m\u001b[0m\n\u001b[0m\u001b[1;32m    705\u001b[0m         return self._instance_for_arguments(\n\u001b[1;32m    706\u001b[0m             \u001b[0marguments\u001b[0m\u001b[0;34m\u001b[0m\u001b[0;34m\u001b[0m\u001b[0m\n",
      "\u001b[0;32m/soft/anaconda3/lib/python3.7/site-packages/autofit/mapper/prior/prior.py\u001b[0m in \u001b[0;36massert_within_limits\u001b[0;34m(self, value)\u001b[0m\n\u001b[1;32m    182\u001b[0m                 \u001b[0;34m\"The physical value {} for a prior \"\u001b[0m\u001b[0;34m\u001b[0m\u001b[0;34m\u001b[0m\u001b[0m\n\u001b[1;32m    183\u001b[0m                 \"was not within its limits {}, {}\".format(\n\u001b[0;32m--> 184\u001b[0;31m                     \u001b[0mvalue\u001b[0m\u001b[0;34m,\u001b[0m \u001b[0mself\u001b[0m\u001b[0;34m.\u001b[0m\u001b[0mlower_limit\u001b[0m\u001b[0;34m,\u001b[0m \u001b[0mself\u001b[0m\u001b[0;34m.\u001b[0m\u001b[0mupper_limit\u001b[0m\u001b[0;34m\u001b[0m\u001b[0;34m\u001b[0m\u001b[0m\n\u001b[0m\u001b[1;32m    185\u001b[0m                 )\n\u001b[1;32m    186\u001b[0m             )\n",
      "\u001b[0;31mPriorLimitException\u001b[0m: The physical value 1.7121746442743908 for a prior was not within its limits 0.0, 1.5518741607666016"
     ]
    }
   ],
   "source": [
    "# extract from all outputs marked with the black spot\n",
    "\n",
    "print('Ah! Ya scared me!')\n",
    "print('Phase folder identifier? (for agg filter)')\n",
    "filter_words = input()\n",
    "print('You got it!')\n",
    "\n",
    "# specify grid\n",
    "grid = al.Grid2D.uniform(shape_native=(101, 101), pixel_scales=0.2)\n",
    "\n",
    "# load samples with aggregator\n",
    "agg = af.Aggregator(directory=output_path)\n",
    "agg_filter = agg.filter(agg.directory.contains(filter_words))\n",
    "\n",
    "# take median pdf instance\n",
    "mpdf_instances = [samps.median_pdf_instance for samps in agg_filter.values(\"samples\")]\n",
    "\n",
    "for instance in mpdf_instances:\n",
    "    extract_mass(instance)"
   ]
  },
  {
   "cell_type": "code",
   "execution_count": null,
   "id": "alike-nothing",
   "metadata": {},
   "outputs": [],
   "source": [
    "\n"
   ]
  }
 ],
 "metadata": {
  "kernelspec": {
   "display_name": "Python 3",
   "language": "python",
   "name": "python3"
  },
  "language_info": {
   "codemirror_mode": {
    "name": "ipython",
    "version": 3
   },
   "file_extension": ".py",
   "mimetype": "text/x-python",
   "name": "python",
   "nbconvert_exporter": "python",
   "pygments_lexer": "ipython3",
   "version": "3.7.3"
  }
 },
 "nbformat": 4,
 "nbformat_minor": 5
}
