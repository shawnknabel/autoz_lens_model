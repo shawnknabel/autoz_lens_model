{
 "cells": [
  {
   "cell_type": "markdown",
   "id": "optical-factory",
   "metadata": {},
   "source": [
    "# 2/12/21 - First model G3575500 (LinKS 1906)"
   ]
  },
  {
   "cell_type": "code",
   "execution_count": 1,
   "id": "legitimate-polyester",
   "metadata": {},
   "outputs": [
    {
     "name": "stderr",
     "output_type": "stream",
     "text": [
      "\n",
      "Bad key \"text.kerning_factor\" on line 4 in\n",
      "/soft/anaconda3/lib/python3.7/site-packages/matplotlib/mpl-data/stylelib/_classic_test_patch.mplstyle.\n",
      "You probably need to get an updated matplotlibrc file from\n",
      "https://github.com/matplotlib/matplotlib/blob/v3.1.2/matplotlibrc.template\n",
      "or from the matplotlib source distribution\n"
     ]
    },
    {
     "name": "stdout",
     "output_type": "stream",
     "text": [
      "/data/sknabel/autolens_workspace\n",
      "Working Directory has been set to `/data/sknabel/autolens_workspace`\n"
     ]
    }
   ],
   "source": [
    "### libraries\n",
    "%matplotlib inline\n",
    "import matplotlib.pyplot as plt\n",
    "from autoconf import conf\n",
    "import autolens as al\n",
    "import autolens.plot as aplt\n",
    "import autofit as af\n",
    "import pandas as pd\n",
    "import numpy as np\n",
    "from astropy.io import fits\n",
    "from astropy.visualization import astropy_mpl_style\n",
    "plt.style.use(astropy_mpl_style)\n",
    "from astropy.stats import sigma_clip as clip\n",
    "from os import path\n",
    "from pyprojroot import here\n",
    "\n",
    "workspace_path = '/data/sknabel/autolens_workspace'\n",
    "%cd $workspace_path\n",
    "print(f\"Working Directory has been set to `{workspace_path}`\")\n",
    "# paths\n",
    "autoz_path = '/data/sknabel/autoz_lens_model/'\n",
    "file_path = f'{autoz_path}files/'\n",
    "csv_path = f'{file_path}csv/'\n",
    "fits_path = f'{file_path}fits/'\n",
    "png_path = f'{autoz_path}visuals/png/'\n",
    "pdf_path = f'{autoz_path}visuals/pdf/'\n",
    "object_folder = f'{fits_path}G3575500_1906/'"
   ]
  },
  {
   "cell_type": "code",
   "execution_count": 3,
   "id": "dominant-marking",
   "metadata": {},
   "outputs": [
    {
     "ename": "NameError",
     "evalue": "name 'path' is not defined",
     "output_type": "error",
     "traceback": [
      "\u001b[0;31m---------------------------------------------------------------------------\u001b[0m",
      "\u001b[0;31mNameError\u001b[0m                                 Traceback (most recent call last)",
      "\u001b[0;32m<ipython-input-3-69c393f61104>\u001b[0m in \u001b[0;36m<module>\u001b[0;34m\u001b[0m\n\u001b[0;32m----> 1\u001b[0;31m imaging = al.Imaging.from_fits(image_path=path.join(object_folder, '1906_r.fits'),\n\u001b[0m\u001b[1;32m      2\u001b[0m                               \u001b[0mnoise_map_path\u001b[0m\u001b[0;34m=\u001b[0m\u001b[0mpath\u001b[0m\u001b[0;34m.\u001b[0m\u001b[0mjoin\u001b[0m\u001b[0;34m(\u001b[0m\u001b[0mobject_folder\u001b[0m\u001b[0;34m,\u001b[0m \u001b[0;34m'1906_r_noisemap.fits'\u001b[0m\u001b[0;34m)\u001b[0m\u001b[0;34m,\u001b[0m\u001b[0;34m\u001b[0m\u001b[0;34m\u001b[0m\u001b[0m\n\u001b[1;32m      3\u001b[0m                               \u001b[0mpsf_path\u001b[0m\u001b[0;34m=\u001b[0m\u001b[0mpath\u001b[0m\u001b[0;34m.\u001b[0m\u001b[0mjoin\u001b[0m\u001b[0;34m(\u001b[0m\u001b[0mobject_folder\u001b[0m\u001b[0;34m,\u001b[0m \u001b[0;34m'1906_r_psf_resized.fits'\u001b[0m\u001b[0;34m)\u001b[0m\u001b[0;34m,\u001b[0m\u001b[0;34m\u001b[0m\u001b[0;34m\u001b[0m\u001b[0m\n\u001b[1;32m      4\u001b[0m                                pixel_scales=0.198)\n\u001b[1;32m      5\u001b[0m mask = al.Mask2D.circular(\n",
      "\u001b[0;31mNameError\u001b[0m: name 'path' is not defined"
     ]
    }
   ],
   "source": [
    "imaging = al.Imaging.from_fits(image_path=path.join(object_folder, '1906_r.fits'),\n",
    "                              noise_map_path=path.join(object_folder, '1906_r_noisemap.fits'),\n",
    "                              psf_path=path.join(object_folder, '1906_r_psf_resized.fits'),\n",
    "                               pixel_scales=0.198)\n",
    "mask = al.Mask2D.circular(\n",
    "    shape_2d=imaging.shape_2d, pixel_scales=imaging.pixel_scales, sub_size=1, radius=3.0\n",
    ")\n",
    "visuals_2d = aplt.Visuals2D(mask=mask)\n",
    "\n",
    "imaging_plotter = aplt.ImagingPlotter(\n",
    "    imaging=imaging, visuals_2d=aplt.Visuals2D(mask=mask)\n",
    ")\n",
    "imaging_plotter.subplot_imaging()"
   ]
  },
  {
   "cell_type": "code",
   "execution_count": null,
   "id": "czech-lyric",
   "metadata": {},
   "outputs": [],
   "source": []
  }
 ],
 "metadata": {
  "kernelspec": {
   "display_name": "Python 3",
   "language": "python",
   "name": "python3"
  },
  "language_info": {
   "codemirror_mode": {
    "name": "ipython",
    "version": 3
   },
   "file_extension": ".py",
   "mimetype": "text/x-python",
   "name": "python",
   "nbconvert_exporter": "python",
   "pygments_lexer": "ipython3",
   "version": "3.7.3"
  }
 },
 "nbformat": 4,
 "nbformat_minor": 5
}
