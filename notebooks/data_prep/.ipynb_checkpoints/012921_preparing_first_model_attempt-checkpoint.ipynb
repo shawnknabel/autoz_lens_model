{
 "cells": [
  {
   "cell_type": "markdown",
   "metadata": {},
   "source": [
    "# 1/29/21 - This notebook selects and prepares a first LinKS candidate for modeling."
   ]
  },
  {
   "cell_type": "code",
   "execution_count": null,
   "metadata": {},
   "outputs": [],
   "source": [
    "### libraries\n",
    "%matplotlib inline\n",
    "\n",
    "from autoconf import conf\n",
    "import autolens as al\n",
    "import autolens.plot as aplt\n",
    "import autofit as af\n",
    "import pandas as pd\n",
    "import numpy as np\n",
    "from astropy.io import fits\n",
    "\n",
    "# paths\n",
    "autoz_path = '/data/sknabel/autoz_lens_model/'\n",
    "file_path = f'{autoz_path}files/'\n",
    "csv_path = f'{file_path}csv/'\n",
    "fits_path = f'{file_path}fits/'\n",
    "png_path = f'{autoz_path}visuals/png/'\n",
    "pdf_path = f'{autoz_path}visuals/pdf/'"
   ]
  },
  {
   "cell_type": "code",
   "execution_count": 3,
   "metadata": {},
   "outputs": [
    {
     "name": "stdout",
     "output_type": "stream",
     "text": [
      "39 Index(['Unnamed: 0', 'Unnamed: 0_x', 'GAMA_ID', 'ID', 'RA', 'DEC', 'score',\n",
      "       'Unnamed: 0_y', 'z1', 'sigma1', 'template1', 'z2', 'sigma2',\n",
      "       'template2', 'sigma3', 'sigma4', 'R', 'prob', 'error', 'type',\n",
      "       'type_number', 'lambdar_log_mstar', 'lambdar_mstar',\n",
      "       'lambdar_log_mstar_error', 'z', 'zlens', 'zsource', 'sigma_lens',\n",
      "       'sigma_source', 'dlens', 'dsource', 'corrected_stellar_mass', 'P1',\n",
      "       'P3', 'normalized_score', 'cnn_probability', 'm_half_re', 'sigma_star',\n",
      "       'theta_e_pm', 'theta_e_sis'],\n",
      "      dtype='object')\n"
     ]
    }
   ],
   "source": [
    "# load links\n",
    "links = pd.read_csv(f'{csv_path}latest/links_sample_latest.csv')\n",
    "print(len(links), links.columns)"
   ]
  },
  {
   "cell_type": "code",
   "execution_count": 13,
   "metadata": {},
   "outputs": [
    {
     "data": {
      "text/html": [
       "<div>\n",
       "<style scoped>\n",
       "    .dataframe tbody tr th:only-of-type {\n",
       "        vertical-align: middle;\n",
       "    }\n",
       "\n",
       "    .dataframe tbody tr th {\n",
       "        vertical-align: top;\n",
       "    }\n",
       "\n",
       "    .dataframe thead th {\n",
       "        text-align: right;\n",
       "    }\n",
       "</style>\n",
       "<table border=\"1\" class=\"dataframe\">\n",
       "  <thead>\n",
       "    <tr style=\"text-align: right;\">\n",
       "      <th></th>\n",
       "      <th>GAMA_ID</th>\n",
       "      <th>ID</th>\n",
       "      <th>score</th>\n",
       "      <th>zlens</th>\n",
       "      <th>zsource</th>\n",
       "      <th>corrected_stellar_mass</th>\n",
       "      <th>theta_e_pm</th>\n",
       "      <th>theta_e_sis</th>\n",
       "    </tr>\n",
       "  </thead>\n",
       "  <tbody>\n",
       "    <tr>\n",
       "      <th>18</th>\n",
       "      <td>323152.0</td>\n",
       "      <td>2967</td>\n",
       "      <td>30.0</td>\n",
       "      <td>0.353286</td>\n",
       "      <td>0.721590</td>\n",
       "      <td>NaN</td>\n",
       "      <td>NaN</td>\n",
       "      <td>NaN</td>\n",
       "    </tr>\n",
       "    <tr>\n",
       "      <th>17</th>\n",
       "      <td>250289.0</td>\n",
       "      <td>2730</td>\n",
       "      <td>28.0</td>\n",
       "      <td>0.401214</td>\n",
       "      <td>0.719616</td>\n",
       "      <td>4.664644e+11</td>\n",
       "      <td>0.917868</td>\n",
       "      <td>0.645859</td>\n",
       "    </tr>\n",
       "    <tr>\n",
       "      <th>19</th>\n",
       "      <td>3575500.0</td>\n",
       "      <td>1906</td>\n",
       "      <td>26.0</td>\n",
       "      <td>0.232537</td>\n",
       "      <td>0.365195</td>\n",
       "      <td>3.049251e+11</td>\n",
       "      <td>1.296096</td>\n",
       "      <td>0.762649</td>\n",
       "    </tr>\n",
       "    <tr>\n",
       "      <th>31</th>\n",
       "      <td>3629152.0</td>\n",
       "      <td>1933</td>\n",
       "      <td>26.0</td>\n",
       "      <td>0.406623</td>\n",
       "      <td>0.787118</td>\n",
       "      <td>4.270558e+11</td>\n",
       "      <td>0.896116</td>\n",
       "      <td>0.659574</td>\n",
       "    </tr>\n",
       "    <tr>\n",
       "      <th>11</th>\n",
       "      <td>544226.0</td>\n",
       "      <td>3212</td>\n",
       "      <td>18.0</td>\n",
       "      <td>0.227044</td>\n",
       "      <td>0.649824</td>\n",
       "      <td>1.928528e+11</td>\n",
       "      <td>0.875230</td>\n",
       "      <td>0.725515</td>\n",
       "    </tr>\n",
       "  </tbody>\n",
       "</table>\n",
       "</div>"
      ],
      "text/plain": [
       "      GAMA_ID    ID  score     zlens   zsource  corrected_stellar_mass  \\\n",
       "18   323152.0  2967   30.0  0.353286  0.721590                     NaN   \n",
       "17   250289.0  2730   28.0  0.401214  0.719616            4.664644e+11   \n",
       "19  3575500.0  1906   26.0  0.232537  0.365195            3.049251e+11   \n",
       "31  3629152.0  1933   26.0  0.406623  0.787118            4.270558e+11   \n",
       "11   544226.0  3212   18.0  0.227044  0.649824            1.928528e+11   \n",
       "\n",
       "    theta_e_pm  theta_e_sis  \n",
       "18         NaN          NaN  \n",
       "17    0.917868     0.645859  \n",
       "19    1.296096     0.762649  \n",
       "31    0.896116     0.659574  \n",
       "11    0.875230     0.725515  "
      ]
     },
     "execution_count": 13,
     "metadata": {},
     "output_type": "execute_result"
    }
   ],
   "source": [
    "links.sort_values(by='score', ascending=False).head()[['GAMA_ID',\n",
    "                                                      'ID',\n",
    "                                                      'score',\n",
    "                                                      'zlens',\n",
    "                                                      'zsource',\n",
    "                                                      'corrected_stellar_mass',\n",
    "                                                      'theta_e_pm',\n",
    "                                                     'theta_e_sis']]"
   ]
  },
  {
   "cell_type": "markdown",
   "metadata": {},
   "source": [
    "## I am selecting G3575500 (1906) with score of\t26, redshifts 0.232537 and 0.365195, mass 3.049251e+11, and $\\theta_E$\t1.296096 and 0.762649"
   ]
  },
  {
   "cell_type": "code",
   "execution_count": null,
   "metadata": {},
   "outputs": [],
   "source": []
  }
 ],
 "metadata": {
  "kernelspec": {
   "display_name": "Python 3",
   "language": "python",
   "name": "python3"
  },
  "language_info": {
   "codemirror_mode": {
    "name": "ipython",
    "version": 3
   },
   "file_extension": ".py",
   "mimetype": "text/x-python",
   "name": "python",
   "nbconvert_exporter": "python",
   "pygments_lexer": "ipython3",
   "version": "3.7.3"
  }
 },
 "nbformat": 4,
 "nbformat_minor": 2
}
