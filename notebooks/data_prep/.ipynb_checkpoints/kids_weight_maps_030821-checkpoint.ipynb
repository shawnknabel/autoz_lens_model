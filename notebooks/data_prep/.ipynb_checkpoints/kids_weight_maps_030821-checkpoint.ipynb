{
 "cells": [
  {
   "cell_type": "markdown",
   "metadata": {},
   "source": [
    "# 3/8/21 - This notebook attempts to make use of the weight maps for 2730."
   ]
  },
  {
   "cell_type": "code",
   "execution_count": 1,
   "metadata": {},
   "outputs": [],
   "source": [
    "### libraries\n",
    "%matplotlib inline\n",
    "import matplotlib.pyplot as plt\n",
    "#from autoconf import conf\n",
    "#import autolens as al\n",
    "#import autolens.plot as aplt\n",
    "#import autofit as af\n",
    "#import pandas as pd\n",
    "import numpy as np\n",
    "import astropy.io.fits as fits\n",
    "#from astropy.visualization import astropy_mpl_style\n",
    "#plt.style.use(astropy_mpl_style)\n",
    "from astropy.stats import sigma_clip as clip\n",
    "from astropy.coordinates import SkyCoord\n",
    "import astropy.units as u\n",
    "from astropy.nddata import Cutout2D\n",
    "from astropy.wcs import WCS\n",
    "import fitsio\n",
    "from fitsio import FITS,FITSHDR\n",
    "\n"
   ]
  },
  {
   "cell_type": "code",
   "execution_count": 18,
   "metadata": {},
   "outputs": [
    {
     "name": "stdout",
     "output_type": "stream",
     "text": [
      "[[0. 0. 0. ... 0. 0. 0.]\n",
      " [0. 0. 0. ... 0. 0. 0.]\n",
      " [0. 0. 0. ... 0. 0. 0.]\n",
      " ...\n",
      " [0. 0. 0. ... 0. 0. 0.]\n",
      " [0. 0. 0. ... 0. 0. 0.]\n",
      " [0. 0. 0. ... 0. 0. 0.]]\n"
     ]
    }
   ],
   "source": [
    "hdul = fits.open('/home/shawn/Downloads/129_-1pt5_r_image.fits')\n",
    "\n",
    "data = hdul[0].data\n",
    "\n",
    "print(data)"
   ]
  },
  {
   "cell_type": "code",
   "execution_count": 8,
   "metadata": {},
   "outputs": [
    {
     "data": {
      "text/plain": [
       "<matplotlib.image.AxesImage at 0x7f134d51ae10>"
      ]
     },
     "execution_count": 8,
     "metadata": {},
     "output_type": "execute_result"
    },
    {
     "data": {
      "image/png": "[encoded data removed]",
      "text/plain": [
       "<Figure size 432x288 with 1 Axes>"
      ]
     },
     "metadata": {
      "needs_background": "light"
     },
     "output_type": "display_data"
    }
   ],
   "source": [
    "plt.imshow(data)"
   ]
  },
  {
   "cell_type": "code",
   "execution_count": 10,
   "metadata": {},
   "outputs": [],
   "source": [
    "hdul.close()"
   ]
  },
  {
   "cell_type": "code",
   "execution_count": 5,
   "metadata": {},
   "outputs": [
    {
     "name": "stdout",
     "output_type": "stream",
     "text": [
      "[[0. 0. 0. ... 0. 0. 0.]\n",
      " [0. 0. 0. ... 0. 0. 0.]\n",
      " [0. 0. 0. ... 0. 0. 0.]\n",
      " ...\n",
      " [0. 0. 0. ... 0. 0. 0.]\n",
      " [0. 0. 0. ... 0. 0. 0.]\n",
      " [0. 0. 0. ... 0. 0. 0.]]\n",
      "median pixel:  1.5508987e+23\n",
      "SIMPLE  =                    T / This is a FITS file                            BITPIX  =                  -32 /                                                NAXIS   =                    2 /                                                NAXIS1  =                18687 / Number of pixels along this axis               NAXIS2  =                20024 / Number of pixels along this axis               EXTEND  =                    T / This file may contain FITS extensions          EQUINOX =            2000.0000 / Mean equinox                                   RADECSYS= 'ICRS    '           / Astrometric system                             CTYPE1  = 'RA---TAN'           / WCS projection type for this axis              CUNIT1  = 'deg     '           / Axis unit                                      CRVAL1  =      1.290000000E+02 / World coordinate on this axis                  CRPIX1  =      9.374000000E+03 / Reference pixel on this axis                   CD1_1   =     -5.555555638E-05 / Linear projection matrix                       CD1_2   =      0.000000000E+00 / Linear projection matrix                       CTYPE2  = 'DEC--TAN'           / WCS projection type for this axis              CUNIT2  = 'deg     '           / Axis unit                                      CRVAL2  =     -1.489010989E+00 / World coordinate on this axis                  CRPIX2  =      9.925000000E+03 / Reference pixel on this axis                   CD2_1   =      0.000000000E+00 / Linear projection matrix                       CD2_2   =      5.555555638E-05 / Linear projection matrix                       EXPTIME =      0.000000000E+00 / Maximum equivalent exposure time (s)           GAIN    =      0.000000000E+00 / Maximum equivalent gain (e-/ADU)               SATURATE=      0.000000000E+00 / Saturation Level (ADU)                         COMMENT                                                                         SOFTNAME= 'SWarp   '           / The software that processed those data         SOFTVERS= '2.17.6  '           / Version of the software                        SOFTDATE= '2016-11-22'         / Release date of the software                   SOFTAUTH= 'Emmanuel BERTIN <bertin@iap.fr>' / Maintainer of the software        SOFTINST= 'IAP  http://www.iap.fr' / Institute                                  COMMENT                                                                         AUTHOR  = 'unknown '           / Who ran the software                           ORIGIN  = 'application04.target.rug.nl' / Where it was done                     DATE    = '2017-05-05T23:11:41' / When it was started (GMT)                     COMBINET= 'WEIGHTED'           / COMBINE_TYPE config parameter for SWarp        COMMENT                                                                         COMMENT  Propagated FITS keywords                                               OBJECT  = 'KIDS_129.0_-1.5'                                                     INSTRUME= 'OMEGACAM'                                                            FILT_ID = 'OCAM_r_SDSS'                                                         COMMENT                                                                         COMMENT  Axis-dependent config parameters                                       RESAMPT1= 'LANCZOS3'           / RESAMPLING_TYPE config parameter               CENTERT1= 'ALL     '           / CENTER_TYPE config parameter                   PSCALET1= 'MEDIAN  '           / PIXELSCALE_TYPE config parameter               RESAMPT2= 'LANCZOS3'           / RESAMPLING_TYPE config parameter               CENTERT2= 'ALL     '           / CENTER_TYPE config parameter                   PSCALET2= 'MEDIAN  '           / PIXELSCALE_TYPE config parameter               END                                                                                                                                                                                                                                                                                                                                                                                                                                                                                                                                                                                                                                                                                                                                                                                                                                                                                                                                                                                                                                                                                                                                                                                                                                                                                                                                                                                                                                                                                                                                                                                                                                                                                                                                                                                                                                                                                                                                                                                                                                                                             \n"
     ]
    }
   ],
   "source": [
    "# try to open weight file\n",
    "hdul = fits.open('/home/shawn/Downloads/Cal-JDEJONG-OMEGACAM-------OCAM_r_SDSS---Coadd---Wei-57878.9661791-55afda6652732cdda03ef77e75125ef075547d50.fits')\n",
    "header = hdul[0].header\n",
    "image = hdul[0].data\n",
    "hdul.close()\n",
    "\n",
    "print(image)\n",
    "print('median pixel: ', np.median(image))\n",
    "print(header)"
   ]
  },
  {
   "cell_type": "code",
   "execution_count": 18,
   "metadata": {},
   "outputs": [
    {
     "name": "stdout",
     "output_type": "stream",
     "text": [
      "WCS Keywords\n",
      "\n",
      "Number of WCS axes: 2\n",
      "CTYPE : 'RA---TAN'  'DEC--TAN'  \n",
      "CRVAL : 129.0  -1.489010989  \n",
      "CRPIX : 9374.0  9925.0  \n",
      "CD1_1 CD1_2  : -5.555555638e-05  0.0  \n",
      "CD2_1 CD2_2  : 0.0  5.555555638e-05  \n",
      "NAXIS : 18687  20024\n",
      "<SkyCoord (ICRS): (ra, dec) in deg\n",
      "    (129.23265, -1.57512)>\n",
      "(array(5186.85469413), array(8373.8030423))\n",
      "(101, 101)\n"
     ]
    },
    {
     "name": "stderr",
     "output_type": "stream",
     "text": [
      "WARNING: FITSFixedWarning: RADECSYS= 'ICRS ' / Astrometric system \n",
      "the RADECSYS keyword is deprecated, use RADESYSa. [astropy.wcs.wcs]\n"
     ]
    }
   ],
   "source": [
    "# wcs is world coordinate system\n",
    "# attached real-world coordinates to pixel locations\n",
    "wcs = WCS(header) # let wcs pull info from header\n",
    "print(wcs)\n",
    "\n",
    "coord=SkyCoord(ra=129.23265, dec=-1.57512, unit='deg', frame='icrs') # international celestial reference frame\n",
    "position = wcs.world_to_pixel(coord)\n",
    "print(coord)\n",
    "#print(wcs.wcs.crval)\n",
    "print(position)\n",
    "size = u.Quantity(101, u.pixel)\n",
    "\n",
    "cutout = Cutout2D(data=image, position=position, size=size, wcs=wcs, mode='trim')\n",
    "cutout_image = cutout.data\n",
    "#plt.imshow(image, origin='lower', cmap='gray')   \n",
    "#plt.scatter(cutout.position_cutout[0], cutout.position_cutout[1], color='green')\n",
    "print(cutout_image.shape)"
   ]
  },
  {
   "cell_type": "code",
   "execution_count": 19,
   "metadata": {},
   "outputs": [
    {
     "name": "stdout",
     "output_type": "stream",
     "text": [
      "1.0937473e+23\n"
     ]
    },
    {
     "data": {
      "text/plain": [
       "<matplotlib.image.AxesImage at 0x7fae4a8bef98>"
      ]
     },
     "execution_count": 19,
     "metadata": {},
     "output_type": "execute_result"
    },
    {
     "data": {
      "image/png": "[encoded data removed]",
      "text/plain": [
       "<Figure size 432x288 with 1 Axes>"
      ]
     },
     "metadata": {
      "needs_background": "light"
     },
     "output_type": "display_data"
    }
   ],
   "source": [
    "# look at cutout image\n",
    "print(cutout_image.min())\n",
    "plt.imshow(cutout_image, cmap='gray')"
   ]
  },
  {
   "cell_type": "code",
   "execution_count": 20,
   "metadata": {},
   "outputs": [
    {
     "name": "stdout",
     "output_type": "stream",
     "text": [
      "SIMPLE  =                    T / This is a FITS file                            BITPIX  =                  -32                                                  NAXIS   =                    2                                                  NAXIS1  =                  101 / Number of pixels along this axis               NAXIS2  =                  101 / Number of pixels along this axis               OBJECT  = 'KIDS_214.0_1.5'                                                      ZEROPNT =                  0.0                                                  ZPNTERR =                  0.0                                                  CREADATE= '2015-10-19T21:27:53.000'                                             PSF_RAD =   0.5516852617263794                                                  INSTRUME= 'OMEGACAM'                                                            TELESCOP= 'ESO-VLT-U0'                                                          TEL_LAT =             -24.6259                                                  TEL_LONG=             -70.4032                                                  TEL_ELEV=               2648.0                                                  TEL_ZONE=                  4.0                                                  FILT_ID = 'OCAM_r_SDSS'                                                         CTYPE1  = 'RA---TAN'           / WCS projection type for this axis              CRVAL1  =                214.0 / World coordinate on this axis                  CRPIX1  =      6.655000000E+03 / Reference pixel on this axis                   CTYPE2  = 'DEC--TAN'           / WCS projection type for this axis              CRVAL2  =          1.489010989 / World coordinate on this axis                  CRPIX2  =     -9.024000000E+03 / Reference pixel on this axis                   CD1_1   =     -5.555555638E-05 / Linear projection matrix                       CD1_2   =                  0.0 / Linear projection matrix                       CD2_1   =                  0.0 / Linear projection matrix                       CD2_2   =      5.555555638E-05 / Linear projection matrix                       STATMIN = -1.780666991635371E-08                                                STATMAX = 5.764842114786006E-08                                                 STATMEAN= 6.612236311170436E-12                                                 STATDEV = 3.210198549986597E-10                                                 STATMED = 1.070604041075555E-13                                                 STAT_X0 =                    1                                                  STAT_Y0 =                    1                                                  STAT_X1 =                18696                                                  STAT_Y1 =                20032                                                  STATMINX=                12187                                                  STATMINY=                10475                                                  STATMAXX=                12188                                                  STATMAXY=                10475                                                  STATNPIX=            374518272                                                  OBS_ID  =               752580                                                  OBS_DID = 'ESO-VLT-DIC.OBS-1.12'                                                OBS_GRP = '0       '                                                            OBS_NAME= 'KIDS_214.0_1.5_r'                                                    OBS_PIID=                76168                                                  OBS_PINA= 'UNKNOWN '                                                            OBS_PID = '177.A-3016(D)'                                                       OBS_STRT= '2014-04-28T03:27:26'                                                 TPL_CATG= 'SCIENCE '                                                            TPL_DID = 'ESO-VLT-DIC.TPL-1.9'                                                 TPL_NEXP=                    5                                                  TPL_ID  = 'OMEGACAM_img_obs_dither'                                             TPL_INDX=                    2                                                  TPL_NAME= 'OMEGACAM dither mode sequence'                                       TPL_SEQ = 'OMEGACAM_img_obs_dither.seq'                                         TPL_STRT= '2014-04-28T03:35:35'                                                 TPL_STGY= 'Mosaic  '                                                            TPL_TECH= 'IMAGE,DITHER'                                                        TPL_TYPE= 'OBJECT  '                                                            TPL_VERS= '1.0     '                                                            EXPTIME =                  0.0 / Maximum equivalent exposure time (s)           GAIN    =     31697213712300.0 / Maximum equivalent gain (e-/ADU)               SATURATE=   1.518651669555E-08 / Saturation Level (ADU)                         HISTORY Extra keys from original header                                         HISTORY EXTEND  =                    T / This file may contain FITS extensions  HISTORY EQUINOX =       2000.00000000  / Mean equinox                           HISTORY RADECSYS= 'ICRS    '           / Astrometric system                     HISTORY CUNIT1  = 'deg     '           / Axis unit                              HISTORY CUNIT2  = 'deg     '           / Axis unit                              HISTORY SOFTNAME= 'SWarp   '           / The software that processed those data HISTORY SOFTVERS= '2.19.1  '           / Version of the software                HISTORY SOFTDATE= '2015-09-24'         / Release date of the software           HISTORY SOFTAUTH= 'Emmanuel BERTIN <bertin@iap.fr>' / Maintainer of the softwareHISTORY SOFTINST= 'IAP  http://www.iap.fr' / Institute                          HISTORY AUTHOR  = 'astro_dpu'          / Who ran the software                   HISTORY ORIGIN  = 'application08'      / Where it was done                      HISTORY DATE    = '2015-10-19T21:23:45' / When it was started (GMT)             HISTORY COMBINET= 'WEIGHTED'           / COMBINE_TYPE config parameter for SWarpHISTORY RESAMPT1= 'LANCZOS3'           / RESAMPLING_TYPE config parameter       HISTORY CENTERT1= 'ALL     '           / CENTER_TYPE config parameter           HISTORY PSCALET1= 'MEDIAN  '           / PIXELSCALE_TYPE config parameter       HISTORY RESAMPT2= 'LANCZOS3'           / RESAMPLING_TYPE config parameter       HISTORY CENTERT2= 'ALL     '           / CENTER_TYPE config parameter           HISTORY PSCALET2= 'MEDIAN  '           / PIXELSCALE_TYPE config parameter       END                                                                                                                                                                                                                                                                                                                                                                                                                                                                                                                                                                                                                                                                                                                                                                                                                                                                                                                                                                                                                                                                                                                                                                                                                                                                                                                                                                                                                                                                                                                                                                                                                                                                                                                                                                                                                                                                                                             \n"
     ]
    }
   ],
   "source": [
    "# I need gain from the coadd image in order to get the counts image\n",
    "hdul = fits.open('/home/shawn/Downloads/2730_r.fits')\n",
    "coadd_header = hdul[0].header\n",
    "print(coadd_header)"
   ]
  },
  {
   "cell_type": "code",
   "execution_count": 1,
   "metadata": {},
   "outputs": [
    {
     "ename": "NameError",
     "evalue": "name 'coadd_header' is not defined",
     "output_type": "error",
     "traceback": [
      "\u001b[0;31m---------------------------------------------------------------------------\u001b[0m",
      "\u001b[0;31mNameError\u001b[0m                                 Traceback (most recent call last)",
      "\u001b[0;32m<ipython-input-1-79b6fe9c6dcb>\u001b[0m in \u001b[0;36m<module>\u001b[0;34m\u001b[0m\n\u001b[1;32m      1\u001b[0m \u001b[0;31m# now I want to see how it looks in counts.\u001b[0m\u001b[0;34m\u001b[0m\u001b[0;34m\u001b[0m\u001b[0;34m\u001b[0m\u001b[0m\n\u001b[0;32m----> 2\u001b[0;31m \u001b[0mgain\u001b[0m \u001b[0;34m=\u001b[0m \u001b[0mcoadd_header\u001b[0m\u001b[0;34m[\u001b[0m\u001b[0;34m'GAIN'\u001b[0m\u001b[0;34m]\u001b[0m\u001b[0;34m\u001b[0m\u001b[0;34m\u001b[0m\u001b[0m\n\u001b[0m\u001b[1;32m      3\u001b[0m \u001b[0mexp_time\u001b[0m \u001b[0;34m=\u001b[0m \u001b[0;36m1800\u001b[0m\u001b[0;34m\u001b[0m\u001b[0;34m\u001b[0m\u001b[0m\n\u001b[1;32m      4\u001b[0m \u001b[0mrms_noise\u001b[0m \u001b[0;34m=\u001b[0m \u001b[0;34m(\u001b[0m\u001b[0;36m1\u001b[0m\u001b[0;34m/\u001b[0m\u001b[0mnp\u001b[0m\u001b[0;34m.\u001b[0m\u001b[0msqrt\u001b[0m\u001b[0;34m(\u001b[0m\u001b[0mcutout_image\u001b[0m\u001b[0;34m)\u001b[0m\u001b[0;34m)\u001b[0m\u001b[0;34m**\u001b[0m\u001b[0;36m2\u001b[0m\u001b[0;34m\u001b[0m\u001b[0;34m\u001b[0m\u001b[0m\n\u001b[1;32m      5\u001b[0m \u001b[0mnoise_eps\u001b[0m \u001b[0;34m=\u001b[0m \u001b[0mrms_noise\u001b[0m\u001b[0;34m*\u001b[0m\u001b[0mgain\u001b[0m \u001b[0;31m# I'm betting this is in e/s, which means the exp_time is contained in the gain, which makes sense.\u001b[0m\u001b[0;34m\u001b[0m\u001b[0;34m\u001b[0m\u001b[0m\n",
      "\u001b[0;31mNameError\u001b[0m: name 'coadd_header' is not defined"
     ]
    }
   ],
   "source": [
    "# now I want to see how it looks in counts.\n",
    "gain = coadd_header['GAIN']\n",
    "exp_time = 1800\n",
    "rms_noise = 1/np.sqrt(cutout_image)\n",
    "noise_eps = rms_noise*gain # I'm betting this is in e/s, which means the exp_time is contained in the gain, which makes sense.\n",
    "#noise_eps = noise_counts/exp_time\n",
    "#print(np.mean(noise_counts))\n",
    "print(np.mean(noise_eps))\n",
    "\n",
    "# plot image data\n",
    "plt.figure()\n",
    "#plt.title = (f'{hdul[0].header[6]}')\n",
    "plt.imshow(noise_eps, cmap='gray') # show image in grayscale\n",
    "plt.colorbar(label=\"pixel value\", orientation=\"vertical\")\n",
    "plt.show()"
   ]
  },
  {
   "cell_type": "code",
   "execution_count": null,
   "metadata": {},
   "outputs": [],
   "source": []
  },
  {
   "cell_type": "code",
   "execution_count": 31,
   "metadata": {},
   "outputs": [],
   "source": [
    "# save as weight file\n",
    "np.savetxt('/home/shawn/Desktop/autoz_lens_model/files/csv/2730_r_weight_image.csv', noise_eps, delimiter=\",\")"
   ]
  },
  {
   "cell_type": "code",
   "execution_count": 23,
   "metadata": {},
   "outputs": [
    {
     "name": "stdout",
     "output_type": "stream",
     "text": [
      "[[0. 0. 0. ... 0. 0. 0.]\n",
      " [0. 0. 0. ... 0. 0. 0.]\n",
      " [0. 0. 0. ... 0. 0. 0.]\n",
      " ...\n",
      " [0. 0. 0. ... 0. 0. 0.]\n",
      " [0. 0. 0. ... 0. 0. 0.]\n",
      " [0. 0. 0. ... 0. 0. 0.]]\n",
      "median pixel:  1.5508987e+23\n",
      "SIMPLE  =                    T / This is a FITS file                            BITPIX  =                  -32 /                                                NAXIS   =                    2 /                                                NAXIS1  =                18687 / Number of pixels along this axis               NAXIS2  =                20024 / Number of pixels along this axis               EXTEND  =                    T / This file may contain FITS extensions          EQUINOX =            2000.0000 / Mean equinox                                   RADECSYS= 'ICRS    '           / Astrometric system                             CTYPE1  = 'RA---TAN'           / WCS projection type for this axis              CUNIT1  = 'deg     '           / Axis unit                                      CRVAL1  =      1.290000000E+02 / World coordinate on this axis                  CRPIX1  =      9.374000000E+03 / Reference pixel on this axis                   CD1_1   =     -5.555555638E-05 / Linear projection matrix                       CD1_2   =      0.000000000E+00 / Linear projection matrix                       CTYPE2  = 'DEC--TAN'           / WCS projection type for this axis              CUNIT2  = 'deg     '           / Axis unit                                      CRVAL2  =     -1.489010989E+00 / World coordinate on this axis                  CRPIX2  =      9.925000000E+03 / Reference pixel on this axis                   CD2_1   =      0.000000000E+00 / Linear projection matrix                       CD2_2   =      5.555555638E-05 / Linear projection matrix                       EXPTIME =      0.000000000E+00 / Maximum equivalent exposure time (s)           GAIN    =      0.000000000E+00 / Maximum equivalent gain (e-/ADU)               SATURATE=      0.000000000E+00 / Saturation Level (ADU)                         COMMENT                                                                         SOFTNAME= 'SWarp   '           / The software that processed those data         SOFTVERS= '2.17.6  '           / Version of the software                        SOFTDATE= '2016-11-22'         / Release date of the software                   SOFTAUTH= 'Emmanuel BERTIN <bertin@iap.fr>' / Maintainer of the software        SOFTINST= 'IAP  http://www.iap.fr' / Institute                                  COMMENT                                                                         AUTHOR  = 'unknown '           / Who ran the software                           ORIGIN  = 'application04.target.rug.nl' / Where it was done                     DATE    = '2017-05-05T23:11:41' / When it was started (GMT)                     COMBINET= 'WEIGHTED'           / COMBINE_TYPE config parameter for SWarp        COMMENT                                                                         COMMENT  Propagated FITS keywords                                               OBJECT  = 'KIDS_129.0_-1.5'                                                     INSTRUME= 'OMEGACAM'                                                            FILT_ID = 'OCAM_r_SDSS'                                                         COMMENT                                                                         COMMENT  Axis-dependent config parameters                                       RESAMPT1= 'LANCZOS3'           / RESAMPLING_TYPE config parameter               CENTERT1= 'ALL     '           / CENTER_TYPE config parameter                   PSCALET1= 'MEDIAN  '           / PIXELSCALE_TYPE config parameter               RESAMPT2= 'LANCZOS3'           / RESAMPLING_TYPE config parameter               CENTERT2= 'ALL     '           / CENTER_TYPE config parameter                   PSCALET2= 'MEDIAN  '           / PIXELSCALE_TYPE config parameter               END                                                                                                                                                                                                                                                                                                                                                                                                                                                                                                                                                                                                                                                                                                                                                                                                                                                                                                                                                                                                                                                                                                                                                                                                                                                                                                                                                                                                                                                                                                                                                                                                                                                                                                                                                                                                                                                                                                                                                                                                                                                                             \n"
     ]
    }
   ],
   "source": [
    "# try to open weight file with different name\n",
    "hdul = fits.open('/home/shawn/Downloads/2730_r_weight_file.fits')\n",
    "header = hdul[0].header\n",
    "image = hdul[0].data\n",
    "hdul.close()\n",
    "\n",
    "print(image)\n",
    "print('median pixel: ', np.median(image))\n",
    "print(header)"
   ]
  },
  {
   "cell_type": "code",
   "execution_count": null,
   "metadata": {},
   "outputs": [],
   "source": []
  }
 ],
 "metadata": {
  "kernelspec": {
   "display_name": "Python 3",
   "language": "python",
   "name": "python3"
  },
  "language_info": {
   "codemirror_mode": {
    "name": "ipython",
    "version": 3
   },
   "file_extension": ".py",
   "mimetype": "text/x-python",
   "name": "python",
   "nbconvert_exporter": "python",
   "pygments_lexer": "ipython3",
   "version": "3.7.3"
  }
 },
 "nbformat": 4,
 "nbformat_minor": 4
}
