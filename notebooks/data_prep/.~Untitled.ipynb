{
 "cells": [
  {
   "cell_type": "code",
   "execution_count": 4,
   "metadata": {},
   "outputs": [
    {
     "name": "stdout",
     "output_type": "stream",
     "text": [
      "/home/shawn/Desktop\n",
      "Working Directory has been set to `~/Desktop/`\n"
     ]
    }
   ],
   "source": [
    "### libraries\n",
    "%matplotlib inline\n",
    "import matplotlib.pyplot as plt\n",
    "from autoconf import conf\n",
    "import autolens as al\n",
    "import autolens.plot as aplt\n",
    "import autofit as af\n",
    "import pandas as pd\n",
    "import numpy as np\n",
    "from astropy.io import fits\n",
    "from astropy.visualization import astropy_mpl_style\n",
    "plt.style.use(astropy_mpl_style)\n",
    "from astropy.stats import sigma_clip as clip\n",
    "from astropy.coordinates import SkyCoord\n",
    "import astropy.units as u\n",
    "from astropy.nddata import Cutout2D\n",
    "from astropy.wcs import WCS\n",
    "import fitsio\n",
    "from fitsio import FITS,FITSHDR\n",
    "\n",
    "from pyprojroot import here\n",
    "\n",
    "workspace_path = '~/Desktop/'\n",
    "%cd $workspace_path\n",
    "print(f\"Working Directory has been set to `{workspace_path}`\")\n",
    "# paths\n",
    "autoz_path = f'{workspace_path}autoz_lens_model/'\n",
    "file_path = f'{autoz_path}files/'\n",
    "csv_path = f'{file_path}csv/'\n",
    "fits_path = f'{file_path}fits/'\n",
    "png_path = f'{autoz_path}visuals/png/'\n",
    "pdf_path = f'{autoz_path}visuals/pdf/'\n",
    "object_folder = f'{fits_path}G3575500_1906/'"
   ]
  },
  {
   "cell_type": "code",
   "execution_count": null,
   "metadata": {
    "scrolled": false
   },
   "outputs": [],
   "source": [
    "hdul = fitsio.FITS(f'{object_folder}1906_r_weight.fits')\n",
    "print(hdul)\n",
    "print(hdul[0].get_info())\n",
    "print(hdul[0])\n",
    "print(hdul[0].read_header())\n",
    "image = hdul[0].read()\n",
    "plt.imshow(image)"
   ]
  },
  {
   "cell_type": "code",
   "execution_count": 10,
   "metadata": {},
   "outputs": [
    {
     "name": "stdout",
     "output_type": "stream",
     "text": [
      "2.653737e-07\n"
     ]
    }
   ],
   "source": []
  },
  {
   "cell_type": "code",
   "execution_count": null,
   "metadata": {},
   "outputs": [],
   "source": []
  }
 ],
 "metadata": {
  "kernelspec": {
   "display_name": "Python 3",
   "language": "python",
   "name": "python3"
  },
  "language_info": {
   "codemirror_mode": {
    "name": "ipython",
    "version": 3
   },
   "file_extension": ".py",
   "mimetype": "text/x-python",
   "name": "python",
   "nbconvert_exporter": "python",
   "pygments_lexer": "ipython3",
   "version": "3.6.12"
  }
 },
 "nbformat": 4,
 "nbformat_minor": 4
}
