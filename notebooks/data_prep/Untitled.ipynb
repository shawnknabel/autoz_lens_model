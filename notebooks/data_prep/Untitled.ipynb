{
 "cells": [
  {
   "cell_type": "code",
   "execution_count": 4,
   "metadata": {},
   "outputs": [
    {
     "name": "stdout",
     "output_type": "stream",
     "text": [
      "/home/shawn/Desktop\n",
      "Working Directory has been set to `~/Desktop/`\n"
     ]
    }
   ],
   "source": [
    "### libraries\n",
    "%matplotlib inline\n",
    "import matplotlib.pyplot as plt\n",
    "from autoconf import conf\n",
    "import autolens as al\n",
    "import autolens.plot as aplt\n",
    "import autofit as af\n",
    "import pandas as pd\n",
    "import numpy as np\n",
    "from astropy.io import fits\n",
    "from astropy.visualization import astropy_mpl_style\n",
    "plt.style.use(astropy_mpl_style)\n",
    "from astropy.stats import sigma_clip as clip\n",
    "from astropy.coordinates import SkyCoord\n",
    "import astropy.units as u\n",
    "from astropy.nddata import Cutout2D\n",
    "from astropy.wcs import WCS\n",
    "import fitsio\n",
    "from fitsio import FITS,FITSHDR\n",
    "\n",
    "from pyprojroot import here\n",
    "\n",
    "workspace_path = '~/Desktop/'\n",
    "%cd $workspace_path\n",
    "print(f\"Working Directory has been set to `{workspace_path}`\")\n",
    "# paths\n",
    "autoz_path = f'{workspace_path}autoz_lens_model/'\n",
    "file_path = f'{autoz_path}files/'\n",
    "csv_path = f'{file_path}csv/'\n",
    "fits_path = f'{file_path}fits/'\n",
    "png_path = f'{autoz_path}visuals/png/'\n",
    "pdf_path = f'{autoz_path}visuals/pdf/'\n",
    "object_folder = f'{fits_path}G3575500_1906/'"
   ]
  },
  {
   "cell_type": "code",
   "execution_count": null,
   "metadata": {
    "scrolled": true
   },
   "outputs": [
    {
     "name": "stdout",
     "output_type": "stream",
     "text": [
      "\n",
      "  file: /home/shawn/Desktop/autoz_lens_model/files/fits/G3575500_1906/1906_r_weight.fits\n",
      "  mode: READONLY\n",
      "  extnum hdutype         hduname[v]\n",
      "  0      IMAGE_HDU       \n",
      "{'hdunum': 1, 'extnum': 0, 'hdutype': 0, 'extname': '', 'hduname': '', 'extver': 0, 'hduver': 0, 'is_compressed_image': 0, 'header_start': 0, 'data_start': 8640, 'data_end': 1496764800, 'ndims': 2, 'img_type': -32, 'img_equiv_type': -32, 'comptype': None, 'dims': [20024, 18687]}\n",
      "\n",
      "  file: /home/shawn/Desktop/autoz_lens_model/files/fits/G3575500_1906/1906_r_weight.fits\n",
      "  extension: 0\n",
      "  type: IMAGE_HDU\n",
      "  image info:\n",
      "    data type: f4\n",
      "    dims: [20024,18687]\n",
      "\n",
      "SIMPLE  =                    T / conforms to FITS standard\n",
      "BITPIX  =                  -32 / array data type\n",
      "NAXIS   =                    2 / number of array dimensions\n",
      "NAXIS1  =                18687 / Number of pixels along this axis\n",
      "NAXIS2  =                20024 / Number of pixels along this axis\n",
      "EXTEND  =                    T / This file may contain FITS extensions\n",
      "OBJECT  = 'KIDS_129.0_-1.5'    / \n",
      "ZEROPNT =                  0.0 / \n",
      "ZPNTERR =                  0.0 / \n",
      "CREADATE= '2017-05-05T23:15:48.000' / \n",
      "PSF_RAD =   0.5450006723403931 / \n",
      "INSTRUME= 'OMEGACAM'           / \n",
      "TELESCOP= 'ESO-VLT-U0'         / \n",
      "TEL_LAT =             -24.6259 / \n",
      "TEL_LONG=             -70.4032 / \n",
      "TEL_ELEV=               2648.0 / \n",
      "TEL_ZONE=                  4.0 / \n",
      "FILT_ID = 'OCAM_r_SDSS'        / \n",
      "CTYPE1  = 'RA---TAN'           / WCS projection type for this axis\n",
      "CRVAL1  =                129.0 / World coordinate on this axis\n",
      "CRPIX1  =               9374.0 / Reference pixel on this axis\n",
      "CTYPE2  = 'DEC--TAN'           / WCS projection type for this axis\n",
      "CRVAL2  =         -1.489010989 / World coordinate on this axis\n",
      "CRPIX2  =               9925.0 / Reference pixel on this axis\n",
      "CD1_1   =     -5.555555638e-05 / Linear projection matrix\n",
      "CD1_2   =                  0.0 / Linear projection matrix\n",
      "CD2_1   =                  0.0 / Linear projection matrix\n",
      "CD2_2   =      5.555555638e-05 / Linear projection matrix\n",
      "CUNIT1  = 'deg'                / Axis unit\n",
      "CUNIT2  = 'deg'                / Axis unit\n",
      "STATMIN =  -1.675007013091e-07 / \n",
      "STATMAX = 2.65373699903648e-07 / \n",
      "STATMEAN= 1.58570638609412e-11 / \n",
      "STATDEV = 5.00012765938889e-10 / \n",
      "STATMED = 1.70461057378765e-13 / \n",
      "STAT_X0 =                    1 / \n",
      "STAT_Y0 =                    1 / \n",
      "STAT_X1 =                18687 / \n",
      "STAT_Y1 =                20024 / \n",
      "STATMINX=                 4773 / \n",
      "STATMINY=                10849 / \n",
      "STATMAXX=                 5976 / \n",
      "STATMAXY=                10086 / \n",
      "STATNPIX=            374188488 / \n",
      "OBS_ID  =               611457 / \n",
      "OBS_DID = 'ESO-VLT-DIC.OBS-1.12' / \n",
      "OBS_GRP = '0'                  / \n",
      "OBS_NAME= 'KIDS_129.0_-1.5_r'  / \n",
      "OBS_PIID=                76168 / \n",
      "OBS_PINA= 'UNKNOWN'            / \n",
      "OBS_PID = '177.A-3016(C)'      / \n",
      "OBS_STRT= '2013-03-07T02:29:33' / \n",
      "TPL_CATG= 'SCIENCE'            / \n",
      "TPL_DID = 'ESO-VLT-DIC.TPL-1.9' / \n",
      "TPL_NEXP=                    5 / \n",
      "TPL_ID  = 'OMEGACAM_img_obs_dither' / \n",
      "TPL_INDX=                    2 / \n",
      "TPL_NAME= 'OMEGACAM dither mode sequence' / \n",
      "TPL_SEQ = 'OMEGACAM_img_obs_dither.seq' / \n",
      "TPL_STRT= '2013-03-07T02:37:45' / \n",
      "TPL_STGY= 'Mosaic'             / \n",
      "TPL_TECH= 'IMAGE,DITHER'       / \n",
      "TPL_TYPE= 'OBJECT'             / \n",
      "TPL_VERS= '1.0'                / \n",
      "EXPTIME =                  0.0 / Maximum equivalent exposure time (s)\n",
      "GAIN    =     31335183770000.0 / Maximum equivalent gain (e-/ADU)\n",
      "SATURATE=      1.508654535e-08 / Saturation Level (ADU)\n",
      "HISTORY   EQUINOX =            2000.0000 / Mean equinox\n",
      "HISTORY   RADECSYS= 'ICRS    '           / Astrometric system\n",
      "HISTORY   SOFTNAME= 'SWarp   '           / The software that processed those da'\n",
      "HISTORY   SOFTVERS= '2.17.6  '           / Version of the software\n",
      "HISTORY   SOFTDATE= '2016-11-22'         / Release date of the software\n",
      "HISTORY   SOFTAUTH= 'Emmanuel BERTIN <bertin@iap.fr>' / Maintainer of the softw'\n",
      "HISTORY   SOFTINST= 'IAP  http://www.iap.fr' / Institute\n",
      "HISTORY   AUTHOR  = 'unknown '           / Who ran the software\n",
      "HISTORY   ORIGIN  = 'application04.target.rug.nl' / Where it was done\n",
      "HISTORY   DATE    = '2017-05-05T23:11:41' / When it was started (GMT)\n",
      "HISTORY   COMBINET= 'WEIGHTED'           / COMBINE_TYPE config parameter for SW'\n",
      "HISTORY   RESAMPT1= 'LANCZOS3'           / RESAMPLING_TYPE config parameter\n",
      "HISTORY   CENTERT1= 'ALL     '           / CENTER_TYPE config parameter\n",
      "HISTORY   PSCALET1= 'MEDIAN  '           / PIXELSCALE_TYPE config parameter\n",
      "HISTORY   RESAMPT2= 'LANCZOS3'           / RESAMPLING_TYPE config parameter\n",
      "HISTORY   CENTERT2= 'ALL     '           / CENTER_TYPE config parameter\n",
      "HISTORY   PSCALET2= 'MEDIAN  '           / PIXELSCALE_TYPE config parameter\n",
      "HISTORY   Extra keys from SWarp header\n"
     ]
    }
   ],
   "source": [
    "hdul = fitsio.FITS(f'{object_folder}1906_r_weight.fits')\n",
    "print(hdul)\n",
    "print(hdul[0].get_info())\n",
    "print(hdul[0])\n",
    "print(hdul[0].read_header())\n",
    "image = hdul[0].read()\n",
    "plt.imshow(image)"
   ]
  },
  {
   "cell_type": "code",
   "execution_count": 10,
   "metadata": {},
   "outputs": [
    {
     "name": "stdout",
     "output_type": "stream",
     "text": [
      "2.653737e-07\n"
     ]
    }
   ],
   "source": []
  },
  {
   "cell_type": "code",
   "execution_count": null,
   "metadata": {},
   "outputs": [],
   "source": []
  }
 ],
 "metadata": {
  "kernelspec": {
   "display_name": "Python 3",
   "language": "python",
   "name": "python3"
  },
  "language_info": {
   "codemirror_mode": {
    "name": "ipython",
    "version": 3
   },
   "file_extension": ".py",
   "mimetype": "text/x-python",
   "name": "python",
   "nbconvert_exporter": "python",
   "pygments_lexer": "ipython3",
   "version": "3.6.12"
  }
 },
 "nbformat": 4,
 "nbformat_minor": 4
}
