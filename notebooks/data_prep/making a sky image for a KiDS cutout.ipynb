{
 "cells": [
  {
   "cell_type": "code",
   "execution_count": 9,
   "metadata": {},
   "outputs": [
    {
     "name": "stdout",
     "output_type": "stream",
     "text": [
      "Filename: 2729_r.fits\n",
      "No.    Name      Ver    Type      Cards   Dimensions   Format\n",
      "  0  PRIMARY       1 PrimaryHDU      85   (101, 101)   float32   \n"
     ]
    }
   ],
   "source": [
    "from astropy.io import fits\n",
    "\n",
    "import matplotlib.pyplot as plt\n",
    "import numpy as np\n",
    "hdul = fits.open('2729_r.fits')\n",
    "hdul.info()"
   ]
  },
  {
   "cell_type": "code",
   "execution_count": 8,
   "metadata": {},
   "outputs": [
    {
     "data": {
      "text/plain": [
       "array([[-1.74349616e-13,  3.63033041e-12,  1.08359265e-13, ...,\n",
       "         1.90812405e-12, -4.80910320e-12, -2.37812764e-12],\n",
       "       [-2.71340784e-13,  2.63720577e-12, -5.11517966e-13, ...,\n",
       "        -1.36009205e-12, -4.62381002e-12, -5.42249145e-12],\n",
       "       [-5.69278945e-13, -3.36508208e-12, -2.23150274e-12, ...,\n",
       "        -1.63016280e-12, -5.36511428e-13, -3.13514340e-12],\n",
       "       ...,\n",
       "       [-1.40770609e-12, -3.66843275e-12, -1.84418951e-12, ...,\n",
       "        -1.92296331e-12, -1.47221395e-12, -2.05397093e-12],\n",
       "       [-1.34200420e-12,  1.68507190e-12, -4.35630481e-13, ...,\n",
       "         5.56678293e-13,  2.61195877e-13, -1.65552468e-12],\n",
       "       [ 7.61578300e-13, -5.36435696e-13,  5.76664042e-13, ...,\n",
       "         1.84185913e-12,  5.59047166e-12,  1.56470984e-12]], dtype=float32)"
      ]
     },
     "execution_count": 8,
     "metadata": {},
     "output_type": "execute_result"
    }
   ],
   "source": [
    "hdul[0].header\n",
    "hdul[0].data"
   ]
  },
  {
   "cell_type": "code",
   "execution_count": 14,
   "metadata": {},
   "outputs": [
    {
     "data": {
      "image/png": "[encoded data removed]",
      "text/plain": [
       "<Figure size 432x288 with 1 Axes>"
      ]
     },
     "metadata": {
      "needs_background": "light"
     },
     "output_type": "display_data"
    }
   ],
   "source": [
    "a=plt.hist(np.ravel(hdul[0].data),bins=100,log=True)"
   ]
  },
  {
   "cell_type": "code",
   "execution_count": 15,
   "metadata": {},
   "outputs": [
    {
     "data": {
      "image/png": "[encoded data removed]",
      "text/plain": [
       "<Figure size 432x288 with 1 Axes>"
      ]
     },
     "metadata": {
      "needs_background": "light"
     },
     "output_type": "display_data"
    }
   ],
   "source": [
    "kids = hdul[0].data\n",
    "\n",
    "sky = np.where(kids<10**-11.)\n",
    "\n",
    "a=plt.hist(np.ravel(kids[sky]),bins=100,log=True)"
   ]
  },
  {
   "cell_type": "code",
   "execution_count": 17,
   "metadata": {},
   "outputs": [
    {
     "name": "stdout",
     "output_type": "stream",
     "text": [
      "8.706475e-13 2.613792e-12\n"
     ]
    }
   ],
   "source": [
    "print(np.mean(np.ravel(kids[sky])),np.std(np.ravel(kids[sky])))\n"
   ]
  },
  {
   "cell_type": "code",
   "execution_count": null,
   "metadata": {},
   "outputs": [],
   "source": [
    "from numpy import random\n",
    "\n",
    "hdr = hdul[0].header\n",
    "\n",
    "size1 = hdr['NAXIS1']\n",
    "size2 = hdr['NAXIS2']\n",
    "\n",
    "# y, x = np.mgrid[0:size1, 0:size2]\n",
    "\n",
    "skyimage = np.array(size1,size2,dtype=float)\n",
    "\n",
    "\n"
   ]
  }
 ],
 "metadata": {
  "kernelspec": {
   "display_name": "Python 3",
   "language": "python",
   "name": "python3"
  },
  "language_info": {
   "codemirror_mode": {
    "name": "ipython",
    "version": 3
   },
   "file_extension": ".py",
   "mimetype": "text/x-python",
   "name": "python",
   "nbconvert_exporter": "python",
   "pygments_lexer": "ipython3",
   "version": "3.7.3"
  }
 },
 "nbformat": 4,
 "nbformat_minor": 4
}
