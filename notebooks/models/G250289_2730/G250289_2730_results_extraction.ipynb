{
 "cells": [
  {
   "cell_type": "markdown",
   "id": "paperback-converter",
   "metadata": {},
   "source": [
    "# 3/4/21 - This notebook analyzes the best fits of G250289_2730 to extract mass content and M/L ratios.\n"
   ]
  },
  {
   "cell_type": "code",
   "execution_count": 2,
   "id": "continuing-announcement",
   "metadata": {},
   "outputs": [
    {
     "name": "stderr",
     "output_type": "stream",
     "text": [
      "In /soft/anaconda3/lib/python3.7/site-packages/matplotlib/mpl-data/stylelib/_classic_test.mplstyle: \n",
      "The text.latex.preview rcparam was deprecated in Matplotlib 3.3 and will be removed two minor releases later.\n",
      "In /soft/anaconda3/lib/python3.7/site-packages/matplotlib/mpl-data/stylelib/_classic_test.mplstyle: \n",
      "The mathtext.fallback_to_cm rcparam was deprecated in Matplotlib 3.3 and will be removed two minor releases later.\n",
      "In /soft/anaconda3/lib/python3.7/site-packages/matplotlib/mpl-data/stylelib/_classic_test.mplstyle: Support for setting the 'mathtext.fallback_to_cm' rcParam is deprecated since 3.3 and will be removed two minor releases later; use 'mathtext.fallback : 'cm' instead.\n",
      "In /soft/anaconda3/lib/python3.7/site-packages/matplotlib/mpl-data/stylelib/_classic_test.mplstyle: \n",
      "The validate_bool_maybe_none function was deprecated in Matplotlib 3.3 and will be removed two minor releases later.\n",
      "In /soft/anaconda3/lib/python3.7/site-packages/matplotlib/mpl-data/stylelib/_classic_test.mplstyle: \n",
      "The savefig.jpeg_quality rcparam was deprecated in Matplotlib 3.3 and will be removed two minor releases later.\n",
      "In /soft/anaconda3/lib/python3.7/site-packages/matplotlib/mpl-data/stylelib/_classic_test.mplstyle: \n",
      "The keymap.all_axes rcparam was deprecated in Matplotlib 3.3 and will be removed two minor releases later.\n",
      "In /soft/anaconda3/lib/python3.7/site-packages/matplotlib/mpl-data/stylelib/_classic_test.mplstyle: \n",
      "The animation.avconv_path rcparam was deprecated in Matplotlib 3.3 and will be removed two minor releases later.\n",
      "In /soft/anaconda3/lib/python3.7/site-packages/matplotlib/mpl-data/stylelib/_classic_test.mplstyle: \n",
      "The animation.avconv_args rcparam was deprecated in Matplotlib 3.3 and will be removed two minor releases later.\n"
     ]
    },
    {
     "name": "stdout",
     "output_type": "stream",
     "text": [
      "/data/sknabel/autoz_lens_model\n",
      "Working Directory has been set to `/data/sknabel/autoz_lens_model`\n"
     ]
    }
   ],
   "source": [
    "### libraries\n",
    "%matplotlib inline\n",
    "# set workspace path\n",
    "from pyprojroot import here\n",
    "workspace_path = str(here())#'/data/sknabel/autolens_workspace'\n",
    "%cd $workspace_path\n",
    "print(f\"Working Directory has been set to `{workspace_path}`\")\n",
    "\n",
    "import matplotlib.pyplot as plt\n",
    "from autoconf import conf\n",
    "import autolens as al\n",
    "import autolens.plot as aplt\n",
    "import autofit as af\n",
    "import pandas as pd\n",
    "import numpy as np\n",
    "from astropy.io import fits\n",
    "from astropy.visualization import astropy_mpl_style\n",
    "plt.style.use(astropy_mpl_style)\n",
    "#from astropy.stats import sigma_clip as clip\n",
    "import astropy.cosmology as cosmo\n",
    "from os import path\n",
    "import time\n",
    "\n",
    "# set datetime variable\n",
    "datetime = time.strftime(\"%d%m%Y-%H%M%S\")\n",
    "\n",
    "# paths\n",
    "autoz_path = '/data/sknabel/autoz_lens_model/'\n",
    "file_path = f'{autoz_path}files/'\n",
    "csv_path = f'{file_path}csv/'\n",
    "fits_path = f'{file_path}fits/'\n",
    "png_path = f'{autoz_path}visuals/png/'\n",
    "pdf_path = f'{autoz_path}visuals/pdf/'"
   ]
  },
  {
   "cell_type": "code",
   "execution_count": 4,
   "id": "metropolitan-animation",
   "metadata": {},
   "outputs": [
    {
     "name": "stderr",
     "output_type": "stream",
     "text": [
      "INFO:numexpr.utils:Note: NumExpr detected 40 cores but \"NUMEXPR_MAX_THREADS\" not set, so enforcing safe limit of 8.\n",
      "INFO:numexpr.utils:NumExpr defaulting to 8 threads.\n"
     ]
    },
    {
     "name": "stdout",
     "output_type": "stream",
     "text": [
      "Lens and source redshifts at [0.40121394] and [0.71961558].\n",
      "Einstein radius prior: 0.7818634676165951\n",
      "Performance log:     Unnamed: 0  Unnamed: 0.1  Unnamed: 0.1.1  \\\n",
      "0            0           0.0             0.0   \n",
      "1            1           1.0             1.0   \n",
      "2            2           2.0             2.0   \n",
      "3            3           3.0             3.0   \n",
      "4            4           4.0             4.0   \n",
      "5            5           5.0             5.0   \n",
      "6            6           6.0             6.0   \n",
      "7            7           7.0             7.0   \n",
      "8            8           8.0             8.0   \n",
      "9            9           9.0             9.0   \n",
      "10          10          10.0            10.0   \n",
      "11          11          11.0            11.0   \n",
      "12          12          12.0            12.0   \n",
      "13          13          13.0            13.0   \n",
      "14          14          14.0            14.0   \n",
      "15          15          15.0            15.0   \n",
      "16          16          16.0            16.0   \n",
      "17          17          17.0            17.0   \n",
      "18          18          18.0             0.0   \n",
      "19          19           0.0             NaN   \n",
      "20          20           0.0             NaN   \n",
      "21           0           NaN             NaN   \n",
      "\n",
      "                                           Experiment  phase1_time  \\\n",
      "0                      1-2_position2_effective_radius    61.385485   \n",
      "1                        1-3_position2_RE_GAMA_sigma1    72.798333   \n",
      "2               1-4_position2_RE_GAMA_sigma1_mask1pt5    72.692799   \n",
      "3               1-5_position2_RE_GAMA_sigma1_mask1pt0    70.813617   \n",
      "4               1-4_position2_RE_GAMA_sigma1_mask1pt5    64.136437   \n",
      "5               1-5_position2_RE_GAMA_sigma1_mask1pt2    49.861724   \n",
      "6            1-6_position2_RE_GAMA_sigma0pt5_mask1pt0    48.396517   \n",
      "7            1-6_position2_RE_GAMA_sigma0pt5_mask1pt0    48.396517   \n",
      "8            1-6_position2_RE_GAMA_sigma0pt5_mask1pt0    48.396517   \n",
      "9            1-7_position2_RE_GAMA_sigma0pt5_mask1pt0    42.722070   \n",
      "10  1-8_position2_RE_GAMA_sigma0pt25_mask0pt8_bulg...    40.674571   \n",
      "11  1-9_position1_RE_GAMA_sigma0pt25_mask0pt8_bulg...    39.025512   \n",
      "12                                1-10_3positions1pt0    39.908791   \n",
      "13                     1-11_4positions1pt0_p1_60nlive    60.986198   \n",
      "14   1-12_3positions1pt0_p1_60nlive_tighter_tolerance    98.418845   \n",
      "15                                               1-13    48.833757   \n",
      "16                                                2-1    67.101812   \n",
      "17                                                2-2    63.714856   \n",
      "18                                                2-3    74.994659   \n",
      "19                                                2-4    74.960656   \n",
      "20                                                2-4    74.960656   \n",
      "21                                                3-2   137.692984   \n",
      "\n",
      "    phase1_likelihood   phase2_time  phase2_likelihood  phase3_time  \\\n",
      "0          213.437572   2628.087118         264.264239     0.000000   \n",
      "1          214.117517      0.000000           0.000000     0.000000   \n",
      "2          216.319977      0.000000           0.000000     0.000000   \n",
      "3          214.652386      0.000000           0.000000     0.000000   \n",
      "4           41.232624      0.000000           0.000000     0.000000   \n",
      "5           24.586925      0.000000           0.000000     0.000000   \n",
      "6           23.622402   3425.585262         286.532845     0.000000   \n",
      "7           23.622402      0.000000           0.000000     0.000000   \n",
      "8           23.622402   3425.585262         286.532845     0.000000   \n",
      "9           19.792835   3321.776774         282.840730     0.000000   \n",
      "10          19.741768   2481.297468         271.389328     0.000000   \n",
      "11          19.717754   2541.963173         268.082333     0.000000   \n",
      "12          19.563445   2064.610598         268.171285     0.000000   \n",
      "13          19.387825   2302.249842         260.886055     0.000000   \n",
      "14          19.852618   3861.355659         276.480424     0.000000   \n",
      "15          19.569532   4737.382558         280.772899     0.000000   \n",
      "16          19.696760   2389.432171         178.539114   975.267441   \n",
      "17          20.013989   2209.709153         198.107849  1022.309989   \n",
      "18          28.776633   1189.141643          -4.117681     0.000000   \n",
      "19          27.599244   1444.785113         -27.642470     0.000000   \n",
      "20          27.599244   1444.785113         -27.642470  1267.038277   \n",
      "21          26.638929  42972.493118         290.350365     0.000000   \n",
      "\n",
      "    phase3_likelihood  \n",
      "0            0.000000  \n",
      "1            0.000000  \n",
      "2            0.000000  \n",
      "3            0.000000  \n",
      "4            0.000000  \n",
      "5            0.000000  \n",
      "6            0.000000  \n",
      "7            0.000000  \n",
      "8            0.000000  \n",
      "9            0.000000  \n",
      "10           0.000000  \n",
      "11           0.000000  \n",
      "12           0.000000  \n",
      "13           0.000000  \n",
      "14           0.000000  \n",
      "15           0.000000  \n",
      "16         -52.722196  \n",
      "17        -137.831882  \n",
      "18           0.000000  \n",
      "19           0.000000  \n",
      "20        -272.021388  \n",
      "21           0.000000  \n"
     ]
    }
   ],
   "source": [
    "# this should be constant across experiments\n",
    "\n",
    "gama_id = 250289\n",
    "links_id = 2730\n",
    "\n",
    "object_folder = f'{fits_path}G{gama_id}_{links_id}/'\n",
    "output_folder = f'{autoz_path}output/G{gama_id}_{links_id}/'\n",
    "\n",
    "# load object data table\n",
    "links = pd.read_csv(f'{csv_path}/latest/links_sample_latest.csv')\n",
    "lens_galaxy_data = links[links.GAMA_ID == gama_id]\n",
    "stellar_mass = lens_galaxy_data.lambdar_log_mstar.values\n",
    "zlens=lens_galaxy_data.zlens.values\n",
    "zsource=lens_galaxy_data.zsource.values\n",
    "einstein_radius=np.mean([lens_galaxy_data.theta_e_pm.values, lens_galaxy_data.theta_e_sis.values]) # take average of einstein radius estimates for prior\n",
    "print(f'Lens and source redshifts at {zlens} and {zsource}.')\n",
    "print(f'Einstein radius prior: {einstein_radius}')\n",
    "\n",
    "# load performance log from csv\n",
    "performance_log = pd.read_csv(f'{csv_path}G{gama_id}_{links_id}_performance_log.csv')\n",
    "#print(performance_log)\n",
    "print(f'Performance log: {performance_log}')"
   ]
  },
  {
   "cell_type": "code",
   "execution_count": 12,
   "id": "exclusive-going",
   "metadata": {},
   "outputs": [
    {
     "name": "stdout",
     "output_type": "stream",
     "text": [
      "Aggregator loading phases... could take some time.\n",
      "\n",
      " A total of 1 phases and results were found.\n",
      "NestedSampler Samples: \n",
      "\n",
      "<map object at 0x7f122e7900f0>\n",
      "\n",
      "Total Samples Objects =  1 \n",
      "\n",
      "[0.09308840995790608, 0.030222438158616072, -0.06817823985998944, 791085293021575.5, 0.06862340933761546, -0.15798177426472604, 0.05767596612560465, 0.7761391986370466]\n",
      "[1.0037691547054026e-06, 0.01087800062805359, -0.03255395543450698, 837641501593496.9, 1.014361216813481, -0.7458635842216976, 1.9457487894318892, 0.06357251915870725]\n"
     ]
    }
   ],
   "source": [
    "# set up aggregator to examine the results on Experiment 3-2\n",
    "agg = af.Aggregator(directory=f'{output_folder}experiment_1-12_3positions1pt0_p1_60nlive_tighter_tolerance_phase2_fit_25022021-074005')\n",
    "\n",
    "samples_gen = agg.values(\"samples\")\n",
    "\n",
    "\"\"\"\n",
    "When we print this the length of this generator converted to a list of outputs we see 3 different NestSamples \n",
    "instances. These correspond to each fit of each phase to each of our 3 images.\n",
    "\"\"\"\n",
    "print(\"NestedSampler Samples: \\n\")\n",
    "print(samples_gen)\n",
    "print()\n",
    "print(\"Total Samples Objects = \", len(list(samples_gen)), \"\\n\")\n",
    "\n",
    "# Or do this\n",
    "samples = list(agg.values(\"samples\"))\n",
    "\n",
    "print(samples[0].max_log_likelihood_vector)\n",
    "print(samples[0].max_log_posterior_vector)"
   ]
  },
  {
   "cell_type": "code",
   "execution_count": 11,
   "id": "overall-classic",
   "metadata": {},
   "outputs": [
    {
     "name": "stdout",
     "output_type": "stream",
     "text": [
      "All parameters of the very first sample\n",
      "[0.00017576105850682455, 0.09258897318605636, -0.139910182138992, 599425470987037.4, -0.10613573688991895, -0.11018695968911718, 3.5371181282435127, 3.915055878897926]\n",
      "The third parameter of the tenth sample\n",
      "0.023566989606799607\n"
     ]
    }
   ],
   "source": [
    "# These for loops are if I have several models to analyze at once.\n",
    "for samples in agg.values(\"samples\"):\n",
    "    print(\"All parameters of the very first sample\")\n",
    "    print(samples.parameters[0])\n",
    "    print(\"The third parameter of the tenth sample\")\n",
    "    print(samples.parameters[9][2])"
   ]
  },
  {
   "cell_type": "code",
   "execution_count": 28,
   "id": "informational-preference",
   "metadata": {},
   "outputs": [
    {
     "name": "stdout",
     "output_type": "stream",
     "text": [
      "log(likelihood), log(prior), log(posterior) and weight of the 1462nd sample.\n",
      "148.984655118735\n",
      "5.455555304586613\n",
      "154.44021042332162\n",
      "4.23332394479896e-43\n"
     ]
    }
   ],
   "source": [
    "for samples in agg.values(\"samples\"):\n",
    "    print(\"log(likelihood), log(prior), log(posterior) and weight of the 1462nd sample.\")\n",
    "    print(samples.log_likelihoods[1462])\n",
    "    print(samples.log_priors[1462])\n",
    "    print(samples.log_posteriors[1462])\n",
    "    print(samples.weights[1462])"
   ]
  },
  {
   "cell_type": "code",
   "execution_count": 20,
   "id": "published-heart",
   "metadata": {},
   "outputs": [
    {
     "name": "stdout",
     "output_type": "stream",
     "text": [
      "Galaxy (centre_0, GaussianPrior, mean = 0.0, sigma = 0.1), (centre_1, GaussianPrior, mean = 0.0, sigma = 0.1), (mass_to_light_ratio, LogUniformPrior, lower_limit = 1e-06, upper_limit = 1000000.0), (centre_0, GaussianPrior, mean = 0.0, sigma = 0.1), (centre_1, GaussianPrior, mean = 0.0, sigma = 0.1), (mass_at_200, LogUniformPrior, lower_limit = 100000000.0, upper_limit = 1000000000000000.0), Galaxy (centre_0, UniformPrior, lower_limit = -3.0, upper_limit = 3.0), (centre_1, UniformPrior, lower_limit = -3.0, upper_limit = 3.0), (intensity, UniformPrior, lower_limit = 0.0, upper_limit = 4.589990245094409), (effective_radius, UniformPrior, lower_limit = 0.0, upper_limit = 5.0), None, None\n",
      "['mass_to_light_ratio', 'centre_0', 'centre_1', 'mass_at_200', 'centre_0', 'centre_1', 'effective_radius', 'intensity']\n",
      "['Psi', 'y', 'x', 'm200', 'y', 'x', 'R', 'I']\n"
     ]
    }
   ],
   "source": [
    "for samples in agg.values(\"samples\"):\n",
    "    model = samples.model\n",
    "    print(model)\n",
    "    print(model.parameter_names)\n",
    "    print(model.parameter_labels)"
   ]
  },
  {
   "cell_type": "code",
   "execution_count": 71,
   "id": "ranging-paragraph",
   "metadata": {},
   "outputs": [
    {
     "name": "stdout",
     "output_type": "stream",
     "text": [
      "Maximum Log Likelihood Model Instances: \n",
      "\n",
      "<autofit.mapper.model.ModelInstance object at 0x7f2acb21d6a0> \n",
      "\n",
      "<autofit.mapper.model.ModelInstance object at 0x7f2ace3dceb8>\n",
      "791085293021575.5\n"
     ]
    }
   ],
   "source": [
    "ml_instances = [samps.max_log_likelihood_instance for samps in agg.values(\"samples\")]\n",
    "print(\"Maximum Log Likelihood Model Instances: \\n\")\n",
    "print(ml_instances[0], \"\\n\")\n",
    "\n",
    "print(ml_instances[0].galaxies)\n",
    "print(ml_instances[0].galaxies.lens.dark.mass_at_200)\n",
    "\n",
    "# what about ml_models? I want errors!"
   ]
  },
  {
   "cell_type": "code",
   "execution_count": 46,
   "id": "expanded-harvest",
   "metadata": {},
   "outputs": [
    {
     "name": "stdout",
     "output_type": "stream",
     "text": [
      "Model Results Summary: \n",
      "\n",
      "\n",
      "\n",
      "Bayesian Evidence                                                                         229.61959732\n",
      "Maximum Likelihood                                                                        276.48042397\n",
      "\n",
      "Maximum Log Likelihood Model:\n",
      "\n",
      "galaxies\n",
      "    lens\n",
      "        bulge\n",
      "            mass_to_light_ratio                                                           0.093\n",
      "        dark\n",
      "            centre\n",
      "                centre_0                                                                  0.030\n",
      "                centre_1                                                                  -0.068\n",
      "            mass_at_200                                                                   791085293021575.500\n",
      "    source\n",
      "        bulge\n",
      "            centre\n",
      "                centre_0                                                                  0.069\n",
      "                centre_1                                                                  -0.158\n",
      "            effective_radius                                                              0.058\n",
      "            intensity                                                                     0.776\n",
      "\n",
      "\n",
      "Summary (3.0 sigma limits):\n",
      "\n",
      "galaxies\n",
      "    lens\n",
      "        bulge\n",
      "            mass_to_light_ratio                                                           0.3346 (0.0698, 0.8173)\n",
      "        dark\n",
      "            centre\n",
      "                centre_0                                                                  0.0224 (0.0008, 0.0402)\n",
      "                centre_1                                                                  -0.0587 (-0.0790, -0.0333)\n",
      "            mass_at_200                                                                   2.7392e+14 (3.8483e+12, 8.7929e+14)\n",
      "    source\n",
      "        bulge\n",
      "            centre\n",
      "                centre_0                                                                  0.1017 (0.0536, 0.1971)\n",
      "                centre_1                                                                  -0.2562 (-0.4653, -0.1464)\n",
      "            effective_radius                                                              0.1457 (0.0541, 0.3497)\n",
      "            intensity                                                                     0.5578 (0.3028, 0.8510)\n",
      "\n",
      "\n",
      "Summary (1.0 sigma limits):\n",
      "\n",
      "galaxies\n",
      "    lens\n",
      "        bulge\n",
      "            mass_to_light_ratio                                                           0.3346 (0.2727, 0.4069)\n",
      "        dark\n",
      "            centre\n",
      "                centre_0                                                                  0.0224 (0.0190, 0.0257)\n",
      "                centre_1                                                                  -0.0587 (-0.0628, -0.0551)\n",
      "            mass_at_200                                                                   2.7392e+14 (1.8517e+14, 3.7359e+14)\n",
      "    source\n",
      "        bulge\n",
      "            centre\n",
      "                centre_0                                                                  0.1017 (0.0903, 0.1148)\n",
      "                centre_1                                                                  -0.2562 (-0.2869, -0.2290)\n",
      "            effective_radius                                                              0.1457 (0.1227, 0.1721)\n",
      "            intensity                                                                     0.5578 (0.5171, 0.6055)\n",
      "\n",
      "instances\n",
      "\n",
      "galaxies\n",
      "    lens\n",
      "        bulge\n",
      "            intensity                                                                     0.4589990245094409\n",
      "            effective_radius                                                              1.1540901740321086\n",
      "            sersic_index                                                                  3.4350260950409943 \n",
      "\n"
     ]
    }
   ],
   "source": [
    "results = agg.model_results\n",
    "print(\"Model Results Summary: \\n\")\n",
    "print(results, \"\\n\")"
   ]
  },
  {
   "cell_type": "markdown",
   "id": "dramatic-despite",
   "metadata": {},
   "source": [
    "## Try to pull Einstein radius from lens galaxy and grid."
   ]
  },
  {
   "cell_type": "code",
   "execution_count": 51,
   "id": "burning-evolution",
   "metadata": {},
   "outputs": [
    {
     "name": "stdout",
     "output_type": "stream",
     "text": [
      "Einstein Radius (arcsec) via Galaxy =  1.5341188204096299\n",
      "Einstein Mass (angular) via Galaxy =  7.393802886084795\n",
      "Einstein Radius (kpc) =  [4.33792478]\n"
     ]
    }
   ],
   "source": [
    "lens = ml_instances[0].galaxies.lens\n",
    "grid = al.Grid2D.uniform(shape_native=(101, 101), pixel_scales=0.2)\n",
    "\n",
    "print(\n",
    "    \"Einstein Radius (arcsec) via Galaxy = \",\n",
    "    lens.einstein_radius_from_grid(grid=grid),\n",
    ")\n",
    "print(\n",
    "    \"Einstein Mass (angular) via Galaxy = \",\n",
    "    lens.einstein_mass_angular_from_grid(grid=grid),\n",
    ")\n",
    "\n",
    "kpc_per_arcsec = al.util.cosmology.kpc_per_arcsec_from(\n",
    "    redshift=zlens, cosmology=cosmo.Planck15\n",
    ")\n",
    "\n",
    "einstein_radius = lens.einstein_radius_from_grid(grid=grid)\n",
    "\n",
    "einstein_radius_kpc = einstein_radius * kpc_per_arcsec\n",
    "print(\"Einstein Radius (kpc) = \", einstein_radius_kpc)"
   ]
  },
  {
   "cell_type": "markdown",
   "id": "enhanced-hammer",
   "metadata": {},
   "source": [
    "## Einstein mass."
   ]
  },
  {
   "cell_type": "code",
   "execution_count": 64,
   "id": "potential-commerce",
   "metadata": {},
   "outputs": [
    {
     "name": "stdout",
     "output_type": "stream",
     "text": [
      "Einstein Mass (angular) =  7.393802886084795\n",
      "Einstein Mass (kpc) =  877659870065.8164\n",
      "Einstein Mass (kpc) =  8.7766e+11\n",
      "Log Einstein Mass = 11.943326241221566\n"
     ]
    }
   ],
   "source": [
    "einstein_mass = lens.einstein_mass_angular_from_grid(grid=grid)\n",
    "print(\"Einstein Mass (angular) = \", einstein_mass)\n",
    "\n",
    "critical_surface_density = al.util.cosmology.critical_surface_density_between_redshifts_from(\n",
    "    redshift_0=0.5, redshift_1=1.0, cosmology=cosmo.Planck15\n",
    ")\n",
    "\n",
    "einstein_mass_kpc = einstein_mass * critical_surface_density\n",
    "\n",
    "print(\"Einstein Mass (kpc) = \", einstein_mass_kpc) # Gives it in solar masses\n",
    "print(\"Einstein Mass (kpc) = \", \"{:.4e}\".format(einstein_mass_kpc))\n",
    "print(f'Log Einstein Mass = {np.log10(einstein_mass_kpc)}')"
   ]
  },
  {
   "cell_type": "code",
   "execution_count": 63,
   "id": "disabled-handle",
   "metadata": {},
   "outputs": [
    {
     "name": "stdout",
     "output_type": "stream",
     "text": [
      "Mass at 200 (whatever that means): 14.898223310667886\n"
     ]
    }
   ],
   "source": [
    "print(f'Log Mass at 200 (whatever that means): {np.log10(791085293021575.5)}')"
   ]
  },
  {
   "cell_type": "code",
   "execution_count": 67,
   "id": "guided-motion",
   "metadata": {},
   "outputs": [
    {
     "name": "stdout",
     "output_type": "stream",
     "text": [
      "Log Stellar Mass: [11.668818]\n"
     ]
    }
   ],
   "source": [
    "print(f'Log Stellar Mass: {stellar_mass}')"
   ]
  },
  {
   "cell_type": "code",
   "execution_count": 73,
   "id": "hawaiian-travel",
   "metadata": {},
   "outputs": [
    {
     "name": "stdout",
     "output_type": "stream",
     "text": [
      "Errors Lists: \n",
      "\n",
      "[[0.8173067426239591, 0.04021798840601211, -0.033342525992155, 879288648835713.9, 0.19709277509098203, -0.14642607130805105, 0.34974483251846905, 0.8510078682579594]] \n",
      "\n",
      "[[0.06984749043348215, 0.0007692959136734359, -0.07901842424946834, 3848276224379.9424, 0.05364187580762448, -0.4653097369418179, 0.054082021927004904, 0.30278499280729365]] \n",
      "\n",
      "Errors Instances: \n",
      "\n",
      "[<autofit.mapper.model.ModelInstance object at 0x7f2ace3dc390>] \n",
      "\n",
      "[<autofit.mapper.model.ModelInstance object at 0x7f2ace3c7f60>] \n",
      "\n",
      "Errors Lists: \n",
      "\n",
      "[[0.48271814087369697, 0.017846717624539078, 0.025317577487654425, 605372505839173.5, 0.09539364078054852, 0.10978456953822732, 0.20409101309696687, 0.2931916258457593]] \n",
      "\n",
      "[[0.26474111131677996, 0.021601974867799596, 0.020358320769658912, 270067866772160.5, 0.04805725850280903, 0.2090990960955395, 0.09157179749449729, 0.2550312496049064]] \n",
      "\n",
      "Errors Instances: \n",
      "\n",
      "[<autofit.mapper.model.ModelInstance object at 0x7f2acc4ca4e0>] \n",
      "\n",
      "[<autofit.mapper.model.ModelInstance object at 0x7f2ace339c18>] \n",
      "\n"
     ]
    }
   ],
   "source": [
    "\"\"\"\n",
    "We can compute the model parameters at a given sigma value (e.g. at 3.0 sigma limits).\n",
    "These parameter values do not account for covariance between the model. For example if two parameters are degenerate \n",
    "this will find their values from the degeneracy in the `same direction` (e.g. both will be positive). we'll cover\n",
    "how to handle covariance in a later tutorial.\n",
    "Here, I use \"uv3\" to signify this is an upper value at 3 sigma confidence,, and \"lv3\" for the lower value.\n",
    "\"\"\"\n",
    "\n",
    "# What is this shit?\n",
    "\n",
    "uv3_vectors = [\n",
    "    samps.vector_at_upper_sigma(sigma=3.0) for samps in agg.values(\"samples\")\n",
    "]\n",
    "\n",
    "uv3_instances = [\n",
    "    samps.instance_at_upper_sigma(sigma=3.0) for samps in agg.values(\"samples\")\n",
    "]\n",
    "\n",
    "lv3_vectors = [\n",
    "    samps.vector_at_lower_sigma(sigma=3.0) for samps in agg.values(\"samples\")\n",
    "]\n",
    "\n",
    "lv3_instances = [\n",
    "    samps.instance_at_lower_sigma(sigma=3.0) for samps in agg.values(\"samples\")\n",
    "]\n",
    "\n",
    "print(\"Errors Lists: \\n\")\n",
    "print(uv3_vectors, \"\\n\")\n",
    "print(lv3_vectors, \"\\n\")\n",
    "print(\"Errors Instances: \\n\")\n",
    "print(uv3_instances, \"\\n\")\n",
    "print(lv3_instances, \"\\n\")\n",
    "\n",
    "\"\"\"\n",
    "We can compute the upper and lower errors on each parameter at a given sigma limit.\n",
    "Here, \"ue3\" signifies the upper error at 3 sigma. \n",
    "\"\"\"\n",
    "ue3_vectors = [\n",
    "    samps.error_vector_at_upper_sigma(sigma=3.0) for samps in agg.values(\"samples\")\n",
    "]\n",
    "\n",
    "ue3_instances = [\n",
    "    samps.error_instance_at_upper_sigma(sigma=3.0) for samps in agg.values(\"samples\")\n",
    "]\n",
    "\n",
    "le3_vectors = [\n",
    "    samps.error_vector_at_lower_sigma(sigma=3.0) for samps in agg.values(\"samples\")\n",
    "]\n",
    "le3_instances = [\n",
    "    samps.error_instance_at_lower_sigma(sigma=3.0) for samps in agg.values(\"samples\")\n",
    "]\n",
    "\n",
    "print(\"Errors Lists: \\n\")\n",
    "print(ue3_vectors, \"\\n\")\n",
    "print(le3_vectors, \"\\n\")\n",
    "print(\"Errors Instances: \\n\")\n",
    "print(ue3_instances, \"\\n\")\n",
    "print(le3_instances, \"\\n\")\n"
   ]
  },
  {
   "cell_type": "code",
   "execution_count": 82,
   "id": "dedicated-biodiversity",
   "metadata": {},
   "outputs": [
    {
     "data": {
      "image/png": "[encoded data removed]",
      "text/plain": [
       "<Figure size 1296x864 with 12 Axes>"
      ]
     },
     "metadata": {},
     "output_type": "display_data"
    }
   ],
   "source": [
    "ml_tracer = al.Tracer.from_galaxies(galaxies=ml_instances[0].galaxies)\n",
    "\n",
    "tracer_plotter = aplt.TracerPlotter(tracer=ml_tracer, grid=grid)\n",
    "tracer_plotter.subplot_tracer()"
   ]
  },
  {
   "cell_type": "code",
   "execution_count": 85,
   "id": "domestic-native",
   "metadata": {},
   "outputs": [
    {
     "name": "stdout",
     "output_type": "stream",
     "text": [
      "Median PDF Model Parameter Lists: \n",
      "\n",
      "[0.3345886017502621, 0.02237127078147303, -0.058660103479809426, 273916142996540.44, 0.10169913431043351, -0.25621064084627837, 0.14565381942150218, 0.5578162424122001] \n",
      "\n",
      "Most probable Model Instances: \n",
      "\n",
      "<autofit.mapper.model.ModelInstance object at 0x7f2acb7d2e10> \n",
      "\n",
      "Redshift: [0.40121394]\n",
      "Light Profiles:\n",
      "EllipticalSersic\n",
      "centre: (0.02237127078147303, -0.058660103479809426)\n",
      "elliptical_comps: (-0.09652741926566069, 0.0032931864035581383)\n",
      "axis_ratio: 0.8238463881508825\n",
      "phi: -44.023010621171096\n",
      "mass_to_light_ratio: 0.3345886017502621\n",
      "intensity: 0.4589990245094409\n",
      "effective_radius: 1.1540901740321086\n",
      "sersic_index: 3.4350260950409943\n",
      "id: 1213781\n",
      "_assertions: []\n",
      "cls: <class 'autogalaxy.profiles.light_and_mass_profiles.EllipticalSersic'>\n",
      "Mass Profiles:\n",
      "EllipticalSersic\n",
      "centre: (0.02237127078147303, -0.058660103479809426)\n",
      "elliptical_comps: (-0.09652741926566069, 0.0032931864035581383)\n",
      "axis_ratio: 0.8238463881508825\n",
      "phi: -44.023010621171096\n",
      "mass_to_light_ratio: 0.3345886017502621\n",
      "intensity: 0.4589990245094409\n",
      "effective_radius: 1.1540901740321086\n",
      "sersic_index: 3.4350260950409943\n",
      "id: 1213781\n",
      "_assertions: []\n",
      "cls: <class 'autogalaxy.profiles.light_and_mass_profiles.EllipticalSersic'>\n",
      "SphericalNFWMCRLudlow\n",
      "mass_at_200: 273916142996540.44\n",
      "redshift_object: [0.40121394]\n",
      "redshift_source: [0.71961558]\n",
      "centre: (0.02237127078147303, -0.058660103479809426)\n",
      "elliptical_comps: (0.0, 0.0)\n",
      "axis_ratio: 1.0\n",
      "phi: 0.0\n",
      "count: 0\n",
      "sigma_calc: 0\n",
      "z: 0\n",
      "zq: 0\n",
      "expv: 0\n",
      "kappa_s: [0.08855011]\n",
      "scale_radius: [50.49096655]\n",
      "inner_slope: 1.0\n",
      "id: 1213790\n",
      "_assertions: []\n",
      "cls: <class 'autogalaxy.profiles.mass_profiles.dark_mass_profiles.SphericalNFWMCRLudlow'>\n",
      "\n"
     ]
    }
   ],
   "source": [
    "\"\"\"\n",
    "We can also access the `median pdf` model, which is the model computed by marginalizing over the samples of every \n",
    "parameter in 1D and taking the median of this PDF.\n",
    "\"\"\"\n",
    "mp_vector = samples.median_pdf_vector\n",
    "mp_instance = samples.median_pdf_instance\n",
    "\n",
    "print(\"Median PDF Model Parameter Lists: \\n\")\n",
    "print(mp_vector, \"\\n\")\n",
    "print(\"Most probable Model Instances: \\n\")\n",
    "print(mp_instance, \"\\n\")\n",
    "print(mp_instance.galaxies.lens)\n",
    "print()"
   ]
  },
  {
   "cell_type": "code",
   "execution_count": 87,
   "id": "acceptable-departure",
   "metadata": {},
   "outputs": [
    {
     "name": "stdout",
     "output_type": "stream",
     "text": [
      "Maximum Log Likelihood and Log Evidence: \n",
      "\n",
      "276.4804239653563\n",
      "229.61959732224582\n"
     ]
    }
   ],
   "source": [
    "\"\"\"\n",
    "The maximum log likelihood of each model fit and its Bayesian log evidence (estimated via the nested sampling \n",
    "algorithm) are also available.\n",
    "\"\"\"\n",
    "print(\"Maximum Log Likelihood and Log Evidence: \\n\")\n",
    "print(max(samples.log_likelihoods))\n",
    "print(samples.log_evidence)\n"
   ]
  },
  {
   "cell_type": "markdown",
   "id": "cultural-swift",
   "metadata": {},
   "source": [
    "## Trying to make a method for using this the way I need it."
   ]
  },
  {
   "cell_type": "code",
   "execution_count": 95,
   "id": "sudden-idaho",
   "metadata": {},
   "outputs": [],
   "source": [
    "for samples in agg.values(\"samples\"):\n",
    "    samples = samples"
   ]
  },
  {
   "cell_type": "code",
   "execution_count": 135,
   "id": "marine-proxy",
   "metadata": {},
   "outputs": [
    {
     "name": "stdout",
     "output_type": "stream",
     "text": [
      "Starting parameters: [0.00017576105850682455, 0.09258897318605636, -0.139910182138992, 599425470987037.4, -0.10613573688991895, -0.11018695968911718, 3.5371181282435127, 3.915055878897926] \n",
      "\n",
      "Model: Galaxy (centre_0, GaussianPrior, mean = 0.0, sigma = 0.1), (centre_1, GaussianPrior, mean = 0.0, sigma = 0.1), (mass_to_light_ratio, LogUniformPrior, lower_limit = 1e-06, upper_limit = 1000000.0), (centre_0, GaussianPrior, mean = 0.0, sigma = 0.1), (centre_1, GaussianPrior, mean = 0.0, sigma = 0.1), (mass_at_200, LogUniformPrior, lower_limit = 100000000.0, upper_limit = 1000000000000000.0), Galaxy (centre_0, UniformPrior, lower_limit = -3.0, upper_limit = 3.0), (centre_1, UniformPrior, lower_limit = -3.0, upper_limit = 3.0), (intensity, UniformPrior, lower_limit = 0.0, upper_limit = 4.589990245094409), (effective_radius, UniformPrior, lower_limit = 0.0, upper_limit = 5.0), None, None \n",
      "\n",
      "Model parameter names: ['mass_to_light_ratio', 'centre_0', 'centre_1', 'mass_at_200', 'centre_0', 'centre_1', 'effective_radius', 'intensity'] \n",
      "\n",
      "Max log likelihood: 276.4804239653563\n",
      "\n",
      "Lens parameters: Redshift: [0.40121394]\n",
      "Light Profiles:\n",
      "EllipticalSersic\n",
      "centre: (0.030222438158616072, -0.06817823985998944)\n",
      "elliptical_comps: (-0.09652741926566069, 0.0032931864035581383)\n",
      "axis_ratio: 0.8238463881508825\n",
      "phi: -44.023010621171096\n",
      "mass_to_light_ratio: 0.09308840995790608\n",
      "intensity: 0.4589990245094409\n",
      "effective_radius: 1.1540901740321086\n",
      "sersic_index: 3.4350260950409943\n",
      "id: 1213781\n",
      "_assertions: []\n",
      "cls: <class 'autogalaxy.profiles.light_and_mass_profiles.EllipticalSersic'>\n",
      "Mass Profiles:\n",
      "EllipticalSersic\n",
      "centre: (0.030222438158616072, -0.06817823985998944)\n",
      "elliptical_comps: (-0.09652741926566069, 0.0032931864035581383)\n",
      "axis_ratio: 0.8238463881508825\n",
      "phi: -44.023010621171096\n",
      "mass_to_light_ratio: 0.09308840995790608\n",
      "intensity: 0.4589990245094409\n",
      "effective_radius: 1.1540901740321086\n",
      "sersic_index: 3.4350260950409943\n",
      "id: 1213781\n",
      "_assertions: []\n",
      "cls: <class 'autogalaxy.profiles.light_and_mass_profiles.EllipticalSersic'>\n",
      "SphericalNFWMCRLudlow\n",
      "mass_at_200: 791085293021575.5\n",
      "redshift_object: [0.40121394]\n",
      "redshift_source: [0.71961558]\n",
      "centre: (0.030222438158616072, -0.06817823985998944)\n",
      "elliptical_comps: (0.0, 0.0)\n",
      "axis_ratio: 1.0\n",
      "phi: 0.0\n",
      "count: 0\n",
      "sigma_calc: 0\n",
      "z: 0\n",
      "zq: 0\n",
      "expv: 0\n",
      "kappa_s: [0.10872263]\n",
      "scale_radius: [81.29760655]\n",
      "inner_slope: 1.0\n",
      "id: 1213790\n",
      "_assertions: []\n",
      "cls: <class 'autogalaxy.profiles.mass_profiles.dark_mass_profiles.SphericalNFWMCRLudlow'>\n",
      "Fit parameters: [0.09308840995790608, 0.030222438158616072, -0.06817823985998944, 791085293021575.5, 0.06862340933761546, -0.15798177426472604, 0.05767596612560465, 0.7761391986370466]\n",
      "\n",
      "Einstein Radius (arcsec) via Galaxy =  1.5341188204096299\n",
      "Einstein Radius (kpc) =  [8.5115782]\n",
      "\n",
      "Einstein Mass (angular) =  7.393802886084795\n",
      "Einstein Mass (kpc) =  877659870065.8164\n",
      "Einstein Mass (kpc) =  8.7766e+11\n",
      "Log Einstein Mass = 11.943326241221566\n",
      "\n",
      "Log Stellar Mass: [11.668818]\n",
      "DM Log Mass at 200 (whatever that means): 14.898223310667886\n",
      "\n",
      "Fit values: [0.09308840995790608, 0.030222438158616072, -0.06817823985998944, 791085293021575.5, 0.06862340933761546, -0.15798177426472604, 0.05767596612560465, 0.7761391986370466]\n",
      "Errors Lists: 3-sigma confidence \n",
      "Upper value: [[0.8173067426239591, 0.04021798840601211, -0.033342525992155, 879288648835713.9, 0.19709277509098203, -0.14642607130805105, 0.34974483251846905, 0.8510078682579594]]\n",
      "Lower value: [[0.06984749043348215, 0.0007692959136734359, -0.07901842424946834, 3848276224379.9424, 0.05364187580762448, -0.4653097369418179, 0.054082021927004904, 0.30278499280729365]]\n",
      "Upper error: [[0.48271814087369697, 0.017846717624539078, 0.025317577487654425, 605372505839173.5, 0.09539364078054852, 0.10978456953822732, 0.20409101309696687, 0.2931916258457593]]\n",
      "Lower error: [[0.26474111131677996, 0.021601974867799596, 0.020358320769658912, 270067866772160.5, 0.04805725850280903, 0.2090990960955395, 0.09157179749449729, 0.2550312496049064]]\n"
     ]
    }
   ],
   "source": [
    "# staring parameters\n",
    "print(f'Starting parameters: {samples.parameters[0]}', '\\n')\n",
    "\n",
    "# beginning model and parameter names\n",
    "model = samples.model\n",
    "print(f'Model: {model}', '\\n')\n",
    "print(f\"Model parameter names: {model.parameter_names}\", '\\n')\n",
    "\n",
    "# max log likelihood sample\n",
    "ml_sample = samples.max_log_likelihood_sample\n",
    "print(f'Max log likelihood: {ml_sample.log_likelihood}')\n",
    "print()\n",
    "\n",
    "# contents (instance) of max log likelihood\n",
    "ml_instance = samples.max_log_likelihood_instance\n",
    "lens = ml_instance.galaxies.lens\n",
    "source = ml_instance.galaxies.source\n",
    "print(f'Lens parameters: {ml_instance.galaxies.lens}')\n",
    "print(f'Fit parameters: {samples.max_log_likelihood_vector}')\n",
    "\n",
    "print()\n",
    "\n",
    "# einstein radius\n",
    "grid = al.Grid2D.uniform(shape_native=(101, 101), pixel_scales=0.2)\n",
    "einstein_radius = lens.einstein_radius_from_grid(grid=grid)\n",
    "print(\n",
    "    \"Einstein Radius (arcsec) via Galaxy = \",\n",
    "    einstein_radius,\n",
    ")\n",
    "\n",
    "kpc_per_arcsec = al.util.cosmology.kpc_per_arcsec_from(\n",
    "    redshift=zlens, cosmology=cosmo.Planck15\n",
    ")\n",
    "\n",
    "einstein_radius_kpc = einstein_radius * kpc_per_arcsec\n",
    "print(\"Einstein Radius (kpc) = \", einstein_radius_kpc)\n",
    "\n",
    "print()\n",
    "\n",
    "#einstein mass\n",
    "einstein_mass = lens.einstein_mass_angular_from_grid(grid=grid)\n",
    "print(\"Einstein Mass (angular) = \", einstein_mass)\n",
    "\n",
    "critical_surface_density = al.util.cosmology.critical_surface_density_between_redshifts_from(\n",
    "    redshift_0=0.5, redshift_1=1.0, cosmology=cosmo.Planck15\n",
    ")\n",
    "\n",
    "einstein_mass_kpc = einstein_mass * critical_surface_density\n",
    "\n",
    "print(\"Einstein Mass (kpc) = \", einstein_mass_kpc) # Gives it in solar masses\n",
    "print(\"Einstein Mass (kpc) = \", \"{:.4e}\".format(einstein_mass_kpc))\n",
    "print(f'Log Einstein Mass = {np.log10(einstein_mass_kpc)}')\n",
    "print()\n",
    "print(f'Log Stellar Mass: {stellar_mass}')\n",
    "print(f'DM Log Mass at 200 (whatever that means): {np.log10(791085293021575.5)}')\n",
    "\n",
    "# errors\n",
    "\n",
    "# upper and lower parameter values at 3sigma confidence\n",
    "print()\n",
    "uv3_vectors = [\n",
    "    samples.vector_at_upper_sigma(sigma=3.0) for samps in agg.values(\"samples\")\n",
    "]\n",
    "\n",
    "uv3_instances = [\n",
    "    samples.instance_at_upper_sigma(sigma=3.0) for samps in agg.values(\"samples\")\n",
    "]\n",
    "\n",
    "lv3_vectors = [\n",
    "    samples.vector_at_lower_sigma(sigma=3.0) for samps in agg.values(\"samples\")\n",
    "]\n",
    "\n",
    "lv3_instances = [\n",
    "    samples.instance_at_lower_sigma(sigma=3.0) for samps in agg.values(\"samples\")\n",
    "]\n",
    "\n",
    "print(\"Errors Lists: 3-sigma confidence \")\n",
    "print(f'Upper value: {uv3_vectors}')\n",
    "print(f'Lower value: {lv3_vectors}')\n",
    "#print(\"Errors Instances:\")\n",
    "#print(uv3_instances)\n",
    "#print(lv3_instances)\n",
    "\n",
    "ue3_vectors = [\n",
    "    samples.error_vector_at_upper_sigma(sigma=3.0) for samps in agg.values(\"samples\")\n",
    "]\n",
    "ue3_instances = [\n",
    "    samples.error_instance_at_upper_sigma(sigma=3.0) for samps in agg.values(\"samples\")\n",
    "]\n",
    "le3_vectors = [\n",
    "    samples.error_vector_at_lower_sigma(sigma=3.0) for samps in agg.values(\"samples\")\n",
    "]\n",
    "le3_instances = [\n",
    "    samples.error_instance_at_lower_sigma(sigma=3.0) for samps in agg.values(\"samples\")\n",
    "]\n",
    "\n",
    "print(f'Upper error: {ue3_vectors}')\n",
    "print(f'Lower error: {le3_vectors}')\n",
    "#print(\"Errors Instances: \")\n",
    "#print(ue3_instances)\n",
    "#print(le3_instances)\n"
   ]
  },
  {
   "cell_type": "code",
   "execution_count": 144,
   "id": "pointed-progress",
   "metadata": {},
   "outputs": [
    {
     "data": {
      "text/plain": [
       "[0.09308840995790608,\n",
       " 0.030222438158616072,\n",
       " -0.06817823985998944,\n",
       " 791085293021575.5,\n",
       " 0.06862340933761546,\n",
       " -0.15798177426472604,\n",
       " 0.05767596612560465,\n",
       " 0.7761391986370466]"
      ]
     },
     "execution_count": 144,
     "metadata": {},
     "output_type": "execute_result"
    }
   ],
   "source": [
    "samples.max_log_likelihood_vector"
   ]
  },
  {
   "cell_type": "code",
   "execution_count": 155,
   "id": "composed-hamburg",
   "metadata": {},
   "outputs": [
    {
     "name": "stdout",
     "output_type": "stream",
     "text": [
      "Model Results Summary: \n",
      "\n",
      "\n",
      "\n",
      "Bayesian Evidence                                                                         229.61959732\n",
      "Maximum Likelihood                                                                        276.48042397\n",
      "\n",
      "Maximum Log Likelihood Model:\n",
      "\n",
      "galaxies\n",
      "    lens\n",
      "        bulge\n",
      "            mass_to_light_ratio                                                           0.093\n",
      "        dark\n",
      "            centre\n",
      "                centre_0                                                                  0.030\n",
      "                centre_1                                                                  -0.068\n",
      "            mass_at_200                                                                   791085293021575.500\n",
      "    source\n",
      "        bulge\n",
      "            centre\n",
      "                centre_0                                                                  0.069\n",
      "                centre_1                                                                  -0.158\n",
      "            effective_radius                                                              0.058\n",
      "            intensity                                                                     0.776\n",
      "\n",
      "\n",
      "Summary (3.0 sigma limits):\n",
      "\n",
      "galaxies\n",
      "    lens\n",
      "        bulge\n",
      "            mass_to_light_ratio                                                           0.3346 (0.0698, 0.8173)\n",
      "        dark\n",
      "            centre\n",
      "                centre_0                                                                  0.0224 (0.0008, 0.0402)\n",
      "                centre_1                                                                  -0.0587 (-0.0790, -0.0333)\n",
      "            mass_at_200                                                                   2.7392e+14 (3.8483e+12, 8.7929e+14)\n",
      "    source\n",
      "        bulge\n",
      "            centre\n",
      "                centre_0                                                                  0.1017 (0.0536, 0.1971)\n",
      "                centre_1                                                                  -0.2562 (-0.4653, -0.1464)\n",
      "            effective_radius                                                              0.1457 (0.0541, 0.3497)\n",
      "            intensity                                                                     0.5578 (0.3028, 0.8510)\n",
      "\n",
      "\n",
      "Summary (1.0 sigma limits):\n",
      "\n",
      "galaxies\n",
      "    lens\n",
      "        bulge\n",
      "            mass_to_light_ratio                                                           0.3346 (0.2727, 0.4069)\n",
      "        dark\n",
      "            centre\n",
      "                centre_0                                                                  0.0224 (0.0190, 0.0257)\n",
      "                centre_1                                                                  -0.0587 (-0.0628, -0.0551)\n",
      "            mass_at_200                                                                   2.7392e+14 (1.8517e+14, 3.7359e+14)\n",
      "    source\n",
      "        bulge\n",
      "            centre\n",
      "                centre_0                                                                  0.1017 (0.0903, 0.1148)\n",
      "                centre_1                                                                  -0.2562 (-0.2869, -0.2290)\n",
      "            effective_radius                                                              0.1457 (0.1227, 0.1721)\n",
      "            intensity                                                                     0.5578 (0.5171, 0.6055)\n",
      "\n",
      "instances\n",
      "\n",
      "galaxies\n",
      "    lens\n",
      "        bulge\n",
      "            intensity                                                                     0.4589990245094409\n",
      "            effective_radius                                                              1.1540901740321086\n",
      "            sersic_index                                                                  3.4350260950409943 \n",
      "\n"
     ]
    }
   ],
   "source": [
    "results = agg.model_results\n",
    "print(\"Model Results Summary: \\n\")\n",
    "print(results, \"\\n\")"
   ]
  },
  {
   "cell_type": "code",
   "execution_count": 167,
   "id": "consecutive-expert",
   "metadata": {},
   "outputs": [
    {
     "name": "stdout",
     "output_type": "stream",
     "text": [
      "[[(0.3345886017502621, 0.48271814087369697), (0.02237127078147303, 0.021601974867799596), (-0.058660103479809426, 0.025317577487654425), (273916142996540.44, 605372505839173.5), (0.10169913431043351, 0.09539364078054852), (-0.25621064084627837, 0.2090990960955395), (0.14565381942150218, 0.20409101309696687), (0.5578162424122001, 0.2931916258457593)]]\n"
     ]
    }
   ],
   "source": [
    "ue3_vectors = [\n",
    "    samples.gaussian_priors_at_sigma(sigma=3.0) for samples in agg.values(\"samples\")\n",
    "]\n",
    "print(ue3_vectors)"
   ]
  },
  {
   "cell_type": "code",
   "execution_count": 170,
   "id": "continuing-drove",
   "metadata": {},
   "outputs": [
    {
     "data": {
      "text/plain": [
       "<GalaxyModel Galaxy (centre_0, GaussianPrior, mean = 0.0, sigma = 0.1), (centre_1, GaussianPrior, mean = 0.0, sigma = 0.1), (mass_to_light_ratio, LogUniformPrior, lower_limit = 1e-06, upper_limit = 1000000.0), (centre_0, GaussianPrior, mean = 0.0, sigma = 0.1), (centre_1, GaussianPrior, mean = 0.0, sigma = 0.1), (mass_at_200, LogUniformPrior, lower_limit = 100000000.0, upper_limit = 1000000000000000.0)>"
      ]
     },
     "execution_count": 170,
     "metadata": {},
     "output_type": "execute_result"
    }
   ],
   "source": []
  },
  {
   "cell_type": "code",
   "execution_count": null,
   "id": "utility-offset",
   "metadata": {},
   "outputs": [],
   "source": []
  }
 ],
 "metadata": {
  "kernelspec": {
   "display_name": "Python 3",
   "language": "python",
   "name": "python3"
  },
  "language_info": {
   "codemirror_mode": {
    "name": "ipython",
    "version": 3
   },
   "file_extension": ".py",
   "mimetype": "text/x-python",
   "name": "python",
   "nbconvert_exporter": "python",
   "pygments_lexer": "ipython3",
   "version": "3.7.3"
  }
 },
 "nbformat": 4,
 "nbformat_minor": 5
}
