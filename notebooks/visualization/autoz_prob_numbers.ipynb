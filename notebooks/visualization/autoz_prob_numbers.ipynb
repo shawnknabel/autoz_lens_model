{
 "cells": [
  {
   "cell_type": "markdown",
   "metadata": {},
   "source": [
    "# 06/15/2020 - This notebook looks at probability estimates of the redshift match success, calculated by autoz.\n",
    "\"PROB was determined using a tanh function of (CC_FOM - BB0)/BB1 scaled\n",
    "from zero to unity. For v26, BB0=3.70 and BB1=0.70. PROB > 0.9\n",
    "corresponds approximately to CC_FOM > 4.5.\""
   ]
  },
  {
   "cell_type": "code",
   "execution_count": 11,
   "metadata": {},
   "outputs": [],
   "source": [
    "# libraries\n",
    "import numpy as np\n",
    "import pandas as pd\n",
    "from astropy.io import fits\n",
    "import matplotlib.pyplot as plt\n",
    "import matplotlib.patches as patches\n",
    "%matplotlib inline"
   ]
  },
  {
   "cell_type": "code",
   "execution_count": 16,
   "metadata": {},
   "outputs": [],
   "source": [
    "# read in catalogs\n",
    "links = pd.read_csv('/home/shawn/Desktop/links_autoz/files/csv/links_latest.csv')\n",
    "links_knabel = pd.read_csv('/home/shawn/Desktop/links_autoz/files/csv/links_knabel_latest.csv')\n",
    "links_select= pd.read_csv('/home/shawn/Desktop/links_autoz/files/csv/links_select_latest.csv')\n",
    "links_knabel_select = pd.read_csv('/home/shawn/Desktop/links_autoz/files/csv/links_knabel_select_latest.csv')\n",
    "li = pd.read_csv('/home/shawn/Desktop/links_autoz/files/csv/li_latest.csv')\n",
    "li_select = pd.read_csv('/home/shawn/Desktop/links_autoz/files/csv/li_select_latest.csv')"
   ]
  },
  {
   "cell_type": "code",
   "execution_count": 19,
   "metadata": {},
   "outputs": [
    {
     "data": {
      "image/png": "[encoded data removed]",
      "text/plain": [
       "<Figure size 432x288 with 1 Axes>"
      ]
     },
     "metadata": {
      "needs_background": "light"
     },
     "output_type": "display_data"
    }
   ],
   "source": [
    "plt.hist([li.prob, links_knabel.prob, li.prob],\n",
    "        color = ['k','g','orange'],\n",
    "         label = ['Links', 'LinKS from Knabel-2020', 'Li'],\n",
    "         stacked = True)#, density = True)\n",
    "plt.legend()\n",
    "plt.xlabel('Probability')\n",
    "plt.ylabel('Count')\n",
    "plt.title('Redshift Success Probability')\n",
    "\n",
    "#plt.savefig('/home/shawn/Desktop/links_autoz/visuals/png/z_success_probability_all.png')"
   ]
  },
  {
   "cell_type": "code",
   "execution_count": 39,
   "metadata": {},
   "outputs": [
    {
     "data": {
      "text/plain": [
       "Text(0.5, 1.0, 'Redshift Success Probability')"
      ]
     },
     "execution_count": 39,
     "metadata": {},
     "output_type": "execute_result"
    },
    {
     "data": {
      "image/png": "[encoded data removed]",
      "text/plain": [
       "<Figure size 432x288 with 1 Axes>"
      ]
     },
     "metadata": {
      "needs_background": "light"
     },
     "output_type": "display_data"
    }
   ],
   "source": [
    "plt.hist([li_select.prob, links_knabel_select.prob, li_select.prob],\n",
    "        color = ['k','g','orange'],\n",
    "         label = ['Links', 'LinKS from Knabel-2020', 'Li'],\n",
    "         stacked = True,)#, density = True)\n",
    "plt.legend(),\n",
    "plt.xlabel('Probability')\n",
    "plt.ylabel('Count')\n",
    "plt.title('Redshift Success Probability')\n",
    "\n",
    "#plt.savefig('/home/shawn/Desktop/links_autoz/visuals/png/z_success_probability_select.png')"
   ]
  },
  {
   "cell_type": "code",
   "execution_count": 25,
   "metadata": {},
   "outputs": [
    {
     "name": "stdout",
     "output_type": "stream",
     "text": [
      "27 5 3\n",
      "5 2 0\n"
     ]
    }
   ],
   "source": [
    "print(len(links[links.prob < 0.9]),\n",
    "   len(links_knabel[links_knabel.prob < 0.9]),\n",
    "   len(li[li.prob < 0.9]))\n",
    "print(len(links_select[links_select.prob < 0.9]),\n",
    "   len(links_knabel_select[links_knabel_select.prob < 0.9]),\n",
    "   len(li_select[li_select.prob < 0.9]))"
   ]
  },
  {
   "cell_type": "markdown",
   "metadata": {},
   "source": [
    "### If we take a probability cutoff of 90%, we remove a further 27, 5, 3 candidates from full LinKS, LinKS (Knabel), and Li samples respectively.\n",
    "### The selected candidates remove 5, 2, and 0 respectively."
   ]
  },
  {
   "cell_type": "code",
   "execution_count": 28,
   "metadata": {},
   "outputs": [
    {
     "data": {
      "text/plain": [
       "0     1.000000\n",
       "1     1.000000\n",
       "2     1.000000\n",
       "3     0.999928\n",
       "4     0.999842\n",
       "5     1.000000\n",
       "6     1.000000\n",
       "7     1.000000\n",
       "8     1.000000\n",
       "9     0.999999\n",
       "10    1.000000\n",
       "11    0.864569\n",
       "12    0.710046\n",
       "13    0.996206\n",
       "14    1.000000\n",
       "15    1.000000\n",
       "16    1.000000\n",
       "17    1.000000\n",
       "18    1.000000\n",
       "19    0.999952\n",
       "20    0.989458\n",
       "21    0.998625\n",
       "22    0.366429\n",
       "23    0.963532\n",
       "24    0.999073\n",
       "25    0.106919\n",
       "26    0.999702\n",
       "27    1.000000\n",
       "28    0.999868\n",
       "29    0.993988\n",
       "30    1.000000\n",
       "31    0.999952\n",
       "32    0.960560\n",
       "33    0.999962\n",
       "34    1.000000\n",
       "35    1.000000\n",
       "36    1.000000\n",
       "37    0.999998\n",
       "38    0.792829\n",
       "39    0.999991\n",
       "40    0.999999\n",
       "41    0.999163\n",
       "42    0.999994\n",
       "43    1.000000\n",
       "44    0.999923\n",
       "45    0.999773\n",
       "46    0.949781\n",
       "47    0.983340\n",
       "48    0.999992\n",
       "49    0.987734\n",
       "50    1.000000\n",
       "51    0.999947\n",
       "52    1.000000\n",
       "53    1.000000\n",
       "54    0.971360\n",
       "55    1.000000\n",
       "Name: prob, dtype: float64"
      ]
     },
     "execution_count": 28,
     "metadata": {},
     "output_type": "execute_result"
    }
   ],
   "source": []
  },
  {
   "cell_type": "code",
   "execution_count": null,
   "metadata": {},
   "outputs": [],
   "source": []
  }
 ],
 "metadata": {
  "kernelspec": {
   "display_name": "Python 3",
   "language": "python",
   "name": "python3"
  },
  "language_info": {
   "codemirror_mode": {
    "name": "ipython",
    "version": 3
   },
   "file_extension": ".py",
   "mimetype": "text/x-python",
   "name": "python",
   "nbconvert_exporter": "python",
   "pygments_lexer": "ipython3",
   "version": "3.7.3"
  }
 },
 "nbformat": 4,
 "nbformat_minor": 4
}
