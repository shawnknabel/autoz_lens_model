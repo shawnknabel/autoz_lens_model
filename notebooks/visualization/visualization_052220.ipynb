{
 "cells": [
  {
   "cell_type": "markdown",
   "metadata": {},
   "source": [
    "# 05/22/20\n",
    "# This notebook plays with data visualization of LinKS/autoz catalogs."
   ]
  },
  {
   "cell_type": "code",
   "execution_count": 1,
   "metadata": {},
   "outputs": [],
   "source": [
    "import numpy as np\n",
    "import pandas as pd\n",
    "import matplotlib.pyplot as plt\n",
    "import matplotlib.lines as lines\n",
    "%matplotlib inline"
   ]
  },
  {
   "cell_type": "code",
   "execution_count": 2,
   "metadata": {},
   "outputs": [],
   "source": [
    "links = pd.read_csv('/home/shawn/Desktop/LinKS_autoz/files/csv/links_autoz052220.csv')\n",
    "links_identified = pd.read_csv('/home/shawn/Desktop/LinKS_autoz/files/csv/links_identified_autoz052220.csv')"
   ]
  },
  {
   "cell_type": "code",
   "execution_count": 3,
   "metadata": {},
   "outputs": [
    {
     "name": "stdout",
     "output_type": "stream",
     "text": [
      "10 9 8 2\n"
     ]
    }
   ],
   "source": [
    "# let's focus on the links_identified for now\n",
    "# create subclasses for each: PG + ELG (lens), ELG + PG, ELG + ELG, PG + PG\n",
    "lid = links_identified\n",
    "\n",
    "pg_elg1 = lid[(lid.z1 < lid.z2) & (lid.template1 >=40) & (lid.template1 <= 42) \n",
    "             & (lid.template2 > 42) & (lid.template2 <= 47)]\n",
    "pg_elg2 = lid[(lid.z1 > lid.z2) & (lid.template2 >=40) & (lid.template2 <= 42)\n",
    "             & (lid.template1 > 42) & (lid.template1 <= 47)]\n",
    "\n",
    "pg_elg = pd.concat([pg_elg1, pg_elg2])\n",
    "\n",
    "elg_pg1 = lid[(lid.z1 < lid.z2) & (lid.template2 >=40) & (lid.template2 <= 42)\n",
    "             & (lid.template1 > 42) & (lid.template1 <= 47)]\n",
    "elg_pg2 = lid[(lid.z1 > lid.z2) & (lid.template1 >=40) & (lid.template1 <= 42)\n",
    "             & (lid.template2 > 42) & (lid.template2 <= 47)]\n",
    "\n",
    "elg_pg = pd.concat([elg_pg1, elg_pg2])\n",
    "\n",
    "elg_elg = lid[(lid.template2 >= 40) & (lid.template2 <= 42) & (lid.template1 >=40 ) & (lid.template1 <= 42)]\n",
    "pg_pg = lid[(lid.template1 > 42) & (lid.template2 <= 47) & (lid.template2 > 42) & (lid.template2 <= 47)]\n",
    "\n",
    "\n",
    "print(len(pg_elg), len(elg_pg), len(elg_elg), len(pg_pg))"
   ]
  },
  {
   "cell_type": "code",
   "execution_count": 105,
   "metadata": {},
   "outputs": [
    {
     "data": {
      "text/plain": [
       "31"
      ]
     },
     "execution_count": 105,
     "metadata": {},
     "output_type": "execute_result"
    }
   ],
   "source": [
    "# PG + ELG : 10\n",
    "# ELG + PG : 9\n",
    "# ELG + ELG : 8\n",
    "# PG + PG: 2\n",
    "len(lid.dropna())\n",
    "# Matches number of 31 with autoz spec."
   ]
  },
  {
   "cell_type": "code",
   "execution_count": 104,
   "metadata": {},
   "outputs": [
    {
     "name": "stdout",
     "output_type": "stream",
     "text": [
      "51\n",
      "47\n",
      "544226.0     2\n",
      "3629152.0    2\n",
      "3911769.0    2\n",
      "3882191.0    2\n",
      "585328.0     1\n",
      "107432.0     1\n",
      "231281.0     1\n",
      "249703.0     1\n",
      "250289.0     1\n",
      "619609.0     1\n",
      "15790.0      1\n",
      "173045.0     1\n",
      "165871.0     1\n",
      "49576.0      1\n",
      "3899011.0    1\n",
      "197972.0     1\n",
      "64911.0      1\n",
      "136604.0     1\n",
      "3599660.0    1\n",
      "231282.0     1\n",
      "663364.0     1\n",
      "371400.0     1\n",
      "298994.0     1\n",
      "345423.0     1\n",
      "583457.0     1\n",
      "125077.0     1\n",
      "279505.0     1\n",
      "204703.0     1\n",
      "386188.0     1\n",
      "584826.0     1\n",
      "98583.0      1\n",
      "145278.0     1\n",
      "569270.0     1\n",
      "323152.0     1\n",
      "3575500.0    1\n",
      "561459.0     1\n",
      "124486.0     1\n",
      "561967.0     1\n",
      "568366.0     1\n",
      "92606.0      1\n",
      "3883690.0    1\n",
      "568617.0     1\n",
      "186586.0     1\n",
      "92918.0      1\n",
      "165409.0     1\n",
      "376338.0     1\n",
      "41064.0      1\n",
      "Name: GAMA_ID, dtype: int64\n",
      "47\n"
     ]
    }
   ],
   "source": [
    "# What about duplicates?\n",
    "print(len(lid.drop_duplicates()))\n",
    "# 51 (didn't drop any)\n",
    "\n",
    "# number of unique entries\n",
    "print(lid.GAMA_ID.nunique())\n",
    "\n",
    "# value counts shows duplicates\n",
    "print(lid.GAMA_ID.value_counts())\n",
    "# 544226, 3629152, 3911769, and 3882191 have duplicates"
   ]
  },
  {
   "cell_type": "code",
   "execution_count": 97,
   "metadata": {
    "scrolled": true
   },
   "outputs": [
    {
     "data": {
      "text/plain": [
       "47"
      ]
     },
     "execution_count": 97,
     "metadata": {},
     "output_type": "execute_result"
    }
   ],
   "source": []
  },
  {
   "cell_type": "code",
   "execution_count": 14,
   "metadata": {},
   "outputs": [
    {
     "data": {
      "text/plain": [
       "[Text(0, 0.5, 'z1'),\n",
       " Text(0.5, 0, 'z2'),\n",
       " Text(0.5, 1.0, 'LinKS/GAMA Candidates Templates')]"
      ]
     },
     "execution_count": 14,
     "metadata": {},
     "output_type": "execute_result"
    },
    {
     "data": {
      "image/png": "[encoded data removed]",
      "text/plain": [
       "<Figure size 432x288 with 1 Axes>"
      ]
     },
     "metadata": {
      "needs_background": "light"
     },
     "output_type": "display_data"
    }
   ],
   "source": [
    "# Plot z1 to z2\n",
    "fig, ax = plt.subplots()\n",
    "ax.plot(pg_elg.z1, pg_elg.z2, 'ro', label = 'PG + ELG')\n",
    "ax.plot(elg_pg.z1, elg_pg.z2, 'bx', label = 'ELG + PG')\n",
    "ax.plot(elg_elg.z1, elg_elg.z2, 'y*', label = 'ELG + ELG', alpha = 0.75)\n",
    "ax.plot(pg_pg.z1, pg_pg.z2, 'g>', label = 'PG + PG')\n",
    "ax.set_xlim(-0.05, 1.05)\n",
    "ax.set_ylim(-0.05, 1.05)\n",
    "ax.set_aspect(1)\n",
    "ax.legend()\n",
    "ax.set(title = 'LinKS/GAMA Candidates Templates',\n",
    "      ylabel = 'z1',\n",
    "      xlabel = 'z2')"
   ]
  },
  {
   "cell_type": "code",
   "execution_count": 109,
   "metadata": {},
   "outputs": [
    {
     "data": {
      "image/png": "[encoded data removed]",
      "text/plain": [
       "<Figure size 576x432 with 1 Axes>"
      ]
     },
     "metadata": {
      "needs_background": "light"
     },
     "output_type": "display_data"
    }
   ],
   "source": [
    "# Plot sigma1 vs sigma2 for all candidates in links_identified\n",
    "\n",
    "\n",
    "fig, ax = plt.subplots(figsize=(8,6)) # square dimensions\n",
    "\n",
    "\n",
    "ax.plot(x, x, 'k--') # line of slope 1\n",
    "ax.axvline(x = 8, color = 'k')\n",
    "ax.axhline(y = 4, color = 'k')\n",
    "# data\n",
    "ax.plot(pg_elg.sigma1, pg_elg.sigma2, 'ro', label = 'PG + ELG')\n",
    "ax.plot(elg_pg.sigma1, elg_pg.sigma2, 'bx', label = 'ELG + PG')\n",
    "ax.plot(elg_elg.sigma1, elg_elg.sigma2, 'y*', label = 'ELG + ELG', alpha = 0.75)\n",
    "ax.plot(pg_pg.sigma1, pg_pg.sigma2, 'g>', label = 'PG + PG')\n",
    "\n",
    "# axis settings\n",
    "ax.set_xlim(3.5, 15)\n",
    "ax.set_xticks(np.linspace(4, 15, 12))\n",
    "ax.set_ylim(2.5, 8)\n",
    "ax.set_aspect('equal')\n",
    "ax.set_ylabel('$\\sigma_2$', fontsize = 14)\n",
    "ax.set_xlabel('$\\sigma_1$', fontsize = 14)\n",
    "\n",
    "# questions for Benne\n",
    "ax.text(4, 7.5, 'What makes \"not shit\"?')\n",
    "ax.text(4, 6, 'ratio $\\sigma_2/\\sigma_1$ ?')\n",
    "ax.text(6, 3.5, '$\\sigma_2$ > # ?')\n",
    "ax.text(8.25, 6, '$\\sigma_1$ > # ?')\n",
    "\n",
    "ax.legend()\n",
    "ax.set(title = 'LinKS/GAMA Candidates Templates')\n",
    "\n",
    "#plt.savefig('/home/shawn/Desktop/LinKS_autoz/visuals/png/sigma_comparison_052220.png')\n",
    "\n",
    "plt.show()"
   ]
  },
  {
   "cell_type": "code",
   "execution_count": 70,
   "metadata": {},
   "outputs": [
    {
     "data": {
      "text/plain": [
       "[<matplotlib.lines.Line2D at 0x7f6fd2066190>]"
      ]
     },
     "execution_count": 70,
     "metadata": {},
     "output_type": "execute_result"
    },
    {
     "data": {
      "image/png": "[encoded data removed]",
      "text/plain": [
       "<Figure size 576x576 with 1 Axes>"
      ]
     },
     "metadata": {
      "needs_background": "light"
     },
     "output_type": "display_data"
    }
   ],
   "source": [
    "fig, ax = plt.subplots(figsize=(8,8)) # square dimensions\n",
    "\n",
    "\n",
    "#ax.set_xlim(0,0.8)\n",
    "#ax.set_ylim(0,0.8)\n",
    "#X = spec.z1\n",
    "#Y = spec.z2\n",
    "ax.plot(x, x, 'k-') # line of slope 1\n",
    "ax.plot(x, -x + 6, 'k-')"
   ]
  },
  {
   "cell_type": "code",
   "execution_count": null,
   "metadata": {},
   "outputs": [],
   "source": []
  }
 ],
 "metadata": {
  "kernelspec": {
   "display_name": "Python 3",
   "language": "python",
   "name": "python3"
  },
  "language_info": {
   "codemirror_mode": {
    "name": "ipython",
    "version": 3
   },
   "file_extension": ".py",
   "mimetype": "text/x-python",
   "name": "python",
   "nbconvert_exporter": "python",
   "pygments_lexer": "ipython3",
   "version": "3.7.3"
  }
 },
 "nbformat": 4,
 "nbformat_minor": 2
}
