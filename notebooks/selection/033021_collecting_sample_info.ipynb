{
 "cells": [
  {
   "cell_type": "markdown",
   "id": "undefined-turtle",
   "metadata": {},
   "source": [
    "# 3/30/21 - This notebook collects necessary info on 42 samples for the HST proposal due 4/9/21 with Benne.\n",
    "### ID, RA, DEC, mag-r"
   ]
  },
  {
   "cell_type": "code",
   "execution_count": 4,
   "id": "given-october",
   "metadata": {},
   "outputs": [],
   "source": [
    "%matplotlib inline\n",
    "import numpy as np\n",
    "import pandas as pd\n",
    "from astropy.io import fits\n",
    "import matplotlib.pyplot as plt\n",
    "\n",
    "from pyprojroot import here\n",
    "\n",
    "autoz_path = str(here())\n",
    "file_path = f'{autoz_path}/files/'\n",
    "csv_path = f'{file_path}csv/'\n",
    "fits_path = f'{file_path}fits/'"
   ]
  },
  {
   "cell_type": "code",
   "execution_count": 5,
   "id": "anticipated-simon",
   "metadata": {},
   "outputs": [
    {
     "name": "stdout",
     "output_type": "stream",
     "text": [
      "Index(['Unnamed: 0', 'DEC', 'GAMA_ID', 'ID', 'KIDS_ID', 'P1', 'P3', 'R', 'RA',\n",
      "       'Unnamed: 0_x', 'Unnamed: 0_y', 'cnn_probability',\n",
      "       'corrected_stellar_mass', 'dlens', 'dsource', 'error',\n",
      "       'lambdar_log_mstar', 'lambdar_log_mstar_error', 'lambdar_mstar', 'mag',\n",
      "       'mag_err', 'name', 'normalized_score', 'num_0', 'prob', 'probability',\n",
      "       'rms', 's*p/10', 'score', 'sigma1', 'sigma2', 'sigma3', 'sigma4',\n",
      "       'sigma_lens', 'sigma_source', 'template1', 'template2', 'type',\n",
      "       'type_number', 'z', 'z1', 'z2', 'z_max', 'z_min', 'zlens', 'zphot',\n",
      "       'zsource'],\n",
      "      dtype='object')\n"
     ]
    }
   ],
   "source": [
    "# load sample csv\n",
    "samples = pd.read_csv(f'{csv_path}latest/all_samples_latest.csv')\n",
    "print(samples.columns)"
   ]
  },
  {
   "cell_type": "code",
   "execution_count": 6,
   "id": "conceptual-rings",
   "metadata": {},
   "outputs": [
    {
     "name": "stdout",
     "output_type": "stream",
     "text": [
      "        GAMA_ID    R_PETRO\n",
      "0          6802  18.622816\n",
      "1          6803  19.219088\n",
      "2          6804  19.341200\n",
      "3          6805  19.301096\n",
      "4          6806  18.544878\n",
      "...         ...        ...\n",
      "221368  4345061  20.909586\n",
      "221369  4345978  20.622234\n",
      "221370  4347483  20.504171\n",
      "221371  4348349  18.312876\n",
      "221372  4349040  19.821329\n",
      "\n",
      "[221373 rows x 2 columns]\n"
     ]
    }
   ],
   "source": [
    "# load sersic cat sdss?\n",
    "hdu = fits.open(f'{fits_path}SersicCatSDSS.fits')[1].data\n",
    "#print(hdu.columns)\n",
    "hdu_byte_swap=hdu.byteswap().newbyteorder()\n",
    "sersic = pd.DataFrame(hdu_byte_swap[:]).rename(columns={'CATAID':'GAMA_ID'})[['GAMA_ID', 'R_PETRO']]\n",
    "print(sersic)\n"
   ]
  },
  {
   "cell_type": "code",
   "execution_count": 7,
   "id": "freelance-charm",
   "metadata": {},
   "outputs": [
    {
     "name": "stdout",
     "output_type": "stream",
     "text": [
      "    GAMA_ID          RA       DEC    R_PETRO\n",
      "0    600305  134.759160  0.238140  17.871542\n",
      "1    419067  138.619740  2.634770  17.614162\n",
      "2    387244  135.569170  2.364950  17.905178\n",
      "3   3611088  135.380050 -1.298310  18.307632\n",
      "4    373093  139.306370  1.197760  18.967205\n",
      "5    585328  182.368380 -0.008890  17.752956\n",
      "6    561058  182.560300 -0.495400  18.850861\n",
      "7     84425  177.774780  0.427910  18.513157\n",
      "8    165293  180.601500 -2.746420  18.478994\n",
      "9    559216  176.116240 -0.619020  18.452131\n",
      "10   272448  179.419530  1.423090  18.668146\n",
      "11   544226  214.423360 -0.892470  18.343842\n",
      "12    62734  213.562060 -0.241680  18.316183\n",
      "13   513159  221.916810 -0.999420  19.047604\n",
      "14   593219  215.792220 -0.094550  19.079947\n",
      "15   617569  212.160780  0.240100  18.633877\n",
      "16   342310  215.081010  2.171340  18.978340\n",
      "17   250289  214.367080  1.993110  18.974998\n",
      "18   323152  130.546430  1.643250  18.576210\n",
      "19  3575500  129.232650 -1.575120  18.352379\n",
      "20   345595  130.022080  1.905410  18.298109\n",
      "21   145203  183.370600 -1.384070  18.978010\n",
      "22   611334  184.427660  0.339150  18.409649\n",
      "23   184530  176.709610 -1.438420  18.554363\n",
      "24   262836  221.405360  2.313970  19.037022\n",
      "25   318892  212.777470  1.969600  19.272856\n",
      "26  3886216  136.096200 -1.584510  18.832827\n",
      "27   138582  183.140090 -1.827000  18.391932\n",
      "28   238892  215.568280  1.560820  19.014168\n",
      "29   251874  220.779510  1.972890  19.270910\n",
      "30   592910  214.630860 -0.014640  18.233583\n",
      "31  3629152  135.888640 -0.974870  18.996344\n",
      "32  3891172  139.227250 -1.545190  18.953239\n",
      "33  3896212  129.805970 -0.830220  18.963739\n",
      "34   262874  221.610670  2.223890  19.191019\n",
      "35   296451  211.853990  1.555360  18.686167\n",
      "36    77312  212.845280  0.023370  18.975952\n",
      "37    78854  218.867580  0.058290  19.668423\n",
      "38   508050  215.573360 -1.708790  19.395672\n",
      "39    16104  217.678198  0.744506  18.947100\n",
      "40    39881  178.561221 -0.789145  19.082224\n",
      "41   569641  219.729690 -0.597266  18.241184\n"
     ]
    }
   ],
   "source": [
    "# Take R_PETRO as the r-band Petrosian magnitude. (http://skyserver.sdss.org/dr7/en/help/docs/algorithm.asp?key=mag_petro)\n",
    "samples_details = pd.merge(samples, sersic, how='left', on='GAMA_ID')[ ['GAMA_ID', 'RA', 'DEC', 'R_PETRO']]\n",
    "samples_details.GAMA_ID = samples_details.GAMA_ID.astype(int)\n",
    "print(samples_details)"
   ]
  },
  {
   "cell_type": "code",
   "execution_count": 8,
   "id": "applicable-development",
   "metadata": {},
   "outputs": [],
   "source": [
    "# save csv\n",
    "samples_details.to_csv(f'{csv_path}kids_lenses_details_hst_proposal_033021.csv')"
   ]
  },
  {
   "cell_type": "code",
   "execution_count": 14,
   "id": "perceived-northeast",
   "metadata": {},
   "outputs": [
    {
     "data": {
      "text/plain": [
       "Text(0, 0.5, 'Count')"
      ]
     },
     "execution_count": 14,
     "metadata": {},
     "output_type": "execute_result"
    },
    {
     "data": {
      "image/png": "[encoded data removed]",
      "text/plain": [
       "<Figure size 432x288 with 1 Axes>"
      ]
     },
     "metadata": {
      "needs_background": "light"
     },
     "output_type": "display_data"
    }
   ],
   "source": [
    "plt.hist(samples.zsource, bins=12)\n",
    "plt.title('Source Redshifts')\n",
    "plt.xlabel('z')\n",
    "plt.xlim(0.3, 0.9)\n",
    "plt.ylabel('Count')"
   ]
  },
  {
   "cell_type": "code",
   "execution_count": 13,
   "id": "superb-invasion",
   "metadata": {},
   "outputs": [
    {
     "data": {
      "text/plain": [
       "0.5599999999999999"
      ]
     },
     "execution_count": 13,
     "metadata": {},
     "output_type": "execute_result"
    }
   ],
   "source": [
    "0.4*1.4"
   ]
  },
  {
   "cell_type": "code",
   "execution_count": 4,
   "id": "domestic-matthew",
   "metadata": {},
   "outputs": [
    {
     "data": {
      "text/plain": [
       "array([ 8530.6,  9186.8,  9843. , 10499.2, 11155.4, 11811.6, 12467.8])"
      ]
     },
     "execution_count": 4,
     "metadata": {},
     "output_type": "execute_result"
    }
   ],
   "source": [
    "# H-alpha lines\n",
    "import numpy as np\n",
    "z=np.array([0.3, 0.4, 0.5, 0.6, 0.7, 0.8, 0.9])\n",
    "6562*(1+z)"
   ]
  },
  {
   "cell_type": "code",
   "execution_count": null,
   "id": "ranking-delicious",
   "metadata": {},
   "outputs": [],
   "source": []
  }
 ],
 "metadata": {
  "kernelspec": {
   "display_name": "Python 3",
   "language": "python",
   "name": "python3"
  },
  "language_info": {
   "codemirror_mode": {
    "name": "ipython",
    "version": 3
   },
   "file_extension": ".py",
   "mimetype": "text/x-python",
   "name": "python",
   "nbconvert_exporter": "python",
   "pygments_lexer": "ipython3",
   "version": "3.7.3"
  }
 },
 "nbformat": 4,
 "nbformat_minor": 5
}
