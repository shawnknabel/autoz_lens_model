{
 "cells": [
  {
   "cell_type": "markdown",
   "id": "decent-drain",
   "metadata": {},
   "source": [
    "# 4/6/21 -  HST proposal taking signal to noise"
   ]
  },
  {
   "cell_type": "code",
   "execution_count": 3,
   "id": "advanced-traffic",
   "metadata": {},
   "outputs": [],
   "source": [
    "%matplotlib inline\n",
    "import numpy as np\n",
    "import pandas as pd\n",
    "from astropy.io import fits\n",
    "import matplotlib.pyplot as plt\n",
    "\n",
    "from pyprojroot import here\n",
    "\n",
    "autoz_path = str(here())\n",
    "file_path = f'{autoz_path}/files/'\n",
    "csv_path = f'{file_path}/csv/'\n",
    "fits_path = f'{file_path}/fits/'\n",
    "visuals_path = f'{autoz_path}/visuals/'\n",
    "png_path = f'{visuals_path}/png/'\n",
    "pdf_path = f'{visuals_path}/pdf/'"
   ]
  },
  {
   "cell_type": "code",
   "execution_count": 5,
   "id": "interested-origin",
   "metadata": {},
   "outputs": [
    {
     "name": "stdout",
     "output_type": "stream",
     "text": [
      "58.333333333333336 60.0\n"
     ]
    }
   ],
   "source": [
    "S_N = [20, 60, 60, 50, 60, 35, 100, 60, 100, 100, 35, 20]\n",
    "print(np.mean(S_N), np.median(S_N))"
   ]
  },
  {
   "cell_type": "code",
   "execution_count": null,
   "id": "identical-thanks",
   "metadata": {},
   "outputs": [],
   "source": []
  }
 ],
 "metadata": {
  "kernelspec": {
   "display_name": "Python 3",
   "language": "python",
   "name": "python3"
  },
  "language_info": {
   "codemirror_mode": {
    "name": "ipython",
    "version": 3
   },
   "file_extension": ".py",
   "mimetype": "text/x-python",
   "name": "python",
   "nbconvert_exporter": "python",
   "pygments_lexer": "ipython3",
   "version": "3.7.3"
  }
 },
 "nbformat": 4,
 "nbformat_minor": 5
}
