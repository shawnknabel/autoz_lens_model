{
 "cells": [
  {
   "cell_type": "markdown",
   "metadata": {},
   "source": [
    "# 06/12/20 - This notebook adds autoz data to li and zoo catalogs."
   ]
  },
  {
   "cell_type": "code",
   "execution_count": 39,
   "metadata": {},
   "outputs": [],
   "source": [
    "# libraries\n",
    "\n",
    "import numpy as np\n",
    "import pandas as pd\n",
    "from astropy.io import fits\n",
    "import matplotlib.pyplot as plt\n",
    "%matplotlib inline"
   ]
  },
  {
   "cell_type": "code",
   "execution_count": 51,
   "metadata": {},
   "outputs": [],
   "source": [
    "zoo = pd.read_csv('/home/shawn/Desktop/gravitational_lensing_research/Lens_Project_Files/zoo_latest.csv')\n",
    "li = pd.read_csv('/home/shawn/Desktop/links_autoz/files/csv/li_latest.csv')"
   ]
  },
  {
   "cell_type": "code",
   "execution_count": 41,
   "metadata": {},
   "outputs": [
    {
     "name": "stdout",
     "output_type": "stream",
     "text": [
      "ColDefs(\n",
      "    name = 'SPECID'; format = '15A'\n",
      "    name = 'RA'; format = 'D'; unit = 'deg'\n",
      "    name = 'DEC'; format = 'D'; unit = 'deg'\n",
      "    name = 'CATAID'; format = 'J'; null = -2147483648\n",
      "    name = 'COUNT_BADPIXEL'; format = 'I'; null = -32768\n",
      "    name = 'COUNT_HIGHVAL'; format = 'I'; null = -32768\n",
      "    name = 'COUNT_LOWVAL'; format = 'I'; null = -32768\n",
      "    name = 'RMS_MAD_RATIO'; format = 'E'\n",
      "    name = 'Z'; format = 'E'\n",
      "    name = 'CC_SIGMA'; format = 'E'\n",
      "    name = 'TEMPLATE'; format = 'I'; null = -32768\n",
      "    name = 'Z2'; format = 'E'\n",
      "    name = 'CC_SIGMA2'; format = 'E'\n",
      "    name = 'TEMPLATE2'; format = 'I'; null = -32768\n",
      "    name = 'CC_SIGMA3'; format = 'E'\n",
      "    name = 'CC_SIGMA4'; format = 'E'\n",
      "    name = 'CC_SIGMA1TO234'; format = 'E'\n",
      "    name = 'CC_FOM'; format = 'E'\n",
      "    name = 'PROB'; format = 'E'\n",
      "    name = 'VEL_ERR'; format = 'E'; unit = 'km/s'\n",
      ")\n",
      "Index(['GAMA_ID', 'z1', 'sigma1', 'template1', 'z2', 'sigma2', 'template2',\n",
      "       'sigma3', 'sigma4', 'R', 'prob', 'error'],\n",
      "      dtype='object')\n",
      "166332\n"
     ]
    }
   ],
   "source": [
    "# load in fits file, extract as table, make dataframe\n",
    "\n",
    "autozfits = fits.open('/home/shawn/Desktop/links_autoz/files/fits/autoz.fits')  # open a FITS file\n",
    "autozfits.verify('fix')\n",
    "autoz = autozfits[1].data  # assume the first extension is a table\n",
    "print(autoz.columns)\n",
    "\n",
    "# create series for each column\n",
    "GAMA_ID = autoz.CATAID\n",
    "# first redshift peak and template\n",
    "z1 = autoz.Z\n",
    "sigma1 = autoz.CC_SIGMA\n",
    "template1 = autoz.TEMPLATE\n",
    "# second redshift peak and template\n",
    "z2 = autoz.Z2\n",
    "sigma2 = autoz.CC_SIGMA2\n",
    "template2 = autoz.TEMPLATE2\n",
    "# third and fourth cc sigmas\n",
    "sigma3 = autoz.CC_SIGMA3\n",
    "sigma4 = autoz.CC_SIGMA3\n",
    "# probability and error (Uncertainty in redshift, given as a velocity, delta c ln(1+z))\n",
    "prob = autoz.PROB\n",
    "error = autoz.VEL_ERR\n",
    "# calculate R as ratio of sigma2 to root of the mean of squares of sigma3 and 4\n",
    "R = sigma2/(np.sqrt((sigma3**2)/2 + (sigma4**2)/2))\n",
    "\n",
    "# zip series to array\n",
    "autoz = list(zip(GAMA_ID, z1, sigma1, template1, z2, \n",
    "                 sigma2, template2, sigma3, sigma4, R, prob, error))\n",
    "\n",
    "# create dataframe\n",
    "autoz = pd.DataFrame(autoz, columns = ['GAMA_ID', \n",
    "                                       'z1', \n",
    "                                       'sigma1', \n",
    "                                       'template1', \n",
    "                                       'z2', \n",
    "                                       'sigma2', \n",
    "                                       'template2',\n",
    "                                       'sigma3',\n",
    "                                       'sigma4',\n",
    "                                       'R',\n",
    "                                       'prob', \n",
    "                                       'error'])\n",
    "\n",
    "autoz['template1'] = autoz.template1.astype(int)\n",
    "autoz['template2'] = autoz.template2.astype(int)\n",
    "autoz['GAMA_ID'] = autoz.GAMA_ID.astype(int)\n",
    "\n",
    "print(autoz.columns)\n",
    "print(len(autoz))"
   ]
  },
  {
   "cell_type": "code",
   "execution_count": 42,
   "metadata": {},
   "outputs": [
    {
     "data": {
      "text/plain": [
       "dtype('int64')"
      ]
     },
     "execution_count": 42,
     "metadata": {},
     "output_type": "execute_result"
    }
   ],
   "source": [
    "li.GAMA_ID.dtype"
   ]
  },
  {
   "cell_type": "code",
   "execution_count": 43,
   "metadata": {},
   "outputs": [],
   "source": [
    "# save autoz to csv so i don't have to do this every time\n",
    "autoz.to_csv('/home/shawn/Desktop/links_autoz/files/csv/autoz.csv')"
   ]
  },
  {
   "cell_type": "code",
   "execution_count": 74,
   "metadata": {},
   "outputs": [],
   "source": [
    "# merger both catalogs\n",
    "\n",
    "li_autoz = pd.merge(li, autoz, on = 'GAMA_ID', how = 'inner')\n",
    "zoo_autoz = pd.merge(zoo, autoz, on = 'GAMA_ID', how = 'inner')"
   ]
  },
  {
   "cell_type": "code",
   "execution_count": 76,
   "metadata": {},
   "outputs": [
    {
     "data": {
      "text/plain": [
       "Index(['name', 'KIDS_ID', 'RA', 'DEC', 'mag', 'mag_err', 'zphot', 'z_min',\n",
       "       'z_max', 'score', 'rms', 'probability', 's*p/10', 'num_0', 'GAMA_ID',\n",
       "       'Z', 'STELLAR_MASS', 'f_dm', 'theta_e_Ang_slide', 'D1', 'D2', 'z1',\n",
       "       'sigma1', 'template1', 'z2', 'sigma2', 'template2', 'sigma3', 'sigma4',\n",
       "       'R', 'prob', 'error'],\n",
       "      dtype='object')"
      ]
     },
     "execution_count": 76,
     "metadata": {},
     "output_type": "execute_result"
    }
   ],
   "source": [
    "#li_autoz = li_autoz.drop(columns = {'Unnamed: 0'})\n",
    "#li_autoz = li_autoz.reset_index()\n",
    "#li_autoz = li_autoz.drop(columns = {'index'})\n",
    "li_autoz.columns"
   ]
  },
  {
   "cell_type": "code",
   "execution_count": 81,
   "metadata": {},
   "outputs": [
    {
     "data": {
      "text/plain": [
       "Index(['GAMA_ID', 'RA', 'DEC', 'LENS_SCORE', 'STELLAR_MASS', 'Z', 'TOTAL_MASS',\n",
       "       'theta_e', 'theta_e_H0', 'theta_e_Ang', 'f_dm', 'theta_e_H0_slide',\n",
       "       'theta_e_Ang_slide', 'z1', 'sigma1', 'template1', 'z2', 'sigma2',\n",
       "       'template2', 'sigma3', 'sigma4', 'R', 'prob', 'error'],\n",
       "      dtype='object')"
      ]
     },
     "execution_count": 81,
     "metadata": {},
     "output_type": "execute_result"
    }
   ],
   "source": [
    "#zoo_autoz = zoo_autoz.drop(columns = {'Unnamed: 0.1', 'Unnamed: 0.1.1', 'Unnamed: 0.1.1.1'})\n",
    "#zoo_autoz = zoo_autoz.reset_index()\n",
    "#zoo_autoz = zoo_autoz.drop(columns = {'index'})\n",
    "zoo_autoz.columns\n"
   ]
  },
  {
   "cell_type": "code",
   "execution_count": 91,
   "metadata": {},
   "outputs": [
    {
     "data": {
      "text/plain": [
       "32"
      ]
     },
     "execution_count": 91,
     "metadata": {},
     "output_type": "execute_result"
    }
   ],
   "source": [
    "li_autoz.GAMA_ID.nunique()"
   ]
  },
  {
   "cell_type": "code",
   "execution_count": 83,
   "metadata": {},
   "outputs": [
    {
     "data": {
      "text/plain": [
       "1"
      ]
     },
     "execution_count": 83,
     "metadata": {},
     "output_type": "execute_result"
    }
   ],
   "source": [
    "len(zoo_autoz)"
   ]
  },
  {
   "cell_type": "code",
   "execution_count": 99,
   "metadata": {},
   "outputs": [],
   "source": [
    "# save to csv's\n",
    "#li_autoz.to_csv('/home/shawn/Desktop/links_autoz/files/csv/li_autoz_061220.csv')\n",
    "#li_autoz.to_csv('/home/shawn/Desktop/links_autoz/files/csv/li_autoz_latest.csv')\n",
    "#zoo_autoz.to_csv('/home/shawn/Desktop/links_autoz/files/csv/zoo_autoz_061220.csv')\n",
    "#zoo_autoz.to_csv('/home/shawn/Desktop/links_autoz/files/csv/zoo_autoz_latest.csv')"
   ]
  },
  {
   "cell_type": "markdown",
   "metadata": {},
   "source": [
    "# There are 32 unique Li candidates, and 1 Zoo that have Autoz spectra."
   ]
  },
  {
   "cell_type": "code",
   "execution_count": 94,
   "metadata": {},
   "outputs": [
    {
     "data": {
      "image/png": "[encoded data removed]",
      "text/plain": [
       "<Figure size 432x288 with 1 Axes>"
      ]
     },
     "metadata": {
      "needs_background": "light"
     },
     "output_type": "display_data"
    }
   ],
   "source": [
    "# Templates 40-42 are PG and 43-47 are ELG\n",
    "# We want candidates with Z = z1 = 40-42 and z2 = 43-47 or Z = z2 = 40-42 and z1 = 43-47\n",
    "\n",
    "# initial plot to see li with templates\n",
    "\n",
    "pg_elg1 = li_autoz[(li_autoz.z1 < li_autoz.z2) & (li_autoz.template1 >=40) & (li_autoz.template1 <= 42) \n",
    "             & (li_autoz.template2 > 42) & (li_autoz.template2 <= 47)]\n",
    "pg_elg2 = li_autoz[(li_autoz.z1 > li_autoz.z2) & (li_autoz.template2 >=40) & (li_autoz.template2 <= 42)\n",
    "             & (li_autoz.template1 > 42) & (li_autoz.template1 <= 47)]\n",
    "\n",
    "pg_elg = pd.concat([pg_elg1, pg_elg2])\n",
    "\n",
    "elg_pg1 = li_autoz[(li_autoz.z1 < li_autoz.z2) & (li_autoz.template2 >=40) & (li_autoz.template2 <= 42)\n",
    "             & (li_autoz.template1 > 42) & (li_autoz.template1 <= 47)]\n",
    "elg_pg2 = li_autoz[(li_autoz.z1 > li_autoz.z2) & (li_autoz.template1 >=40) & (li_autoz.template1 <= 42)\n",
    "             & (li_autoz.template2 > 42) & (li_autoz.template2 <= 47)]\n",
    "\n",
    "elg_pg = pd.concat([elg_pg1, elg_pg2])\n",
    "\n",
    "elg_elg = li_autoz[(li_autoz.template2 >= 40) & (li_autoz.template2 <= 42) & (li_autoz.template1 >=40 ) & (li_autoz.template1 <= 42)]\n",
    "pg_pg = li_autoz[(li_autoz.template1 > 42) & (li_autoz.template2 <= 47) & (li_autoz.template2 > 42) & (li_autoz.template2 <= 47)]\n",
    "\n",
    "#plot\n",
    "fig, ax = plt.subplots()\n",
    "ax.plot(pg_elg.z1, pg_elg.z2, 'ro', label = 'PG + ELG')\n",
    "ax.plot(elg_pg.z1, elg_pg.z2, 'bx', label = 'ELG + PG')\n",
    "ax.plot(elg_elg.z1, elg_elg.z2, 'y*', label = 'ELG + ELG', alpha = 0.75)\n",
    "ax.plot(pg_pg.z1, pg_pg.z2, 'g>', label = 'PG + PG')\n",
    "ax.set_xlim(-0.05, 1.05)\n",
    "ax.set_ylim(-0.05, 1.05)\n",
    "ax.set_aspect(1)\n",
    "ax.legend()\n",
    "ax.set(title = 'Li Candidates Templates',\n",
    "      ylabel = 'z1',\n",
    "      xlabel = 'z2')\n",
    "\n",
    "#plt.savefig('/home/shawn/Desktop/links_autoz/visuals/png/li_candidate_templates.png')# "
   ]
  },
  {
   "cell_type": "code",
   "execution_count": 95,
   "metadata": {},
   "outputs": [
    {
     "data": {
      "text/plain": [
       "[Text(0, 0.5, 'z1'),\n",
       " Text(0.5, 0, 'z2'),\n",
       " Text(0.5, 1.0, 'Zoo Candidates Templates')]"
      ]
     },
     "execution_count": 95,
     "metadata": {},
     "output_type": "execute_result"
    },
    {
     "data": {
      "image/png": "[encoded data removed]",
      "text/plain": [
       "<Figure size 432x288 with 1 Axes>"
      ]
     },
     "metadata": {
      "needs_background": "light"
     },
     "output_type": "display_data"
    }
   ],
   "source": [
    "# Templates 40-42 are PG and 43-47 are ELG\n",
    "# We want candidates with Z = z1 = 40-42 and z2 = 43-47 or Z = z2 = 40-42 and z1 = 43-47\n",
    "\n",
    "# initial plot to see zoo with templates\n",
    "\n",
    "pg_elg1 = zoo_autoz[(zoo_autoz.z1 < zoo_autoz.z2) & (zoo_autoz.template1 >=40) & (zoo_autoz.template1 <= 42) \n",
    "             & (zoo_autoz.template2 > 42) & (zoo_autoz.template2 <= 47)]\n",
    "pg_elg2 = zoo_autoz[(zoo_autoz.z1 > zoo_autoz.z2) & (zoo_autoz.template2 >=40) & (zoo_autoz.template2 <= 42)\n",
    "             & (zoo_autoz.template1 > 42) & (zoo_autoz.template1 <= 47)]\n",
    "\n",
    "pg_elg = pd.concat([pg_elg1, pg_elg2])\n",
    "\n",
    "elg_pg1 = zoo_autoz[(zoo_autoz.z1 < zoo_autoz.z2) & (zoo_autoz.template2 >=40) & (zoo_autoz.template2 <= 42)\n",
    "             & (zoo_autoz.template1 > 42) & (zoo_autoz.template1 <= 47)]\n",
    "elg_pg2 = zoo_autoz[(zoo_autoz.z1 > zoo_autoz.z2) & (zoo_autoz.template1 >=40) & (zoo_autoz.template1 <= 42)\n",
    "             & (zoo_autoz.template2 > 42) & (zoo_autoz.template2 <= 47)]\n",
    "\n",
    "elg_pg = pd.concat([elg_pg1, elg_pg2])\n",
    "\n",
    "elg_elg = zoo_autoz[(zoo_autoz.template2 >= 40) & (zoo_autoz.template2 <= 42) & (zoo_autoz.template1 >=40 ) & (zoo_autoz.template1 <= 42)]\n",
    "pg_pg = zoo_autoz[(zoo_autoz.template1 > 42) & (zoo_autoz.template2 <= 47) & (zoo_autoz.template2 > 42) & (zoo_autoz.template2 <= 47)]\n",
    "\n",
    "#plot\n",
    "fig, ax = plt.subplots()\n",
    "ax.plot(pg_elg.z1, pg_elg.z2, 'ro', label = 'PG + ELG')\n",
    "ax.plot(elg_pg.z1, elg_pg.z2, 'bx', label = 'ELG + PG')\n",
    "ax.plot(elg_elg.z1, elg_elg.z2, 'y*', label = 'ELG + ELG', alpha = 0.75)\n",
    "ax.plot(pg_pg.z1, pg_pg.z2, 'g>', label = 'PG + PG')\n",
    "ax.set_xlim(-0.05, 1.05)\n",
    "ax.set_ylim(-0.05, 1.05)\n",
    "ax.set_aspect(1)\n",
    "ax.legend()\n",
    "ax.set(title = 'Zoo Candidates Templates',\n",
    "      ylabel = 'z1',\n",
    "      xlabel = 'z2')\n",
    "\n",
    "#plt.savefig('/home/shawn/Desktop/links_autoz/visuals/png/li_candidate_templates.png')# "
   ]
  },
  {
   "cell_type": "code",
   "execution_count": 67,
   "metadata": {},
   "outputs": [
    {
     "data": {
      "text/plain": [
       "53"
      ]
     },
     "execution_count": 67,
     "metadata": {},
     "output_type": "execute_result"
    }
   ],
   "source": [
    "len(li_autoz)"
   ]
  },
  {
   "cell_type": "code",
   "execution_count": 68,
   "metadata": {},
   "outputs": [
    {
     "data": {
      "text/plain": [
       "16"
      ]
     },
     "execution_count": 68,
     "metadata": {},
     "output_type": "execute_result"
    }
   ],
   "source": [
    "len(zoo_autoz)"
   ]
  },
  {
   "cell_type": "markdown",
   "metadata": {},
   "source": [
    "## Now select Li and Zoo candidates based on sigma2 > 2 and R > 1.2"
   ]
  },
  {
   "cell_type": "code",
   "execution_count": 96,
   "metadata": {},
   "outputs": [
    {
     "name": "stdout",
     "output_type": "stream",
     "text": [
      "8 0\n"
     ]
    }
   ],
   "source": [
    "# selection\n",
    "li_autoz_select = li_autoz[(li_autoz.R > 1.2) & (li_autoz.sigma2 > 2)]\n",
    "zoo_autoz_select = zoo_autoz[(zoo_autoz.R > 1.2) & (zoo_autoz.sigma2 > 2)]\n",
    "print(len(li_autoz_select), len(zoo_autoz_select))"
   ]
  },
  {
   "cell_type": "markdown",
   "metadata": {},
   "source": [
    "## There are 8 Li candidates with potential double spectral profiles. The single Zoo candidate did not pass the cut."
   ]
  },
  {
   "cell_type": "code",
   "execution_count": 98,
   "metadata": {},
   "outputs": [],
   "source": [
    "#li_autoz_select.to_csv('/home/shawn/Desktop/links_autoz/files/csv/li_select_061220.csv')\n",
    "#li_autoz_select.to_csv('/home/shawn/Desktop/links_autoz/files/csv/li_select_latest.csv')"
   ]
  },
  {
   "cell_type": "code",
   "execution_count": null,
   "metadata": {},
   "outputs": [],
   "source": []
  }
 ],
 "metadata": {
  "kernelspec": {
   "display_name": "Python 3",
   "language": "python",
   "name": "python3"
  },
  "language_info": {
   "codemirror_mode": {
    "name": "ipython",
    "version": 3
   },
   "file_extension": ".py",
   "mimetype": "text/x-python",
   "name": "python",
   "nbconvert_exporter": "python",
   "pygments_lexer": "ipython3",
   "version": "3.6.10"
  }
 },
 "nbformat": 4,
 "nbformat_minor": 4
}
